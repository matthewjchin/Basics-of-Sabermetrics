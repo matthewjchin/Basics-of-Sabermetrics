{
 "cells": [
  {
   "cell_type": "markdown",
   "metadata": {},
   "source": [
    "# Batting Metrics\n",
    "### Author: Ryan Berns\n",
    "### Modified by Matthew Chin (2021)"
   ]
  },
  {
   "cell_type": "markdown",
   "metadata": {},
   "source": [
    "**Data**\n",
    "https://github.com/chadwickbureau/baseballdatabank"
   ]
  },
  {
   "cell_type": "code",
   "execution_count": 1,
   "metadata": {
    "ExecuteTime": {
     "end_time": "2019-01-19T13:23:33.766246Z",
     "start_time": "2019-01-19T13:23:33.703682Z"
    }
   },
   "outputs": [
    {
     "data": {
      "text/html": [
       "        <script type=\"text/javascript\">\n",
       "        window.PlotlyConfig = {MathJaxConfig: 'local'};\n",
       "        if (window.MathJax) {MathJax.Hub.Config({SVG: {font: \"STIX-Web\"}});}\n",
       "        if (typeof require !== 'undefined') {\n",
       "        require.undef(\"plotly\");\n",
       "        requirejs.config({\n",
       "            paths: {\n",
       "                'plotly': ['https://cdn.plot.ly/plotly-2.6.3.min']\n",
       "            }\n",
       "        });\n",
       "        require(['plotly'], function(Plotly) {\n",
       "            window._Plotly = Plotly;\n",
       "        });\n",
       "        }\n",
       "        </script>\n",
       "        "
      ]
     },
     "metadata": {},
     "output_type": "display_data"
    }
   ],
   "source": [
    "# plotly standard imports\n",
    "import plotly.graph_objs as go\n",
    "import chart_studio.plotly as py\n",
    "\n",
    "# Cufflinks wrapper on plotly\n",
    "import cufflinks\n",
    "\n",
    "# Data science imports\n",
    "import pandas as pd\n",
    "import numpy as np\n",
    "\n",
    "# Options for pandas\n",
    "pd.options.display.max_columns = 999\n",
    "\n",
    "# Display all cell outputs\n",
    "from IPython.core.interactiveshell import InteractiveShell\n",
    "InteractiveShell.ast_node_interactivity = 'all'\n",
    "\n",
    "# from __future__ import print_function, division\n",
    "import matplotlib as mpl\n",
    "import matplotlib.pyplot as plt\n",
    "# %matplotlib inline\n",
    "\n",
    "from plotly.offline import iplot\n",
    "cufflinks.go_offline()\n",
    "\n",
    "# Set global theme\n",
    "cufflinks.set_config_file(world_readable=True, theme='pearl')"
   ]
  },
  {
   "cell_type": "markdown",
   "metadata": {},
   "source": [
    "---\n",
    "## I. Batting Average & OBP"
   ]
  },
  {
   "cell_type": "code",
   "execution_count": 2,
   "metadata": {
    "ExecuteTime": {
     "end_time": "2019-01-19T13:15:48.350995Z",
     "start_time": "2019-01-19T13:15:46.106953Z"
    }
   },
   "outputs": [],
   "source": [
    "batting = pd.read_csv(\"https://raw.githubusercontent.com/chadwickbureau/baseballdatabank/master/core/Batting.csv\",sep=',')"
   ]
  },
  {
   "cell_type": "code",
   "execution_count": 3,
   "metadata": {
    "ExecuteTime": {
     "end_time": "2019-01-19T13:15:49.288119Z",
     "start_time": "2019-01-19T13:15:48.383179Z"
    },
    "scrolled": true
   },
   "outputs": [],
   "source": [
    "players = pd.read_csv(\"https://raw.githubusercontent.com/chadwickbureau/baseballdatabank/master/core/People.csv\",sep=',')"
   ]
  },
  {
   "cell_type": "code",
   "execution_count": 4,
   "metadata": {
    "ExecuteTime": {
     "end_time": "2019-01-19T13:15:49.469381Z",
     "start_time": "2019-01-19T13:15:49.352389Z"
    }
   },
   "outputs": [],
   "source": [
    "battingPlayers = pd.merge(batting,players,left_on=\"playerID\",right_on=\"playerID\",how='inner')"
   ]
  },
  {
   "cell_type": "code",
   "execution_count": 5,
   "metadata": {
    "ExecuteTime": {
     "end_time": "2019-01-19T13:15:49.724335Z",
     "start_time": "2019-01-19T13:15:49.551961Z"
    }
   },
   "outputs": [],
   "source": [
    "battingPlayers = battingPlayers.assign(age = (battingPlayers.yearID - battingPlayers.birthYear))"
   ]
  },
  {
   "cell_type": "markdown",
   "metadata": {},
   "source": [
    "---\n",
    "### Batting Average\n",
    "\n",
    "Batting average is the most common baseball metric which many passive fans also understand. As a refresher, batting average is just the proportion of at bats a player has that results in a hit.\n",
    "\n",
    "$Batting Average = \\frac{Hits}{At Bats}$"
   ]
  },
  {
   "cell_type": "code",
   "execution_count": 6,
   "metadata": {
    "ExecuteTime": {
     "end_time": "2019-01-19T13:15:56.701425Z",
     "start_time": "2019-01-19T13:15:56.610111Z"
    }
   },
   "outputs": [],
   "source": [
    "# Calculate Batting average\n",
    "battingPlayers = battingPlayers.assign(BA = round((battingPlayers.H/battingPlayers.AB),3))"
   ]
  },
  {
   "cell_type": "code",
   "execution_count": 7,
   "metadata": {
    "ExecuteTime": {
     "end_time": "2019-01-19T13:15:57.472048Z",
     "start_time": "2019-01-19T13:15:57.427171Z"
    },
    "scrolled": true
   },
   "outputs": [
    {
     "data": {
      "text/html": [
       "<div>\n",
       "<style scoped>\n",
       "    .dataframe tbody tr th:only-of-type {\n",
       "        vertical-align: middle;\n",
       "    }\n",
       "\n",
       "    .dataframe tbody tr th {\n",
       "        vertical-align: top;\n",
       "    }\n",
       "\n",
       "    .dataframe thead th {\n",
       "        text-align: right;\n",
       "    }\n",
       "</style>\n",
       "<table border=\"1\" class=\"dataframe\">\n",
       "  <thead>\n",
       "    <tr style=\"text-align: right;\">\n",
       "      <th></th>\n",
       "      <th>playerID</th>\n",
       "      <th>yearID</th>\n",
       "      <th>stint</th>\n",
       "      <th>teamID</th>\n",
       "      <th>lgID</th>\n",
       "      <th>G</th>\n",
       "      <th>AB</th>\n",
       "      <th>R</th>\n",
       "      <th>H</th>\n",
       "      <th>2B</th>\n",
       "      <th>3B</th>\n",
       "      <th>HR</th>\n",
       "      <th>RBI</th>\n",
       "      <th>SB</th>\n",
       "      <th>CS</th>\n",
       "      <th>BB</th>\n",
       "      <th>SO</th>\n",
       "      <th>IBB</th>\n",
       "      <th>HBP</th>\n",
       "      <th>SH</th>\n",
       "      <th>SF</th>\n",
       "      <th>GIDP</th>\n",
       "      <th>birthYear</th>\n",
       "      <th>birthMonth</th>\n",
       "      <th>birthDay</th>\n",
       "      <th>birthCountry</th>\n",
       "      <th>birthState</th>\n",
       "      <th>birthCity</th>\n",
       "      <th>deathYear</th>\n",
       "      <th>deathMonth</th>\n",
       "      <th>deathDay</th>\n",
       "      <th>deathCountry</th>\n",
       "      <th>deathState</th>\n",
       "      <th>deathCity</th>\n",
       "      <th>nameFirst</th>\n",
       "      <th>nameLast</th>\n",
       "      <th>nameGiven</th>\n",
       "      <th>weight</th>\n",
       "      <th>height</th>\n",
       "      <th>bats</th>\n",
       "      <th>throws</th>\n",
       "      <th>debut</th>\n",
       "      <th>finalGame</th>\n",
       "      <th>retroID</th>\n",
       "      <th>bbrefID</th>\n",
       "      <th>age</th>\n",
       "      <th>BA</th>\n",
       "    </tr>\n",
       "  </thead>\n",
       "  <tbody>\n",
       "    <tr>\n",
       "      <th>0</th>\n",
       "      <td>abercda01</td>\n",
       "      <td>1871</td>\n",
       "      <td>1</td>\n",
       "      <td>TRO</td>\n",
       "      <td>NaN</td>\n",
       "      <td>1</td>\n",
       "      <td>4</td>\n",
       "      <td>0</td>\n",
       "      <td>0</td>\n",
       "      <td>0</td>\n",
       "      <td>0</td>\n",
       "      <td>0</td>\n",
       "      <td>0.0</td>\n",
       "      <td>0.0</td>\n",
       "      <td>0.0</td>\n",
       "      <td>0</td>\n",
       "      <td>0.0</td>\n",
       "      <td>NaN</td>\n",
       "      <td>NaN</td>\n",
       "      <td>NaN</td>\n",
       "      <td>NaN</td>\n",
       "      <td>0.0</td>\n",
       "      <td>1850.0</td>\n",
       "      <td>1.0</td>\n",
       "      <td>2.0</td>\n",
       "      <td>USA</td>\n",
       "      <td>OK</td>\n",
       "      <td>Fort Towson</td>\n",
       "      <td>1939.0</td>\n",
       "      <td>11.0</td>\n",
       "      <td>11.0</td>\n",
       "      <td>USA</td>\n",
       "      <td>PA</td>\n",
       "      <td>Philadelphia</td>\n",
       "      <td>Frank</td>\n",
       "      <td>Abercrombie</td>\n",
       "      <td>Francis Patterson</td>\n",
       "      <td>NaN</td>\n",
       "      <td>NaN</td>\n",
       "      <td>NaN</td>\n",
       "      <td>NaN</td>\n",
       "      <td>1871-10-21</td>\n",
       "      <td>1871-10-21</td>\n",
       "      <td>aberd101</td>\n",
       "      <td>abercda01</td>\n",
       "      <td>21.0</td>\n",
       "      <td>0.000</td>\n",
       "    </tr>\n",
       "    <tr>\n",
       "      <th>1</th>\n",
       "      <td>addybo01</td>\n",
       "      <td>1871</td>\n",
       "      <td>1</td>\n",
       "      <td>RC1</td>\n",
       "      <td>NaN</td>\n",
       "      <td>25</td>\n",
       "      <td>118</td>\n",
       "      <td>30</td>\n",
       "      <td>32</td>\n",
       "      <td>6</td>\n",
       "      <td>0</td>\n",
       "      <td>0</td>\n",
       "      <td>13.0</td>\n",
       "      <td>8.0</td>\n",
       "      <td>1.0</td>\n",
       "      <td>4</td>\n",
       "      <td>0.0</td>\n",
       "      <td>NaN</td>\n",
       "      <td>NaN</td>\n",
       "      <td>NaN</td>\n",
       "      <td>NaN</td>\n",
       "      <td>0.0</td>\n",
       "      <td>1842.0</td>\n",
       "      <td>2.0</td>\n",
       "      <td>NaN</td>\n",
       "      <td>CAN</td>\n",
       "      <td>ON</td>\n",
       "      <td>Port Hope</td>\n",
       "      <td>1910.0</td>\n",
       "      <td>4.0</td>\n",
       "      <td>9.0</td>\n",
       "      <td>USA</td>\n",
       "      <td>ID</td>\n",
       "      <td>Pocatello</td>\n",
       "      <td>Bob</td>\n",
       "      <td>Addy</td>\n",
       "      <td>Robert Edward</td>\n",
       "      <td>160.0</td>\n",
       "      <td>68.0</td>\n",
       "      <td>L</td>\n",
       "      <td>L</td>\n",
       "      <td>1871-05-06</td>\n",
       "      <td>1877-10-06</td>\n",
       "      <td>addyb101</td>\n",
       "      <td>addybo01</td>\n",
       "      <td>29.0</td>\n",
       "      <td>0.271</td>\n",
       "    </tr>\n",
       "    <tr>\n",
       "      <th>2</th>\n",
       "      <td>addybo01</td>\n",
       "      <td>1873</td>\n",
       "      <td>1</td>\n",
       "      <td>PH2</td>\n",
       "      <td>NaN</td>\n",
       "      <td>10</td>\n",
       "      <td>51</td>\n",
       "      <td>12</td>\n",
       "      <td>16</td>\n",
       "      <td>1</td>\n",
       "      <td>0</td>\n",
       "      <td>0</td>\n",
       "      <td>10.0</td>\n",
       "      <td>1.0</td>\n",
       "      <td>1.0</td>\n",
       "      <td>2</td>\n",
       "      <td>0.0</td>\n",
       "      <td>NaN</td>\n",
       "      <td>NaN</td>\n",
       "      <td>NaN</td>\n",
       "      <td>NaN</td>\n",
       "      <td>0.0</td>\n",
       "      <td>1842.0</td>\n",
       "      <td>2.0</td>\n",
       "      <td>NaN</td>\n",
       "      <td>CAN</td>\n",
       "      <td>ON</td>\n",
       "      <td>Port Hope</td>\n",
       "      <td>1910.0</td>\n",
       "      <td>4.0</td>\n",
       "      <td>9.0</td>\n",
       "      <td>USA</td>\n",
       "      <td>ID</td>\n",
       "      <td>Pocatello</td>\n",
       "      <td>Bob</td>\n",
       "      <td>Addy</td>\n",
       "      <td>Robert Edward</td>\n",
       "      <td>160.0</td>\n",
       "      <td>68.0</td>\n",
       "      <td>L</td>\n",
       "      <td>L</td>\n",
       "      <td>1871-05-06</td>\n",
       "      <td>1877-10-06</td>\n",
       "      <td>addyb101</td>\n",
       "      <td>addybo01</td>\n",
       "      <td>31.0</td>\n",
       "      <td>0.314</td>\n",
       "    </tr>\n",
       "    <tr>\n",
       "      <th>3</th>\n",
       "      <td>addybo01</td>\n",
       "      <td>1873</td>\n",
       "      <td>2</td>\n",
       "      <td>BS1</td>\n",
       "      <td>NaN</td>\n",
       "      <td>31</td>\n",
       "      <td>152</td>\n",
       "      <td>37</td>\n",
       "      <td>54</td>\n",
       "      <td>6</td>\n",
       "      <td>3</td>\n",
       "      <td>1</td>\n",
       "      <td>32.0</td>\n",
       "      <td>6.0</td>\n",
       "      <td>5.0</td>\n",
       "      <td>2</td>\n",
       "      <td>1.0</td>\n",
       "      <td>NaN</td>\n",
       "      <td>NaN</td>\n",
       "      <td>NaN</td>\n",
       "      <td>NaN</td>\n",
       "      <td>0.0</td>\n",
       "      <td>1842.0</td>\n",
       "      <td>2.0</td>\n",
       "      <td>NaN</td>\n",
       "      <td>CAN</td>\n",
       "      <td>ON</td>\n",
       "      <td>Port Hope</td>\n",
       "      <td>1910.0</td>\n",
       "      <td>4.0</td>\n",
       "      <td>9.0</td>\n",
       "      <td>USA</td>\n",
       "      <td>ID</td>\n",
       "      <td>Pocatello</td>\n",
       "      <td>Bob</td>\n",
       "      <td>Addy</td>\n",
       "      <td>Robert Edward</td>\n",
       "      <td>160.0</td>\n",
       "      <td>68.0</td>\n",
       "      <td>L</td>\n",
       "      <td>L</td>\n",
       "      <td>1871-05-06</td>\n",
       "      <td>1877-10-06</td>\n",
       "      <td>addyb101</td>\n",
       "      <td>addybo01</td>\n",
       "      <td>31.0</td>\n",
       "      <td>0.355</td>\n",
       "    </tr>\n",
       "    <tr>\n",
       "      <th>4</th>\n",
       "      <td>addybo01</td>\n",
       "      <td>1874</td>\n",
       "      <td>1</td>\n",
       "      <td>HR1</td>\n",
       "      <td>NaN</td>\n",
       "      <td>50</td>\n",
       "      <td>213</td>\n",
       "      <td>25</td>\n",
       "      <td>51</td>\n",
       "      <td>9</td>\n",
       "      <td>2</td>\n",
       "      <td>0</td>\n",
       "      <td>22.0</td>\n",
       "      <td>4.0</td>\n",
       "      <td>2.0</td>\n",
       "      <td>1</td>\n",
       "      <td>1.0</td>\n",
       "      <td>NaN</td>\n",
       "      <td>NaN</td>\n",
       "      <td>NaN</td>\n",
       "      <td>NaN</td>\n",
       "      <td>0.0</td>\n",
       "      <td>1842.0</td>\n",
       "      <td>2.0</td>\n",
       "      <td>NaN</td>\n",
       "      <td>CAN</td>\n",
       "      <td>ON</td>\n",
       "      <td>Port Hope</td>\n",
       "      <td>1910.0</td>\n",
       "      <td>4.0</td>\n",
       "      <td>9.0</td>\n",
       "      <td>USA</td>\n",
       "      <td>ID</td>\n",
       "      <td>Pocatello</td>\n",
       "      <td>Bob</td>\n",
       "      <td>Addy</td>\n",
       "      <td>Robert Edward</td>\n",
       "      <td>160.0</td>\n",
       "      <td>68.0</td>\n",
       "      <td>L</td>\n",
       "      <td>L</td>\n",
       "      <td>1871-05-06</td>\n",
       "      <td>1877-10-06</td>\n",
       "      <td>addyb101</td>\n",
       "      <td>addybo01</td>\n",
       "      <td>32.0</td>\n",
       "      <td>0.239</td>\n",
       "    </tr>\n",
       "  </tbody>\n",
       "</table>\n",
       "</div>"
      ],
      "text/plain": [
       "    playerID  yearID  stint teamID lgID   G   AB   R   H  2B  3B  HR   RBI  \\\n",
       "0  abercda01    1871      1    TRO  NaN   1    4   0   0   0   0   0   0.0   \n",
       "1   addybo01    1871      1    RC1  NaN  25  118  30  32   6   0   0  13.0   \n",
       "2   addybo01    1873      1    PH2  NaN  10   51  12  16   1   0   0  10.0   \n",
       "3   addybo01    1873      2    BS1  NaN  31  152  37  54   6   3   1  32.0   \n",
       "4   addybo01    1874      1    HR1  NaN  50  213  25  51   9   2   0  22.0   \n",
       "\n",
       "    SB   CS  BB   SO  IBB  HBP  SH  SF  GIDP  birthYear  birthMonth  birthDay  \\\n",
       "0  0.0  0.0   0  0.0  NaN  NaN NaN NaN   0.0     1850.0         1.0       2.0   \n",
       "1  8.0  1.0   4  0.0  NaN  NaN NaN NaN   0.0     1842.0         2.0       NaN   \n",
       "2  1.0  1.0   2  0.0  NaN  NaN NaN NaN   0.0     1842.0         2.0       NaN   \n",
       "3  6.0  5.0   2  1.0  NaN  NaN NaN NaN   0.0     1842.0         2.0       NaN   \n",
       "4  4.0  2.0   1  1.0  NaN  NaN NaN NaN   0.0     1842.0         2.0       NaN   \n",
       "\n",
       "  birthCountry birthState    birthCity  deathYear  deathMonth  deathDay  \\\n",
       "0          USA         OK  Fort Towson     1939.0        11.0      11.0   \n",
       "1          CAN         ON    Port Hope     1910.0         4.0       9.0   \n",
       "2          CAN         ON    Port Hope     1910.0         4.0       9.0   \n",
       "3          CAN         ON    Port Hope     1910.0         4.0       9.0   \n",
       "4          CAN         ON    Port Hope     1910.0         4.0       9.0   \n",
       "\n",
       "  deathCountry deathState     deathCity nameFirst     nameLast  \\\n",
       "0          USA         PA  Philadelphia     Frank  Abercrombie   \n",
       "1          USA         ID     Pocatello       Bob         Addy   \n",
       "2          USA         ID     Pocatello       Bob         Addy   \n",
       "3          USA         ID     Pocatello       Bob         Addy   \n",
       "4          USA         ID     Pocatello       Bob         Addy   \n",
       "\n",
       "           nameGiven  weight  height bats throws       debut   finalGame  \\\n",
       "0  Francis Patterson     NaN     NaN  NaN    NaN  1871-10-21  1871-10-21   \n",
       "1      Robert Edward   160.0    68.0    L      L  1871-05-06  1877-10-06   \n",
       "2      Robert Edward   160.0    68.0    L      L  1871-05-06  1877-10-06   \n",
       "3      Robert Edward   160.0    68.0    L      L  1871-05-06  1877-10-06   \n",
       "4      Robert Edward   160.0    68.0    L      L  1871-05-06  1877-10-06   \n",
       "\n",
       "    retroID    bbrefID   age     BA  \n",
       "0  aberd101  abercda01  21.0  0.000  \n",
       "1  addyb101   addybo01  29.0  0.271  \n",
       "2  addyb101   addybo01  31.0  0.314  \n",
       "3  addyb101   addybo01  31.0  0.355  \n",
       "4  addyb101   addybo01  32.0  0.239  "
      ]
     },
     "execution_count": 7,
     "metadata": {},
     "output_type": "execute_result"
    }
   ],
   "source": [
    "battingPlayers.head()"
   ]
  },
  {
   "cell_type": "markdown",
   "metadata": {},
   "source": [
    "Let's take a look at the top batting averages for players with at least 100 at bats"
   ]
  },
  {
   "cell_type": "code",
   "execution_count": 8,
   "metadata": {
    "ExecuteTime": {
     "end_time": "2019-01-19T13:16:03.013177Z",
     "start_time": "2019-01-19T13:16:02.945656Z"
    }
   },
   "outputs": [
    {
     "data": {
      "text/html": [
       "<div>\n",
       "<style scoped>\n",
       "    .dataframe tbody tr th:only-of-type {\n",
       "        vertical-align: middle;\n",
       "    }\n",
       "\n",
       "    .dataframe tbody tr th {\n",
       "        vertical-align: top;\n",
       "    }\n",
       "\n",
       "    .dataframe thead th {\n",
       "        text-align: right;\n",
       "    }\n",
       "</style>\n",
       "<table border=\"1\" class=\"dataframe\">\n",
       "  <thead>\n",
       "    <tr style=\"text-align: right;\">\n",
       "      <th></th>\n",
       "      <th>nameFirst</th>\n",
       "      <th>nameLast</th>\n",
       "      <th>bats</th>\n",
       "      <th>yearID</th>\n",
       "      <th>teamID</th>\n",
       "      <th>age</th>\n",
       "      <th>BA</th>\n",
       "    </tr>\n",
       "  </thead>\n",
       "  <tbody>\n",
       "    <tr>\n",
       "      <th>390</th>\n",
       "      <td>Levi</td>\n",
       "      <td>Meyerle</td>\n",
       "      <td>R</td>\n",
       "      <td>1871</td>\n",
       "      <td>PH1</td>\n",
       "      <td>22.0</td>\n",
       "      <td>0.492</td>\n",
       "    </tr>\n",
       "    <tr>\n",
       "      <th>5476</th>\n",
       "      <td>Hugh</td>\n",
       "      <td>Duffy</td>\n",
       "      <td>R</td>\n",
       "      <td>1894</td>\n",
       "      <td>BSN</td>\n",
       "      <td>28.0</td>\n",
       "      <td>0.440</td>\n",
       "    </tr>\n",
       "    <tr>\n",
       "      <th>3185</th>\n",
       "      <td>Tip</td>\n",
       "      <td>O'Neill</td>\n",
       "      <td>R</td>\n",
       "      <td>1887</td>\n",
       "      <td>SL4</td>\n",
       "      <td>27.0</td>\n",
       "      <td>0.435</td>\n",
       "    </tr>\n",
       "    <tr>\n",
       "      <th>57</th>\n",
       "      <td>Ross</td>\n",
       "      <td>Barnes</td>\n",
       "      <td>R</td>\n",
       "      <td>1873</td>\n",
       "      <td>BS1</td>\n",
       "      <td>23.0</td>\n",
       "      <td>0.431</td>\n",
       "    </tr>\n",
       "    <tr>\n",
       "      <th>381</th>\n",
       "      <td>Cal</td>\n",
       "      <td>McVey</td>\n",
       "      <td>R</td>\n",
       "      <td>1871</td>\n",
       "      <td>BS1</td>\n",
       "      <td>22.0</td>\n",
       "      <td>0.431</td>\n",
       "    </tr>\n",
       "  </tbody>\n",
       "</table>\n",
       "</div>"
      ],
      "text/plain": [
       "     nameFirst nameLast bats  yearID teamID   age     BA\n",
       "390       Levi  Meyerle    R    1871    PH1  22.0  0.492\n",
       "5476      Hugh    Duffy    R    1894    BSN  28.0  0.440\n",
       "3185       Tip  O'Neill    R    1887    SL4  27.0  0.435\n",
       "57        Ross   Barnes    R    1873    BS1  23.0  0.431\n",
       "381        Cal    McVey    R    1871    BS1  22.0  0.431"
      ]
     },
     "execution_count": 8,
     "metadata": {},
     "output_type": "execute_result"
    }
   ],
   "source": [
    "battingPlayers.loc[(battingPlayers.AB > 100),['nameFirst','nameLast','bats','yearID','teamID','age','BA']]\\\n",
    "                .sort_values('BA', ascending=False).head()"
   ]
  },
  {
   "cell_type": "markdown",
   "metadata": {},
   "source": [
    "The top 5 leaders of single season batting average were in the 19th century.  Although still impressive, this might be more telling of the type of play of the day rather than legendary skills at the plate.\n",
    "> <h4> Who is Levi Meyerle?</h4> Levi was an infielder for the Philadelphia Athletics of the National Association.  The National Association was the predecessor of MLB's National league.  The league was founded in 1871 and lasted just 4 years until 1875.  Levi's record batting average of 0.492 is actually not considered a \"record\" by the MLB as they do not recognize statistics from the NA.  After bouncing around a bit after the 1871 season, Levin returned to the Philadelphia Athletics for their inaugural season in the National League.  The team was expelled from the league in 1876 when Levi went on to play for the Reds.  Levin finished his career with a career average of .356, 10 home runs and 276 RBIs.\n",
    "*Source: https://en.wikipedia.org/wiki/Levi_Meyerle*\n",
    "\n",
    "Let's see how batting average has trended in aggregate over the years"
   ]
  },
  {
   "cell_type": "code",
   "execution_count": 9,
   "metadata": {
    "ExecuteTime": {
     "end_time": "2019-01-19T13:19:35.815730Z",
     "start_time": "2019-01-19T13:19:35.793105Z"
    }
   },
   "outputs": [],
   "source": [
    "BA_by_yr = battingPlayers.loc[(battingPlayers.AB > 100),['yearID','BA']].groupby(battingPlayers.yearID).mean()"
   ]
  },
  {
   "cell_type": "code",
   "execution_count": 10,
   "metadata": {
    "ExecuteTime": {
     "end_time": "2019-01-19T13:23:37.851681Z",
     "start_time": "2019-01-19T13:23:37.737419Z"
    }
   },
   "outputs": [
    {
     "data": {
      "application/vnd.plotly.v1+json": {
       "config": {
        "linkText": "Export to plot.ly",
        "plotlyServerURL": "https://plot.ly",
        "showLink": true
       },
       "data": [
        {
         "line": {
          "color": "rgba(255, 153, 51, 1.0)",
          "dash": "solid",
          "shape": "linear",
          "width": 1.3
         },
         "marker": {
          "size": 12,
          "symbol": "circle"
         },
         "mode": "lines+markers",
         "name": "BA",
         "text": [
          0.29328571428571426,
          0.29577419354838713,
          0.2920000000000002,
          0.2745066666666668,
          0.2526956521739131,
          0.2605569620253164,
          0.272037037037037,
          0.25933928571428566,
          0.25211627906976736,
          0.24282352941176472,
          0.25813793103448274,
          0.24504827586206904,
          0.2524463276836159,
          0.2414825581395348,
          0.2379538461538461,
          0.23759313725490203,
          0.26222748815165864,
          0.23016964285714298,
          0.25374162679425827,
          0.25358823529411756,
          0.24859154929577448,
          0.23720731707317066,
          0.2746645569620251,
          0.3050063694267518,
          0.2920657894736843,
          0.2816036585365855,
          0.28343195266272175,
          0.2622923976608187,
          0.27528333333333344,
          0.271409090909091,
          0.2627793427230048,
          0.2635186915887851,
          0.2524333333333334,
          0.2399282511210763,
          0.24330188679245301,
          0.2427887323943662,
          0.24318536585365866,
          0.23941262135922356,
          0.24477511961722503,
          0.2483165829145729,
          0.2649024390243905,
          0.26901834862385315,
          0.2589145728643216,
          0.2556500000000001,
          0.2501525974025973,
          0.24973023255813945,
          0.24729665071770343,
          0.25581250000000005,
          0.2644467005076142,
          0.2715592417061611,
          0.291528846153846,
          0.28938834951456316,
          0.28241826923076907,
          0.2888962264150943,
          0.29292694063926944,
          0.28397087378640773,
          0.2854711538461539,
          0.2823521126760565,
          0.28977114427860673,
          0.2967962962962962,
          0.27976995305164304,
          0.27761764705882325,
          0.2692475247524753,
          0.28081463414634134,
          0.28026829268292686,
          0.285537313432836,
          0.27751256281407044,
          0.27745544554455454,
          0.2783761467889908,
          0.26917910447761195,
          0.2647860696517414,
          0.2539656862745099,
          0.2555000000000002,
          0.2634368932038836,
          0.26454838709677436,
          0.2573947368421054,
          0.26514925373134324,
          0.26529383886255925,
          0.26425892857142846,
          0.26624884792626735,
          0.2597488584474887,
          0.2580187793427229,
          0.2671049999999997,
          0.26508415841584154,
          0.26155399061032875,
          0.2594929577464789,
          0.2614227272727273,
          0.26126818181818195,
          0.26142325581395365,
          0.25939423076923085,
          0.2631302521008404,
          0.2613129770992365,
          0.2486165413533836,
          0.25382051282051277,
          0.2502395437262357,
          0.24983823529411756,
          0.24484701492537314,
          0.2388686131386861,
          0.24793712574850296,
          0.2548096676737163,
          0.2511329305135952,
          0.24416975308641978,
          0.25637202380952384,
          0.2548715596330275,
          0.25573469387755116,
          0.2546382352941175,
          0.26287323943661955,
          0.25545108695652163,
          0.2657855153203344,
          0.2634611260053622,
          0.25742950819672145,
          0.26163687150837994,
          0.2620487804878049,
          0.25898913043478283,
          0.25602150537634416,
          0.25631592689295035,
          0.2622354497354501,
          0.25372972972973,
          0.2536240208877285,
          0.2575013404825739,
          0.2531217616580312,
          0.25437142857142864,
          0.2650909090909091,
          0.27041525423728846,
          0.2680710659898479,
          0.2679684466019418,
          0.26681753554502363,
          0.26537585421412285,
          0.27165137614678914,
          0.26958333333333356,
          0.26374311926605526,
          0.2607945205479452,
          0.26274324324324316,
          0.26612296983758743,
          0.2647274881516589,
          0.2704032258064518,
          0.26789069767441864,
          0.26378959276018127,
          0.2611860986547087,
          0.2565483146067415,
          0.2539846153846152,
          0.25345982142857126,
          0.2527740492170023,
          0.2502681818181817,
          0.25455125284738067,
          0.2537862068965517,
          0.25498627002288327,
          0.24736160714285718,
          0.25223423423423436,
          0.25100000000000017
         ],
         "type": "scatter",
         "x": [
          1871,
          1872,
          1873,
          1874,
          1875,
          1876,
          1877,
          1878,
          1879,
          1880,
          1881,
          1882,
          1883,
          1884,
          1885,
          1886,
          1887,
          1888,
          1889,
          1890,
          1891,
          1892,
          1893,
          1894,
          1895,
          1896,
          1897,
          1898,
          1899,
          1900,
          1901,
          1902,
          1903,
          1904,
          1905,
          1906,
          1907,
          1908,
          1909,
          1910,
          1911,
          1912,
          1913,
          1914,
          1915,
          1916,
          1917,
          1918,
          1919,
          1920,
          1921,
          1922,
          1923,
          1924,
          1925,
          1926,
          1927,
          1928,
          1929,
          1930,
          1931,
          1932,
          1933,
          1934,
          1935,
          1936,
          1937,
          1938,
          1939,
          1940,
          1941,
          1942,
          1943,
          1944,
          1945,
          1946,
          1947,
          1948,
          1949,
          1950,
          1951,
          1952,
          1953,
          1954,
          1955,
          1956,
          1957,
          1958,
          1959,
          1960,
          1961,
          1962,
          1963,
          1964,
          1965,
          1966,
          1967,
          1968,
          1969,
          1970,
          1971,
          1972,
          1973,
          1974,
          1975,
          1976,
          1977,
          1978,
          1979,
          1980,
          1981,
          1982,
          1983,
          1984,
          1985,
          1986,
          1987,
          1988,
          1989,
          1990,
          1991,
          1992,
          1993,
          1994,
          1995,
          1996,
          1997,
          1998,
          1999,
          2000,
          2001,
          2002,
          2003,
          2004,
          2005,
          2006,
          2007,
          2008,
          2009,
          2010,
          2011,
          2012,
          2013,
          2014,
          2015,
          2016,
          2017,
          2018,
          2019,
          2020
         ],
         "y": [
          0.29328571428571426,
          0.29577419354838713,
          0.2920000000000002,
          0.2745066666666668,
          0.2526956521739131,
          0.2605569620253164,
          0.272037037037037,
          0.25933928571428566,
          0.25211627906976736,
          0.24282352941176472,
          0.25813793103448274,
          0.24504827586206904,
          0.2524463276836159,
          0.2414825581395348,
          0.2379538461538461,
          0.23759313725490203,
          0.26222748815165864,
          0.23016964285714298,
          0.25374162679425827,
          0.25358823529411756,
          0.24859154929577448,
          0.23720731707317066,
          0.2746645569620251,
          0.3050063694267518,
          0.2920657894736843,
          0.2816036585365855,
          0.28343195266272175,
          0.2622923976608187,
          0.27528333333333344,
          0.271409090909091,
          0.2627793427230048,
          0.2635186915887851,
          0.2524333333333334,
          0.2399282511210763,
          0.24330188679245301,
          0.2427887323943662,
          0.24318536585365866,
          0.23941262135922356,
          0.24477511961722503,
          0.2483165829145729,
          0.2649024390243905,
          0.26901834862385315,
          0.2589145728643216,
          0.2556500000000001,
          0.2501525974025973,
          0.24973023255813945,
          0.24729665071770343,
          0.25581250000000005,
          0.2644467005076142,
          0.2715592417061611,
          0.291528846153846,
          0.28938834951456316,
          0.28241826923076907,
          0.2888962264150943,
          0.29292694063926944,
          0.28397087378640773,
          0.2854711538461539,
          0.2823521126760565,
          0.28977114427860673,
          0.2967962962962962,
          0.27976995305164304,
          0.27761764705882325,
          0.2692475247524753,
          0.28081463414634134,
          0.28026829268292686,
          0.285537313432836,
          0.27751256281407044,
          0.27745544554455454,
          0.2783761467889908,
          0.26917910447761195,
          0.2647860696517414,
          0.2539656862745099,
          0.2555000000000002,
          0.2634368932038836,
          0.26454838709677436,
          0.2573947368421054,
          0.26514925373134324,
          0.26529383886255925,
          0.26425892857142846,
          0.26624884792626735,
          0.2597488584474887,
          0.2580187793427229,
          0.2671049999999997,
          0.26508415841584154,
          0.26155399061032875,
          0.2594929577464789,
          0.2614227272727273,
          0.26126818181818195,
          0.26142325581395365,
          0.25939423076923085,
          0.2631302521008404,
          0.2613129770992365,
          0.2486165413533836,
          0.25382051282051277,
          0.2502395437262357,
          0.24983823529411756,
          0.24484701492537314,
          0.2388686131386861,
          0.24793712574850296,
          0.2548096676737163,
          0.2511329305135952,
          0.24416975308641978,
          0.25637202380952384,
          0.2548715596330275,
          0.25573469387755116,
          0.2546382352941175,
          0.26287323943661955,
          0.25545108695652163,
          0.2657855153203344,
          0.2634611260053622,
          0.25742950819672145,
          0.26163687150837994,
          0.2620487804878049,
          0.25898913043478283,
          0.25602150537634416,
          0.25631592689295035,
          0.2622354497354501,
          0.25372972972973,
          0.2536240208877285,
          0.2575013404825739,
          0.2531217616580312,
          0.25437142857142864,
          0.2650909090909091,
          0.27041525423728846,
          0.2680710659898479,
          0.2679684466019418,
          0.26681753554502363,
          0.26537585421412285,
          0.27165137614678914,
          0.26958333333333356,
          0.26374311926605526,
          0.2607945205479452,
          0.26274324324324316,
          0.26612296983758743,
          0.2647274881516589,
          0.2704032258064518,
          0.26789069767441864,
          0.26378959276018127,
          0.2611860986547087,
          0.2565483146067415,
          0.2539846153846152,
          0.25345982142857126,
          0.2527740492170023,
          0.2502681818181817,
          0.25455125284738067,
          0.2537862068965517,
          0.25498627002288327,
          0.24736160714285718,
          0.25223423423423436,
          0.25100000000000017
         ]
        }
       ],
       "layout": {
        "legend": {
         "bgcolor": "#F5F6F9",
         "font": {
          "color": "#4D5663"
         }
        },
        "paper_bgcolor": "#F5F6F9",
        "plot_bgcolor": "#F5F6F9",
        "template": {
         "data": {
          "bar": [
           {
            "error_x": {
             "color": "#2a3f5f"
            },
            "error_y": {
             "color": "#2a3f5f"
            },
            "marker": {
             "line": {
              "color": "#E5ECF6",
              "width": 0.5
             },
             "pattern": {
              "fillmode": "overlay",
              "size": 10,
              "solidity": 0.2
             }
            },
            "type": "bar"
           }
          ],
          "barpolar": [
           {
            "marker": {
             "line": {
              "color": "#E5ECF6",
              "width": 0.5
             },
             "pattern": {
              "fillmode": "overlay",
              "size": 10,
              "solidity": 0.2
             }
            },
            "type": "barpolar"
           }
          ],
          "carpet": [
           {
            "aaxis": {
             "endlinecolor": "#2a3f5f",
             "gridcolor": "white",
             "linecolor": "white",
             "minorgridcolor": "white",
             "startlinecolor": "#2a3f5f"
            },
            "baxis": {
             "endlinecolor": "#2a3f5f",
             "gridcolor": "white",
             "linecolor": "white",
             "minorgridcolor": "white",
             "startlinecolor": "#2a3f5f"
            },
            "type": "carpet"
           }
          ],
          "choropleth": [
           {
            "colorbar": {
             "outlinewidth": 0,
             "ticks": ""
            },
            "type": "choropleth"
           }
          ],
          "contour": [
           {
            "colorbar": {
             "outlinewidth": 0,
             "ticks": ""
            },
            "colorscale": [
             [
              0,
              "#0d0887"
             ],
             [
              0.1111111111111111,
              "#46039f"
             ],
             [
              0.2222222222222222,
              "#7201a8"
             ],
             [
              0.3333333333333333,
              "#9c179e"
             ],
             [
              0.4444444444444444,
              "#bd3786"
             ],
             [
              0.5555555555555556,
              "#d8576b"
             ],
             [
              0.6666666666666666,
              "#ed7953"
             ],
             [
              0.7777777777777778,
              "#fb9f3a"
             ],
             [
              0.8888888888888888,
              "#fdca26"
             ],
             [
              1,
              "#f0f921"
             ]
            ],
            "type": "contour"
           }
          ],
          "contourcarpet": [
           {
            "colorbar": {
             "outlinewidth": 0,
             "ticks": ""
            },
            "type": "contourcarpet"
           }
          ],
          "heatmap": [
           {
            "colorbar": {
             "outlinewidth": 0,
             "ticks": ""
            },
            "colorscale": [
             [
              0,
              "#0d0887"
             ],
             [
              0.1111111111111111,
              "#46039f"
             ],
             [
              0.2222222222222222,
              "#7201a8"
             ],
             [
              0.3333333333333333,
              "#9c179e"
             ],
             [
              0.4444444444444444,
              "#bd3786"
             ],
             [
              0.5555555555555556,
              "#d8576b"
             ],
             [
              0.6666666666666666,
              "#ed7953"
             ],
             [
              0.7777777777777778,
              "#fb9f3a"
             ],
             [
              0.8888888888888888,
              "#fdca26"
             ],
             [
              1,
              "#f0f921"
             ]
            ],
            "type": "heatmap"
           }
          ],
          "heatmapgl": [
           {
            "colorbar": {
             "outlinewidth": 0,
             "ticks": ""
            },
            "colorscale": [
             [
              0,
              "#0d0887"
             ],
             [
              0.1111111111111111,
              "#46039f"
             ],
             [
              0.2222222222222222,
              "#7201a8"
             ],
             [
              0.3333333333333333,
              "#9c179e"
             ],
             [
              0.4444444444444444,
              "#bd3786"
             ],
             [
              0.5555555555555556,
              "#d8576b"
             ],
             [
              0.6666666666666666,
              "#ed7953"
             ],
             [
              0.7777777777777778,
              "#fb9f3a"
             ],
             [
              0.8888888888888888,
              "#fdca26"
             ],
             [
              1,
              "#f0f921"
             ]
            ],
            "type": "heatmapgl"
           }
          ],
          "histogram": [
           {
            "marker": {
             "pattern": {
              "fillmode": "overlay",
              "size": 10,
              "solidity": 0.2
             }
            },
            "type": "histogram"
           }
          ],
          "histogram2d": [
           {
            "colorbar": {
             "outlinewidth": 0,
             "ticks": ""
            },
            "colorscale": [
             [
              0,
              "#0d0887"
             ],
             [
              0.1111111111111111,
              "#46039f"
             ],
             [
              0.2222222222222222,
              "#7201a8"
             ],
             [
              0.3333333333333333,
              "#9c179e"
             ],
             [
              0.4444444444444444,
              "#bd3786"
             ],
             [
              0.5555555555555556,
              "#d8576b"
             ],
             [
              0.6666666666666666,
              "#ed7953"
             ],
             [
              0.7777777777777778,
              "#fb9f3a"
             ],
             [
              0.8888888888888888,
              "#fdca26"
             ],
             [
              1,
              "#f0f921"
             ]
            ],
            "type": "histogram2d"
           }
          ],
          "histogram2dcontour": [
           {
            "colorbar": {
             "outlinewidth": 0,
             "ticks": ""
            },
            "colorscale": [
             [
              0,
              "#0d0887"
             ],
             [
              0.1111111111111111,
              "#46039f"
             ],
             [
              0.2222222222222222,
              "#7201a8"
             ],
             [
              0.3333333333333333,
              "#9c179e"
             ],
             [
              0.4444444444444444,
              "#bd3786"
             ],
             [
              0.5555555555555556,
              "#d8576b"
             ],
             [
              0.6666666666666666,
              "#ed7953"
             ],
             [
              0.7777777777777778,
              "#fb9f3a"
             ],
             [
              0.8888888888888888,
              "#fdca26"
             ],
             [
              1,
              "#f0f921"
             ]
            ],
            "type": "histogram2dcontour"
           }
          ],
          "mesh3d": [
           {
            "colorbar": {
             "outlinewidth": 0,
             "ticks": ""
            },
            "type": "mesh3d"
           }
          ],
          "parcoords": [
           {
            "line": {
             "colorbar": {
              "outlinewidth": 0,
              "ticks": ""
             }
            },
            "type": "parcoords"
           }
          ],
          "pie": [
           {
            "automargin": true,
            "type": "pie"
           }
          ],
          "scatter": [
           {
            "marker": {
             "colorbar": {
              "outlinewidth": 0,
              "ticks": ""
             }
            },
            "type": "scatter"
           }
          ],
          "scatter3d": [
           {
            "line": {
             "colorbar": {
              "outlinewidth": 0,
              "ticks": ""
             }
            },
            "marker": {
             "colorbar": {
              "outlinewidth": 0,
              "ticks": ""
             }
            },
            "type": "scatter3d"
           }
          ],
          "scattercarpet": [
           {
            "marker": {
             "colorbar": {
              "outlinewidth": 0,
              "ticks": ""
             }
            },
            "type": "scattercarpet"
           }
          ],
          "scattergeo": [
           {
            "marker": {
             "colorbar": {
              "outlinewidth": 0,
              "ticks": ""
             }
            },
            "type": "scattergeo"
           }
          ],
          "scattergl": [
           {
            "marker": {
             "colorbar": {
              "outlinewidth": 0,
              "ticks": ""
             }
            },
            "type": "scattergl"
           }
          ],
          "scattermapbox": [
           {
            "marker": {
             "colorbar": {
              "outlinewidth": 0,
              "ticks": ""
             }
            },
            "type": "scattermapbox"
           }
          ],
          "scatterpolar": [
           {
            "marker": {
             "colorbar": {
              "outlinewidth": 0,
              "ticks": ""
             }
            },
            "type": "scatterpolar"
           }
          ],
          "scatterpolargl": [
           {
            "marker": {
             "colorbar": {
              "outlinewidth": 0,
              "ticks": ""
             }
            },
            "type": "scatterpolargl"
           }
          ],
          "scatterternary": [
           {
            "marker": {
             "colorbar": {
              "outlinewidth": 0,
              "ticks": ""
             }
            },
            "type": "scatterternary"
           }
          ],
          "surface": [
           {
            "colorbar": {
             "outlinewidth": 0,
             "ticks": ""
            },
            "colorscale": [
             [
              0,
              "#0d0887"
             ],
             [
              0.1111111111111111,
              "#46039f"
             ],
             [
              0.2222222222222222,
              "#7201a8"
             ],
             [
              0.3333333333333333,
              "#9c179e"
             ],
             [
              0.4444444444444444,
              "#bd3786"
             ],
             [
              0.5555555555555556,
              "#d8576b"
             ],
             [
              0.6666666666666666,
              "#ed7953"
             ],
             [
              0.7777777777777778,
              "#fb9f3a"
             ],
             [
              0.8888888888888888,
              "#fdca26"
             ],
             [
              1,
              "#f0f921"
             ]
            ],
            "type": "surface"
           }
          ],
          "table": [
           {
            "cells": {
             "fill": {
              "color": "#EBF0F8"
             },
             "line": {
              "color": "white"
             }
            },
            "header": {
             "fill": {
              "color": "#C8D4E3"
             },
             "line": {
              "color": "white"
             }
            },
            "type": "table"
           }
          ]
         },
         "layout": {
          "annotationdefaults": {
           "arrowcolor": "#2a3f5f",
           "arrowhead": 0,
           "arrowwidth": 1
          },
          "autotypenumbers": "strict",
          "coloraxis": {
           "colorbar": {
            "outlinewidth": 0,
            "ticks": ""
           }
          },
          "colorscale": {
           "diverging": [
            [
             0,
             "#8e0152"
            ],
            [
             0.1,
             "#c51b7d"
            ],
            [
             0.2,
             "#de77ae"
            ],
            [
             0.3,
             "#f1b6da"
            ],
            [
             0.4,
             "#fde0ef"
            ],
            [
             0.5,
             "#f7f7f7"
            ],
            [
             0.6,
             "#e6f5d0"
            ],
            [
             0.7,
             "#b8e186"
            ],
            [
             0.8,
             "#7fbc41"
            ],
            [
             0.9,
             "#4d9221"
            ],
            [
             1,
             "#276419"
            ]
           ],
           "sequential": [
            [
             0,
             "#0d0887"
            ],
            [
             0.1111111111111111,
             "#46039f"
            ],
            [
             0.2222222222222222,
             "#7201a8"
            ],
            [
             0.3333333333333333,
             "#9c179e"
            ],
            [
             0.4444444444444444,
             "#bd3786"
            ],
            [
             0.5555555555555556,
             "#d8576b"
            ],
            [
             0.6666666666666666,
             "#ed7953"
            ],
            [
             0.7777777777777778,
             "#fb9f3a"
            ],
            [
             0.8888888888888888,
             "#fdca26"
            ],
            [
             1,
             "#f0f921"
            ]
           ],
           "sequentialminus": [
            [
             0,
             "#0d0887"
            ],
            [
             0.1111111111111111,
             "#46039f"
            ],
            [
             0.2222222222222222,
             "#7201a8"
            ],
            [
             0.3333333333333333,
             "#9c179e"
            ],
            [
             0.4444444444444444,
             "#bd3786"
            ],
            [
             0.5555555555555556,
             "#d8576b"
            ],
            [
             0.6666666666666666,
             "#ed7953"
            ],
            [
             0.7777777777777778,
             "#fb9f3a"
            ],
            [
             0.8888888888888888,
             "#fdca26"
            ],
            [
             1,
             "#f0f921"
            ]
           ]
          },
          "colorway": [
           "#636efa",
           "#EF553B",
           "#00cc96",
           "#ab63fa",
           "#FFA15A",
           "#19d3f3",
           "#FF6692",
           "#B6E880",
           "#FF97FF",
           "#FECB52"
          ],
          "font": {
           "color": "#2a3f5f"
          },
          "geo": {
           "bgcolor": "white",
           "lakecolor": "white",
           "landcolor": "#E5ECF6",
           "showlakes": true,
           "showland": true,
           "subunitcolor": "white"
          },
          "hoverlabel": {
           "align": "left"
          },
          "hovermode": "closest",
          "mapbox": {
           "style": "light"
          },
          "paper_bgcolor": "white",
          "plot_bgcolor": "#E5ECF6",
          "polar": {
           "angularaxis": {
            "gridcolor": "white",
            "linecolor": "white",
            "ticks": ""
           },
           "bgcolor": "#E5ECF6",
           "radialaxis": {
            "gridcolor": "white",
            "linecolor": "white",
            "ticks": ""
           }
          },
          "scene": {
           "xaxis": {
            "backgroundcolor": "#E5ECF6",
            "gridcolor": "white",
            "gridwidth": 2,
            "linecolor": "white",
            "showbackground": true,
            "ticks": "",
            "zerolinecolor": "white"
           },
           "yaxis": {
            "backgroundcolor": "#E5ECF6",
            "gridcolor": "white",
            "gridwidth": 2,
            "linecolor": "white",
            "showbackground": true,
            "ticks": "",
            "zerolinecolor": "white"
           },
           "zaxis": {
            "backgroundcolor": "#E5ECF6",
            "gridcolor": "white",
            "gridwidth": 2,
            "linecolor": "white",
            "showbackground": true,
            "ticks": "",
            "zerolinecolor": "white"
           }
          },
          "shapedefaults": {
           "line": {
            "color": "#2a3f5f"
           }
          },
          "ternary": {
           "aaxis": {
            "gridcolor": "white",
            "linecolor": "white",
            "ticks": ""
           },
           "baxis": {
            "gridcolor": "white",
            "linecolor": "white",
            "ticks": ""
           },
           "bgcolor": "#E5ECF6",
           "caxis": {
            "gridcolor": "white",
            "linecolor": "white",
            "ticks": ""
           }
          },
          "title": {
           "x": 0.05
          },
          "xaxis": {
           "automargin": true,
           "gridcolor": "white",
           "linecolor": "white",
           "ticks": "",
           "title": {
            "standoff": 15
           },
           "zerolinecolor": "white",
           "zerolinewidth": 2
          },
          "yaxis": {
           "automargin": true,
           "gridcolor": "white",
           "linecolor": "white",
           "ticks": "",
           "title": {
            "standoff": 15
           },
           "zerolinecolor": "white",
           "zerolinewidth": 2
          }
         }
        },
        "title": {
         "font": {
          "color": "#4D5663"
         },
         "text": "Batting Average by Season"
        },
        "xaxis": {
         "gridcolor": "#E1E5ED",
         "showgrid": true,
         "tickfont": {
          "color": "#4D5663"
         },
         "title": {
          "font": {
           "color": "#4D5663"
          },
          "text": "Season"
         },
         "zerolinecolor": "#E1E5ED"
        },
        "yaxis": {
         "gridcolor": "#E1E5ED",
         "showgrid": true,
         "tickfont": {
          "color": "#4D5663"
         },
         "title": {
          "font": {
           "color": "#4D5663"
          },
          "text": "Batting Average"
         },
         "zerolinecolor": "#E1E5ED"
        }
       }
      },
      "text/html": [
       "<div>                            <div id=\"1fe410b7-1519-4bc6-bb8c-cc373bc5311c\" class=\"plotly-graph-div\" style=\"height:525px; width:100%;\"></div>            <script type=\"text/javascript\">                require([\"plotly\"], function(Plotly) {                    window.PLOTLYENV=window.PLOTLYENV || {};\n",
       "                    window.PLOTLYENV.BASE_URL='https://plot.ly';                                    if (document.getElementById(\"1fe410b7-1519-4bc6-bb8c-cc373bc5311c\")) {                    Plotly.newPlot(                        \"1fe410b7-1519-4bc6-bb8c-cc373bc5311c\",                        [{\"line\":{\"color\":\"rgba(255, 153, 51, 1.0)\",\"dash\":\"solid\",\"shape\":\"linear\",\"width\":1.3},\"marker\":{\"size\":12,\"symbol\":\"circle\"},\"mode\":\"lines+markers\",\"name\":\"BA\",\"text\":[0.29328571428571426,0.29577419354838713,0.2920000000000002,0.2745066666666668,0.2526956521739131,0.2605569620253164,0.272037037037037,0.25933928571428566,0.25211627906976736,0.24282352941176472,0.25813793103448274,0.24504827586206904,0.2524463276836159,0.2414825581395348,0.2379538461538461,0.23759313725490203,0.26222748815165864,0.23016964285714298,0.25374162679425827,0.25358823529411756,0.24859154929577448,0.23720731707317066,0.2746645569620251,0.3050063694267518,0.2920657894736843,0.2816036585365855,0.28343195266272175,0.2622923976608187,0.27528333333333344,0.271409090909091,0.2627793427230048,0.2635186915887851,0.2524333333333334,0.2399282511210763,0.24330188679245301,0.2427887323943662,0.24318536585365866,0.23941262135922356,0.24477511961722503,0.2483165829145729,0.2649024390243905,0.26901834862385315,0.2589145728643216,0.2556500000000001,0.2501525974025973,0.24973023255813945,0.24729665071770343,0.25581250000000005,0.2644467005076142,0.2715592417061611,0.291528846153846,0.28938834951456316,0.28241826923076907,0.2888962264150943,0.29292694063926944,0.28397087378640773,0.2854711538461539,0.2823521126760565,0.28977114427860673,0.2967962962962962,0.27976995305164304,0.27761764705882325,0.2692475247524753,0.28081463414634134,0.28026829268292686,0.285537313432836,0.27751256281407044,0.27745544554455454,0.2783761467889908,0.26917910447761195,0.2647860696517414,0.2539656862745099,0.2555000000000002,0.2634368932038836,0.26454838709677436,0.2573947368421054,0.26514925373134324,0.26529383886255925,0.26425892857142846,0.26624884792626735,0.2597488584474887,0.2580187793427229,0.2671049999999997,0.26508415841584154,0.26155399061032875,0.2594929577464789,0.2614227272727273,0.26126818181818195,0.26142325581395365,0.25939423076923085,0.2631302521008404,0.2613129770992365,0.2486165413533836,0.25382051282051277,0.2502395437262357,0.24983823529411756,0.24484701492537314,0.2388686131386861,0.24793712574850296,0.2548096676737163,0.2511329305135952,0.24416975308641978,0.25637202380952384,0.2548715596330275,0.25573469387755116,0.2546382352941175,0.26287323943661955,0.25545108695652163,0.2657855153203344,0.2634611260053622,0.25742950819672145,0.26163687150837994,0.2620487804878049,0.25898913043478283,0.25602150537634416,0.25631592689295035,0.2622354497354501,0.25372972972973,0.2536240208877285,0.2575013404825739,0.2531217616580312,0.25437142857142864,0.2650909090909091,0.27041525423728846,0.2680710659898479,0.2679684466019418,0.26681753554502363,0.26537585421412285,0.27165137614678914,0.26958333333333356,0.26374311926605526,0.2607945205479452,0.26274324324324316,0.26612296983758743,0.2647274881516589,0.2704032258064518,0.26789069767441864,0.26378959276018127,0.2611860986547087,0.2565483146067415,0.2539846153846152,0.25345982142857126,0.2527740492170023,0.2502681818181817,0.25455125284738067,0.2537862068965517,0.25498627002288327,0.24736160714285718,0.25223423423423436,0.25100000000000017],\"x\":[1871,1872,1873,1874,1875,1876,1877,1878,1879,1880,1881,1882,1883,1884,1885,1886,1887,1888,1889,1890,1891,1892,1893,1894,1895,1896,1897,1898,1899,1900,1901,1902,1903,1904,1905,1906,1907,1908,1909,1910,1911,1912,1913,1914,1915,1916,1917,1918,1919,1920,1921,1922,1923,1924,1925,1926,1927,1928,1929,1930,1931,1932,1933,1934,1935,1936,1937,1938,1939,1940,1941,1942,1943,1944,1945,1946,1947,1948,1949,1950,1951,1952,1953,1954,1955,1956,1957,1958,1959,1960,1961,1962,1963,1964,1965,1966,1967,1968,1969,1970,1971,1972,1973,1974,1975,1976,1977,1978,1979,1980,1981,1982,1983,1984,1985,1986,1987,1988,1989,1990,1991,1992,1993,1994,1995,1996,1997,1998,1999,2000,2001,2002,2003,2004,2005,2006,2007,2008,2009,2010,2011,2012,2013,2014,2015,2016,2017,2018,2019,2020],\"y\":[0.29328571428571426,0.29577419354838713,0.2920000000000002,0.2745066666666668,0.2526956521739131,0.2605569620253164,0.272037037037037,0.25933928571428566,0.25211627906976736,0.24282352941176472,0.25813793103448274,0.24504827586206904,0.2524463276836159,0.2414825581395348,0.2379538461538461,0.23759313725490203,0.26222748815165864,0.23016964285714298,0.25374162679425827,0.25358823529411756,0.24859154929577448,0.23720731707317066,0.2746645569620251,0.3050063694267518,0.2920657894736843,0.2816036585365855,0.28343195266272175,0.2622923976608187,0.27528333333333344,0.271409090909091,0.2627793427230048,0.2635186915887851,0.2524333333333334,0.2399282511210763,0.24330188679245301,0.2427887323943662,0.24318536585365866,0.23941262135922356,0.24477511961722503,0.2483165829145729,0.2649024390243905,0.26901834862385315,0.2589145728643216,0.2556500000000001,0.2501525974025973,0.24973023255813945,0.24729665071770343,0.25581250000000005,0.2644467005076142,0.2715592417061611,0.291528846153846,0.28938834951456316,0.28241826923076907,0.2888962264150943,0.29292694063926944,0.28397087378640773,0.2854711538461539,0.2823521126760565,0.28977114427860673,0.2967962962962962,0.27976995305164304,0.27761764705882325,0.2692475247524753,0.28081463414634134,0.28026829268292686,0.285537313432836,0.27751256281407044,0.27745544554455454,0.2783761467889908,0.26917910447761195,0.2647860696517414,0.2539656862745099,0.2555000000000002,0.2634368932038836,0.26454838709677436,0.2573947368421054,0.26514925373134324,0.26529383886255925,0.26425892857142846,0.26624884792626735,0.2597488584474887,0.2580187793427229,0.2671049999999997,0.26508415841584154,0.26155399061032875,0.2594929577464789,0.2614227272727273,0.26126818181818195,0.26142325581395365,0.25939423076923085,0.2631302521008404,0.2613129770992365,0.2486165413533836,0.25382051282051277,0.2502395437262357,0.24983823529411756,0.24484701492537314,0.2388686131386861,0.24793712574850296,0.2548096676737163,0.2511329305135952,0.24416975308641978,0.25637202380952384,0.2548715596330275,0.25573469387755116,0.2546382352941175,0.26287323943661955,0.25545108695652163,0.2657855153203344,0.2634611260053622,0.25742950819672145,0.26163687150837994,0.2620487804878049,0.25898913043478283,0.25602150537634416,0.25631592689295035,0.2622354497354501,0.25372972972973,0.2536240208877285,0.2575013404825739,0.2531217616580312,0.25437142857142864,0.2650909090909091,0.27041525423728846,0.2680710659898479,0.2679684466019418,0.26681753554502363,0.26537585421412285,0.27165137614678914,0.26958333333333356,0.26374311926605526,0.2607945205479452,0.26274324324324316,0.26612296983758743,0.2647274881516589,0.2704032258064518,0.26789069767441864,0.26378959276018127,0.2611860986547087,0.2565483146067415,0.2539846153846152,0.25345982142857126,0.2527740492170023,0.2502681818181817,0.25455125284738067,0.2537862068965517,0.25498627002288327,0.24736160714285718,0.25223423423423436,0.25100000000000017],\"type\":\"scatter\"}],                        {\"legend\":{\"bgcolor\":\"#F5F6F9\",\"font\":{\"color\":\"#4D5663\"}},\"paper_bgcolor\":\"#F5F6F9\",\"plot_bgcolor\":\"#F5F6F9\",\"template\":{\"data\":{\"barpolar\":[{\"marker\":{\"line\":{\"color\":\"#E5ECF6\",\"width\":0.5},\"pattern\":{\"fillmode\":\"overlay\",\"size\":10,\"solidity\":0.2}},\"type\":\"barpolar\"}],\"bar\":[{\"error_x\":{\"color\":\"#2a3f5f\"},\"error_y\":{\"color\":\"#2a3f5f\"},\"marker\":{\"line\":{\"color\":\"#E5ECF6\",\"width\":0.5},\"pattern\":{\"fillmode\":\"overlay\",\"size\":10,\"solidity\":0.2}},\"type\":\"bar\"}],\"carpet\":[{\"aaxis\":{\"endlinecolor\":\"#2a3f5f\",\"gridcolor\":\"white\",\"linecolor\":\"white\",\"minorgridcolor\":\"white\",\"startlinecolor\":\"#2a3f5f\"},\"baxis\":{\"endlinecolor\":\"#2a3f5f\",\"gridcolor\":\"white\",\"linecolor\":\"white\",\"minorgridcolor\":\"white\",\"startlinecolor\":\"#2a3f5f\"},\"type\":\"carpet\"}],\"choropleth\":[{\"colorbar\":{\"outlinewidth\":0,\"ticks\":\"\"},\"type\":\"choropleth\"}],\"contourcarpet\":[{\"colorbar\":{\"outlinewidth\":0,\"ticks\":\"\"},\"type\":\"contourcarpet\"}],\"contour\":[{\"colorbar\":{\"outlinewidth\":0,\"ticks\":\"\"},\"colorscale\":[[0.0,\"#0d0887\"],[0.1111111111111111,\"#46039f\"],[0.2222222222222222,\"#7201a8\"],[0.3333333333333333,\"#9c179e\"],[0.4444444444444444,\"#bd3786\"],[0.5555555555555556,\"#d8576b\"],[0.6666666666666666,\"#ed7953\"],[0.7777777777777778,\"#fb9f3a\"],[0.8888888888888888,\"#fdca26\"],[1.0,\"#f0f921\"]],\"type\":\"contour\"}],\"heatmapgl\":[{\"colorbar\":{\"outlinewidth\":0,\"ticks\":\"\"},\"colorscale\":[[0.0,\"#0d0887\"],[0.1111111111111111,\"#46039f\"],[0.2222222222222222,\"#7201a8\"],[0.3333333333333333,\"#9c179e\"],[0.4444444444444444,\"#bd3786\"],[0.5555555555555556,\"#d8576b\"],[0.6666666666666666,\"#ed7953\"],[0.7777777777777778,\"#fb9f3a\"],[0.8888888888888888,\"#fdca26\"],[1.0,\"#f0f921\"]],\"type\":\"heatmapgl\"}],\"heatmap\":[{\"colorbar\":{\"outlinewidth\":0,\"ticks\":\"\"},\"colorscale\":[[0.0,\"#0d0887\"],[0.1111111111111111,\"#46039f\"],[0.2222222222222222,\"#7201a8\"],[0.3333333333333333,\"#9c179e\"],[0.4444444444444444,\"#bd3786\"],[0.5555555555555556,\"#d8576b\"],[0.6666666666666666,\"#ed7953\"],[0.7777777777777778,\"#fb9f3a\"],[0.8888888888888888,\"#fdca26\"],[1.0,\"#f0f921\"]],\"type\":\"heatmap\"}],\"histogram2dcontour\":[{\"colorbar\":{\"outlinewidth\":0,\"ticks\":\"\"},\"colorscale\":[[0.0,\"#0d0887\"],[0.1111111111111111,\"#46039f\"],[0.2222222222222222,\"#7201a8\"],[0.3333333333333333,\"#9c179e\"],[0.4444444444444444,\"#bd3786\"],[0.5555555555555556,\"#d8576b\"],[0.6666666666666666,\"#ed7953\"],[0.7777777777777778,\"#fb9f3a\"],[0.8888888888888888,\"#fdca26\"],[1.0,\"#f0f921\"]],\"type\":\"histogram2dcontour\"}],\"histogram2d\":[{\"colorbar\":{\"outlinewidth\":0,\"ticks\":\"\"},\"colorscale\":[[0.0,\"#0d0887\"],[0.1111111111111111,\"#46039f\"],[0.2222222222222222,\"#7201a8\"],[0.3333333333333333,\"#9c179e\"],[0.4444444444444444,\"#bd3786\"],[0.5555555555555556,\"#d8576b\"],[0.6666666666666666,\"#ed7953\"],[0.7777777777777778,\"#fb9f3a\"],[0.8888888888888888,\"#fdca26\"],[1.0,\"#f0f921\"]],\"type\":\"histogram2d\"}],\"histogram\":[{\"marker\":{\"pattern\":{\"fillmode\":\"overlay\",\"size\":10,\"solidity\":0.2}},\"type\":\"histogram\"}],\"mesh3d\":[{\"colorbar\":{\"outlinewidth\":0,\"ticks\":\"\"},\"type\":\"mesh3d\"}],\"parcoords\":[{\"line\":{\"colorbar\":{\"outlinewidth\":0,\"ticks\":\"\"}},\"type\":\"parcoords\"}],\"pie\":[{\"automargin\":true,\"type\":\"pie\"}],\"scatter3d\":[{\"line\":{\"colorbar\":{\"outlinewidth\":0,\"ticks\":\"\"}},\"marker\":{\"colorbar\":{\"outlinewidth\":0,\"ticks\":\"\"}},\"type\":\"scatter3d\"}],\"scattercarpet\":[{\"marker\":{\"colorbar\":{\"outlinewidth\":0,\"ticks\":\"\"}},\"type\":\"scattercarpet\"}],\"scattergeo\":[{\"marker\":{\"colorbar\":{\"outlinewidth\":0,\"ticks\":\"\"}},\"type\":\"scattergeo\"}],\"scattergl\":[{\"marker\":{\"colorbar\":{\"outlinewidth\":0,\"ticks\":\"\"}},\"type\":\"scattergl\"}],\"scattermapbox\":[{\"marker\":{\"colorbar\":{\"outlinewidth\":0,\"ticks\":\"\"}},\"type\":\"scattermapbox\"}],\"scatterpolargl\":[{\"marker\":{\"colorbar\":{\"outlinewidth\":0,\"ticks\":\"\"}},\"type\":\"scatterpolargl\"}],\"scatterpolar\":[{\"marker\":{\"colorbar\":{\"outlinewidth\":0,\"ticks\":\"\"}},\"type\":\"scatterpolar\"}],\"scatter\":[{\"marker\":{\"colorbar\":{\"outlinewidth\":0,\"ticks\":\"\"}},\"type\":\"scatter\"}],\"scatterternary\":[{\"marker\":{\"colorbar\":{\"outlinewidth\":0,\"ticks\":\"\"}},\"type\":\"scatterternary\"}],\"surface\":[{\"colorbar\":{\"outlinewidth\":0,\"ticks\":\"\"},\"colorscale\":[[0.0,\"#0d0887\"],[0.1111111111111111,\"#46039f\"],[0.2222222222222222,\"#7201a8\"],[0.3333333333333333,\"#9c179e\"],[0.4444444444444444,\"#bd3786\"],[0.5555555555555556,\"#d8576b\"],[0.6666666666666666,\"#ed7953\"],[0.7777777777777778,\"#fb9f3a\"],[0.8888888888888888,\"#fdca26\"],[1.0,\"#f0f921\"]],\"type\":\"surface\"}],\"table\":[{\"cells\":{\"fill\":{\"color\":\"#EBF0F8\"},\"line\":{\"color\":\"white\"}},\"header\":{\"fill\":{\"color\":\"#C8D4E3\"},\"line\":{\"color\":\"white\"}},\"type\":\"table\"}]},\"layout\":{\"annotationdefaults\":{\"arrowcolor\":\"#2a3f5f\",\"arrowhead\":0,\"arrowwidth\":1},\"autotypenumbers\":\"strict\",\"coloraxis\":{\"colorbar\":{\"outlinewidth\":0,\"ticks\":\"\"}},\"colorscale\":{\"diverging\":[[0,\"#8e0152\"],[0.1,\"#c51b7d\"],[0.2,\"#de77ae\"],[0.3,\"#f1b6da\"],[0.4,\"#fde0ef\"],[0.5,\"#f7f7f7\"],[0.6,\"#e6f5d0\"],[0.7,\"#b8e186\"],[0.8,\"#7fbc41\"],[0.9,\"#4d9221\"],[1,\"#276419\"]],\"sequential\":[[0.0,\"#0d0887\"],[0.1111111111111111,\"#46039f\"],[0.2222222222222222,\"#7201a8\"],[0.3333333333333333,\"#9c179e\"],[0.4444444444444444,\"#bd3786\"],[0.5555555555555556,\"#d8576b\"],[0.6666666666666666,\"#ed7953\"],[0.7777777777777778,\"#fb9f3a\"],[0.8888888888888888,\"#fdca26\"],[1.0,\"#f0f921\"]],\"sequentialminus\":[[0.0,\"#0d0887\"],[0.1111111111111111,\"#46039f\"],[0.2222222222222222,\"#7201a8\"],[0.3333333333333333,\"#9c179e\"],[0.4444444444444444,\"#bd3786\"],[0.5555555555555556,\"#d8576b\"],[0.6666666666666666,\"#ed7953\"],[0.7777777777777778,\"#fb9f3a\"],[0.8888888888888888,\"#fdca26\"],[1.0,\"#f0f921\"]]},\"colorway\":[\"#636efa\",\"#EF553B\",\"#00cc96\",\"#ab63fa\",\"#FFA15A\",\"#19d3f3\",\"#FF6692\",\"#B6E880\",\"#FF97FF\",\"#FECB52\"],\"font\":{\"color\":\"#2a3f5f\"},\"geo\":{\"bgcolor\":\"white\",\"lakecolor\":\"white\",\"landcolor\":\"#E5ECF6\",\"showlakes\":true,\"showland\":true,\"subunitcolor\":\"white\"},\"hoverlabel\":{\"align\":\"left\"},\"hovermode\":\"closest\",\"mapbox\":{\"style\":\"light\"},\"paper_bgcolor\":\"white\",\"plot_bgcolor\":\"#E5ECF6\",\"polar\":{\"angularaxis\":{\"gridcolor\":\"white\",\"linecolor\":\"white\",\"ticks\":\"\"},\"bgcolor\":\"#E5ECF6\",\"radialaxis\":{\"gridcolor\":\"white\",\"linecolor\":\"white\",\"ticks\":\"\"}},\"scene\":{\"xaxis\":{\"backgroundcolor\":\"#E5ECF6\",\"gridcolor\":\"white\",\"gridwidth\":2,\"linecolor\":\"white\",\"showbackground\":true,\"ticks\":\"\",\"zerolinecolor\":\"white\"},\"yaxis\":{\"backgroundcolor\":\"#E5ECF6\",\"gridcolor\":\"white\",\"gridwidth\":2,\"linecolor\":\"white\",\"showbackground\":true,\"ticks\":\"\",\"zerolinecolor\":\"white\"},\"zaxis\":{\"backgroundcolor\":\"#E5ECF6\",\"gridcolor\":\"white\",\"gridwidth\":2,\"linecolor\":\"white\",\"showbackground\":true,\"ticks\":\"\",\"zerolinecolor\":\"white\"}},\"shapedefaults\":{\"line\":{\"color\":\"#2a3f5f\"}},\"ternary\":{\"aaxis\":{\"gridcolor\":\"white\",\"linecolor\":\"white\",\"ticks\":\"\"},\"baxis\":{\"gridcolor\":\"white\",\"linecolor\":\"white\",\"ticks\":\"\"},\"bgcolor\":\"#E5ECF6\",\"caxis\":{\"gridcolor\":\"white\",\"linecolor\":\"white\",\"ticks\":\"\"}},\"title\":{\"x\":0.05},\"xaxis\":{\"automargin\":true,\"gridcolor\":\"white\",\"linecolor\":\"white\",\"ticks\":\"\",\"title\":{\"standoff\":15},\"zerolinecolor\":\"white\",\"zerolinewidth\":2},\"yaxis\":{\"automargin\":true,\"gridcolor\":\"white\",\"linecolor\":\"white\",\"ticks\":\"\",\"title\":{\"standoff\":15},\"zerolinecolor\":\"white\",\"zerolinewidth\":2}}},\"title\":{\"font\":{\"color\":\"#4D5663\"},\"text\":\"Batting Average by Season\"},\"xaxis\":{\"gridcolor\":\"#E1E5ED\",\"showgrid\":true,\"tickfont\":{\"color\":\"#4D5663\"},\"title\":{\"font\":{\"color\":\"#4D5663\"},\"text\":\"Season\"},\"zerolinecolor\":\"#E1E5ED\"},\"yaxis\":{\"gridcolor\":\"#E1E5ED\",\"showgrid\":true,\"tickfont\":{\"color\":\"#4D5663\"},\"title\":{\"font\":{\"color\":\"#4D5663\"},\"text\":\"Batting Average\"},\"zerolinecolor\":\"#E1E5ED\"}},                        {\"showLink\": true, \"linkText\": \"Export to plot.ly\", \"plotlyServerURL\": \"https://plot.ly\", \"responsive\": true}                    ).then(function(){\n",
       "                            \n",
       "var gd = document.getElementById('1fe410b7-1519-4bc6-bb8c-cc373bc5311c');\n",
       "var x = new MutationObserver(function (mutations, observer) {{\n",
       "        var display = window.getComputedStyle(gd).display;\n",
       "        if (!display || display === 'none') {{\n",
       "            console.log([gd, 'removed!']);\n",
       "            Plotly.purge(gd);\n",
       "            observer.disconnect();\n",
       "        }}\n",
       "}});\n",
       "\n",
       "// Listen for the removal of the full notebook cells\n",
       "var notebookContainer = gd.closest('#notebook-container');\n",
       "if (notebookContainer) {{\n",
       "    x.observe(notebookContainer, {childList: true});\n",
       "}}\n",
       "\n",
       "// Listen for the clearing of the current output cell\n",
       "var outputEl = gd.closest('.output');\n",
       "if (outputEl) {{\n",
       "    x.observe(outputEl, {childList: true});\n",
       "}}\n",
       "\n",
       "                        })                };                });            </script>        </div>"
      ]
     },
     "metadata": {},
     "output_type": "display_data"
    }
   ],
   "source": [
    "#  Create a dataframe of Towards Data Science Articles\n",
    "BAnewYr = BA_by_yr.set_index(\"yearID\")\n",
    "# Plot read time as a time series\n",
    "BAnewYr[['BA']].iplot(y='BA', mode='lines+markers',xTitle='Season', yTitle='Batting Average',\\\n",
    "                  text='BA', title='Batting Average by Season')"
   ]
  },
  {
   "cell_type": "code",
   "execution_count": 11,
   "metadata": {
    "ExecuteTime": {
     "end_time": "2019-01-19T13:23:57.693638Z",
     "start_time": "2019-01-19T13:23:57.631698Z"
    }
   },
   "outputs": [],
   "source": [
    "battingPlayers = battingPlayers.assign(decade = str(str(battingPlayers.yearID)[:3]+\"0\"))"
   ]
  },
  {
   "cell_type": "code",
   "execution_count": 12,
   "metadata": {
    "ExecuteTime": {
     "end_time": "2019-01-19T13:24:03.731370Z",
     "start_time": "2019-01-19T13:24:03.508950Z"
    }
   },
   "outputs": [],
   "source": [
    "battingPlayers = battingPlayers.assign(decade = battingPlayers['yearID'].map(lambda x: str(str(x)[:3]+\"0\")))"
   ]
  },
  {
   "cell_type": "code",
   "execution_count": 13,
   "metadata": {
    "ExecuteTime": {
     "end_time": "2019-01-19T13:24:08.184772Z",
     "start_time": "2019-01-19T13:24:07.530904Z"
    },
    "scrolled": false
   },
   "outputs": [
    {
     "data": {
      "text/html": [
       "<style  type=\"text/css\" >\n",
       "    #T_2349f826_48c5_11ec_b985_acde48001122row0_col5 {\n",
       "            background-color:  #60b560;\n",
       "            color:  #000000;\n",
       "        }    #T_2349f826_48c5_11ec_b985_acde48001122row0_col6 {\n",
       "            background-color:  #c1ebc1;\n",
       "            color:  #000000;\n",
       "        }    #T_2349f826_48c5_11ec_b985_acde48001122row1_col5 {\n",
       "            background-color:  #6dbc6d;\n",
       "            color:  #000000;\n",
       "        }    #T_2349f826_48c5_11ec_b985_acde48001122row1_col6 {\n",
       "            background-color:  #c7eec7;\n",
       "            color:  #000000;\n",
       "        }    #T_2349f826_48c5_11ec_b985_acde48001122row2_col5 {\n",
       "            background-color:  #91d091;\n",
       "            color:  #000000;\n",
       "        }    #T_2349f826_48c5_11ec_b985_acde48001122row2_col6 {\n",
       "            background-color:  #ccf1cc;\n",
       "            color:  #000000;\n",
       "        }    #T_2349f826_48c5_11ec_b985_acde48001122row3_col5 {\n",
       "            background-color:  #91d091;\n",
       "            color:  #000000;\n",
       "        }    #T_2349f826_48c5_11ec_b985_acde48001122row3_col6 {\n",
       "            background-color:  #e5ffe5;\n",
       "            color:  #000000;\n",
       "        }    #T_2349f826_48c5_11ec_b985_acde48001122row4_col5 {\n",
       "            background-color:  #91d091;\n",
       "            color:  #000000;\n",
       "        }    #T_2349f826_48c5_11ec_b985_acde48001122row4_col6 {\n",
       "            background-color:  #e5ffe5;\n",
       "            color:  #000000;\n",
       "        }    #T_2349f826_48c5_11ec_b985_acde48001122row5_col5 {\n",
       "            background-color:  #178d17;\n",
       "            color:  #000000;\n",
       "        }    #T_2349f826_48c5_11ec_b985_acde48001122row5_col6 {\n",
       "            background-color:  #98d498;\n",
       "            color:  #000000;\n",
       "        }    #T_2349f826_48c5_11ec_b985_acde48001122row6_col5 {\n",
       "            background-color:  #79c379;\n",
       "            color:  #000000;\n",
       "        }    #T_2349f826_48c5_11ec_b985_acde48001122row6_col6 {\n",
       "            background-color:  #9ed79e;\n",
       "            color:  #000000;\n",
       "        }    #T_2349f826_48c5_11ec_b985_acde48001122row7_col5 {\n",
       "            background-color:  #85ca85;\n",
       "            color:  #000000;\n",
       "        }    #T_2349f826_48c5_11ec_b985_acde48001122row7_col6 {\n",
       "            background-color:  #b3e3b3;\n",
       "            color:  #000000;\n",
       "        }    #T_2349f826_48c5_11ec_b985_acde48001122row8_col5 {\n",
       "            background-color:  #6dbc6d;\n",
       "            color:  #000000;\n",
       "        }    #T_2349f826_48c5_11ec_b985_acde48001122row8_col6 {\n",
       "            background-color:  #b3e3b3;\n",
       "            color:  #000000;\n",
       "        }    #T_2349f826_48c5_11ec_b985_acde48001122row9_col5 {\n",
       "            background-color:  #60b560;\n",
       "            color:  #000000;\n",
       "        }    #T_2349f826_48c5_11ec_b985_acde48001122row9_col6 {\n",
       "            background-color:  #b5e4b5;\n",
       "            color:  #000000;\n",
       "        }    #T_2349f826_48c5_11ec_b985_acde48001122row10_col5 {\n",
       "            background-color:  #60b560;\n",
       "            color:  #000000;\n",
       "        }    #T_2349f826_48c5_11ec_b985_acde48001122row10_col6 {\n",
       "            background-color:  #84c984;\n",
       "            color:  #000000;\n",
       "        }    #T_2349f826_48c5_11ec_b985_acde48001122row11_col5 {\n",
       "            background-color:  #91d091;\n",
       "            color:  #000000;\n",
       "        }    #T_2349f826_48c5_11ec_b985_acde48001122row11_col6 {\n",
       "            background-color:  #84c984;\n",
       "            color:  #000000;\n",
       "        }    #T_2349f826_48c5_11ec_b985_acde48001122row12_col5 {\n",
       "            background-color:  #91d091;\n",
       "            color:  #000000;\n",
       "        }    #T_2349f826_48c5_11ec_b985_acde48001122row12_col6 {\n",
       "            background-color:  #84c984;\n",
       "            color:  #000000;\n",
       "        }    #T_2349f826_48c5_11ec_b985_acde48001122row13_col5 {\n",
       "            background-color:  #0c860c;\n",
       "            color:  #f1f1f1;\n",
       "        }    #T_2349f826_48c5_11ec_b985_acde48001122row13_col6 {\n",
       "            background-color:  #88cb88;\n",
       "            color:  #000000;\n",
       "        }    #T_2349f826_48c5_11ec_b985_acde48001122row14_col5 {\n",
       "            background-color:  #9ed79e;\n",
       "            color:  #000000;\n",
       "        }    #T_2349f826_48c5_11ec_b985_acde48001122row14_col6 {\n",
       "            background-color:  #92d192;\n",
       "            color:  #000000;\n",
       "        }    #T_2349f826_48c5_11ec_b985_acde48001122row15_col5 {\n",
       "            background-color:  #3ca13c;\n",
       "            color:  #000000;\n",
       "        }    #T_2349f826_48c5_11ec_b985_acde48001122row15_col6 {\n",
       "            background-color:  #59b159;\n",
       "            color:  #000000;\n",
       "        }    #T_2349f826_48c5_11ec_b985_acde48001122row16_col5 {\n",
       "            background-color:  #48a848;\n",
       "            color:  #000000;\n",
       "        }    #T_2349f826_48c5_11ec_b985_acde48001122row16_col6 {\n",
       "            background-color:  #77c277;\n",
       "            color:  #000000;\n",
       "        }    #T_2349f826_48c5_11ec_b985_acde48001122row17_col5 {\n",
       "            background-color:  #178d17;\n",
       "            color:  #000000;\n",
       "        }    #T_2349f826_48c5_11ec_b985_acde48001122row17_col6 {\n",
       "            background-color:  #84c984;\n",
       "            color:  #000000;\n",
       "        }    #T_2349f826_48c5_11ec_b985_acde48001122row18_col5 {\n",
       "            background-color:  #55af55;\n",
       "            color:  #000000;\n",
       "        }    #T_2349f826_48c5_11ec_b985_acde48001122row18_col6 {\n",
       "            background-color:  #88cb88;\n",
       "            color:  #000000;\n",
       "        }    #T_2349f826_48c5_11ec_b985_acde48001122row19_col5 {\n",
       "            background-color:  #309a30;\n",
       "            color:  #000000;\n",
       "        }    #T_2349f826_48c5_11ec_b985_acde48001122row19_col6 {\n",
       "            background-color:  #8cce8c;\n",
       "            color:  #000000;\n",
       "        }    #T_2349f826_48c5_11ec_b985_acde48001122row20_col5 {\n",
       "            background-color:  #91d091;\n",
       "            color:  #000000;\n",
       "        }    #T_2349f826_48c5_11ec_b985_acde48001122row20_col6 {\n",
       "            background-color:  #61b661;\n",
       "            color:  #000000;\n",
       "        }    #T_2349f826_48c5_11ec_b985_acde48001122row21_col5 {\n",
       "            background-color:  #91d091;\n",
       "            color:  #000000;\n",
       "        }    #T_2349f826_48c5_11ec_b985_acde48001122row21_col6 {\n",
       "            background-color:  #88cb88;\n",
       "            color:  #000000;\n",
       "        }    #T_2349f826_48c5_11ec_b985_acde48001122row22_col5 {\n",
       "            background-color:  #91d091;\n",
       "            color:  #000000;\n",
       "        }    #T_2349f826_48c5_11ec_b985_acde48001122row22_col6 {\n",
       "            background-color:  #8cce8c;\n",
       "            color:  #000000;\n",
       "        }    #T_2349f826_48c5_11ec_b985_acde48001122row23_col5 {\n",
       "            background-color:  #6dbc6d;\n",
       "            color:  #000000;\n",
       "        }    #T_2349f826_48c5_11ec_b985_acde48001122row23_col6 {\n",
       "            background-color:  #90d090;\n",
       "            color:  #000000;\n",
       "        }    #T_2349f826_48c5_11ec_b985_acde48001122row24_col5 {\n",
       "            background-color:  #79c379;\n",
       "            color:  #000000;\n",
       "        }    #T_2349f826_48c5_11ec_b985_acde48001122row24_col6 {\n",
       "            background-color:  #96d396;\n",
       "            color:  #000000;\n",
       "        }    #T_2349f826_48c5_11ec_b985_acde48001122row25_col5 {\n",
       "            background-color:  #55af55;\n",
       "            color:  #000000;\n",
       "        }    #T_2349f826_48c5_11ec_b985_acde48001122row25_col6 {\n",
       "            background-color:  #65b865;\n",
       "            color:  #000000;\n",
       "        }    #T_2349f826_48c5_11ec_b985_acde48001122row26_col5 {\n",
       "            background-color:  #60b560;\n",
       "            color:  #000000;\n",
       "        }    #T_2349f826_48c5_11ec_b985_acde48001122row26_col6 {\n",
       "            background-color:  #90d090;\n",
       "            color:  #000000;\n",
       "        }    #T_2349f826_48c5_11ec_b985_acde48001122row27_col5 {\n",
       "            background-color:  #79c379;\n",
       "            color:  #000000;\n",
       "        }    #T_2349f826_48c5_11ec_b985_acde48001122row27_col6 {\n",
       "            background-color:  #94d294;\n",
       "            color:  #000000;\n",
       "        }    #T_2349f826_48c5_11ec_b985_acde48001122row28_col5 {\n",
       "            background-color:  #60b560;\n",
       "            color:  #000000;\n",
       "        }    #T_2349f826_48c5_11ec_b985_acde48001122row28_col6 {\n",
       "            background-color:  #96d396;\n",
       "            color:  #000000;\n",
       "        }    #T_2349f826_48c5_11ec_b985_acde48001122row29_col5 {\n",
       "            background-color:  #6dbc6d;\n",
       "            color:  #000000;\n",
       "        }    #T_2349f826_48c5_11ec_b985_acde48001122row29_col6 {\n",
       "            background-color:  #9ed79e;\n",
       "            color:  #000000;\n",
       "        }    #T_2349f826_48c5_11ec_b985_acde48001122row30_col5 {\n",
       "            background-color:  #85ca85;\n",
       "            color:  #000000;\n",
       "        }    #T_2349f826_48c5_11ec_b985_acde48001122row30_col6 {\n",
       "            background-color:  #9ad59a;\n",
       "            color:  #000000;\n",
       "        }    #T_2349f826_48c5_11ec_b985_acde48001122row31_col5 {\n",
       "            background-color:  #48a848;\n",
       "            color:  #000000;\n",
       "        }    #T_2349f826_48c5_11ec_b985_acde48001122row31_col6 {\n",
       "            background-color:  #a2daa2;\n",
       "            color:  #000000;\n",
       "        }    #T_2349f826_48c5_11ec_b985_acde48001122row32_col5 {\n",
       "            background-color:  #91d091;\n",
       "            color:  #000000;\n",
       "        }    #T_2349f826_48c5_11ec_b985_acde48001122row32_col6 {\n",
       "            background-color:  #aee0ae;\n",
       "            color:  #000000;\n",
       "        }    #T_2349f826_48c5_11ec_b985_acde48001122row33_col5 {\n",
       "            background-color:  #55af55;\n",
       "            color:  #000000;\n",
       "        }    #T_2349f826_48c5_11ec_b985_acde48001122row33_col6 {\n",
       "            background-color:  #b3e3b3;\n",
       "            color:  #000000;\n",
       "        }    #T_2349f826_48c5_11ec_b985_acde48001122row34_col5 {\n",
       "            background-color:  #a9dea9;\n",
       "            color:  #000000;\n",
       "        }    #T_2349f826_48c5_11ec_b985_acde48001122row34_col6 {\n",
       "            background-color:  #b3e3b3;\n",
       "            color:  #000000;\n",
       "        }    #T_2349f826_48c5_11ec_b985_acde48001122row35_col5 {\n",
       "            background-color:  #008000;\n",
       "            color:  #f1f1f1;\n",
       "        }    #T_2349f826_48c5_11ec_b985_acde48001122row35_col6 {\n",
       "            background-color:  #65b865;\n",
       "            color:  #000000;\n",
       "        }    #T_2349f826_48c5_11ec_b985_acde48001122row36_col5 {\n",
       "            background-color:  #91d091;\n",
       "            color:  #000000;\n",
       "        }    #T_2349f826_48c5_11ec_b985_acde48001122row36_col6 {\n",
       "            background-color:  #8cce8c;\n",
       "            color:  #000000;\n",
       "        }    #T_2349f826_48c5_11ec_b985_acde48001122row37_col5 {\n",
       "            background-color:  #9ed79e;\n",
       "            color:  #000000;\n",
       "        }    #T_2349f826_48c5_11ec_b985_acde48001122row37_col6 {\n",
       "            background-color:  #92d192;\n",
       "            color:  #000000;\n",
       "        }    #T_2349f826_48c5_11ec_b985_acde48001122row38_col5 {\n",
       "            background-color:  #3ca13c;\n",
       "            color:  #000000;\n",
       "        }    #T_2349f826_48c5_11ec_b985_acde48001122row38_col6 {\n",
       "            background-color:  #94d294;\n",
       "            color:  #000000;\n",
       "        }    #T_2349f826_48c5_11ec_b985_acde48001122row39_col5 {\n",
       "            background-color:  #9ed79e;\n",
       "            color:  #000000;\n",
       "        }    #T_2349f826_48c5_11ec_b985_acde48001122row39_col6 {\n",
       "            background-color:  #96d396;\n",
       "            color:  #000000;\n",
       "        }    #T_2349f826_48c5_11ec_b985_acde48001122row40_col5 {\n",
       "            background-color:  #c2ebc2;\n",
       "            color:  #000000;\n",
       "        }    #T_2349f826_48c5_11ec_b985_acde48001122row40_col6 {\n",
       "            background-color:  #42a442;\n",
       "            color:  #000000;\n",
       "        }    #T_2349f826_48c5_11ec_b985_acde48001122row41_col5 {\n",
       "            background-color:  #85ca85;\n",
       "            color:  #000000;\n",
       "        }    #T_2349f826_48c5_11ec_b985_acde48001122row41_col6 {\n",
       "            background-color:  #7cc57c;\n",
       "            color:  #000000;\n",
       "        }    #T_2349f826_48c5_11ec_b985_acde48001122row42_col5 {\n",
       "            background-color:  #79c379;\n",
       "            color:  #000000;\n",
       "        }    #T_2349f826_48c5_11ec_b985_acde48001122row42_col6 {\n",
       "            background-color:  #86ca86;\n",
       "            color:  #000000;\n",
       "        }    #T_2349f826_48c5_11ec_b985_acde48001122row43_col5 {\n",
       "            background-color:  #6dbc6d;\n",
       "            color:  #000000;\n",
       "        }    #T_2349f826_48c5_11ec_b985_acde48001122row43_col6 {\n",
       "            background-color:  #8bcd8b;\n",
       "            color:  #000000;\n",
       "        }    #T_2349f826_48c5_11ec_b985_acde48001122row44_col5 {\n",
       "            background-color:  #9ed79e;\n",
       "            color:  #000000;\n",
       "        }    #T_2349f826_48c5_11ec_b985_acde48001122row44_col6 {\n",
       "            background-color:  #92d192;\n",
       "            color:  #000000;\n",
       "        }    #T_2349f826_48c5_11ec_b985_acde48001122row45_col5 {\n",
       "            background-color:  #55af55;\n",
       "            color:  #000000;\n",
       "        }    #T_2349f826_48c5_11ec_b985_acde48001122row45_col6 {\n",
       "            background-color:  #4caa4c;\n",
       "            color:  #000000;\n",
       "        }    #T_2349f826_48c5_11ec_b985_acde48001122row46_col5 {\n",
       "            background-color:  #85ca85;\n",
       "            color:  #000000;\n",
       "        }    #T_2349f826_48c5_11ec_b985_acde48001122row46_col6 {\n",
       "            background-color:  #4fac4f;\n",
       "            color:  #000000;\n",
       "        }    #T_2349f826_48c5_11ec_b985_acde48001122row47_col5 {\n",
       "            background-color:  #91d091;\n",
       "            color:  #000000;\n",
       "        }    #T_2349f826_48c5_11ec_b985_acde48001122row47_col6 {\n",
       "            background-color:  #5bb25b;\n",
       "            color:  #000000;\n",
       "        }    #T_2349f826_48c5_11ec_b985_acde48001122row48_col5 {\n",
       "            background-color:  #79c379;\n",
       "            color:  #000000;\n",
       "        }    #T_2349f826_48c5_11ec_b985_acde48001122row48_col6 {\n",
       "            background-color:  #61b661;\n",
       "            color:  #000000;\n",
       "        }    #T_2349f826_48c5_11ec_b985_acde48001122row49_col5 {\n",
       "            background-color:  #79c379;\n",
       "            color:  #000000;\n",
       "        }    #T_2349f826_48c5_11ec_b985_acde48001122row49_col6 {\n",
       "            background-color:  #65b865;\n",
       "            color:  #000000;\n",
       "        }    #T_2349f826_48c5_11ec_b985_acde48001122row50_col5 {\n",
       "            background-color:  #85ca85;\n",
       "            color:  #000000;\n",
       "        }    #T_2349f826_48c5_11ec_b985_acde48001122row50_col6 {\n",
       "            background-color:  #1f911f;\n",
       "            color:  #000000;\n",
       "        }    #T_2349f826_48c5_11ec_b985_acde48001122row51_col5 {\n",
       "            background-color:  #79c379;\n",
       "            color:  #000000;\n",
       "        }    #T_2349f826_48c5_11ec_b985_acde48001122row51_col6 {\n",
       "            background-color:  #279527;\n",
       "            color:  #000000;\n",
       "        }    #T_2349f826_48c5_11ec_b985_acde48001122row52_col5 {\n",
       "            background-color:  #91d091;\n",
       "            color:  #000000;\n",
       "        }    #T_2349f826_48c5_11ec_b985_acde48001122row52_col6 {\n",
       "            background-color:  #40a340;\n",
       "            color:  #000000;\n",
       "        }    #T_2349f826_48c5_11ec_b985_acde48001122row53_col5 {\n",
       "            background-color:  #79c379;\n",
       "            color:  #000000;\n",
       "        }    #T_2349f826_48c5_11ec_b985_acde48001122row53_col6 {\n",
       "            background-color:  #48a848;\n",
       "            color:  #000000;\n",
       "        }    #T_2349f826_48c5_11ec_b985_acde48001122row54_col5 {\n",
       "            background-color:  #79c379;\n",
       "            color:  #000000;\n",
       "        }    #T_2349f826_48c5_11ec_b985_acde48001122row54_col6 {\n",
       "            background-color:  #48a848;\n",
       "            color:  #000000;\n",
       "        }    #T_2349f826_48c5_11ec_b985_acde48001122row55_col5 {\n",
       "            background-color:  #a9dea9;\n",
       "            color:  #000000;\n",
       "        }    #T_2349f826_48c5_11ec_b985_acde48001122row55_col6 {\n",
       "            background-color:  #279527;\n",
       "            color:  #000000;\n",
       "        }    #T_2349f826_48c5_11ec_b985_acde48001122row56_col5 {\n",
       "            background-color:  #9ed79e;\n",
       "            color:  #000000;\n",
       "        }    #T_2349f826_48c5_11ec_b985_acde48001122row56_col6 {\n",
       "            background-color:  #3ca13c;\n",
       "            color:  #000000;\n",
       "        }    #T_2349f826_48c5_11ec_b985_acde48001122row57_col5 {\n",
       "            background-color:  #b6e5b6;\n",
       "            color:  #000000;\n",
       "        }    #T_2349f826_48c5_11ec_b985_acde48001122row57_col6 {\n",
       "            background-color:  #3ea23e;\n",
       "            color:  #000000;\n",
       "        }    #T_2349f826_48c5_11ec_b985_acde48001122row58_col5 {\n",
       "            background-color:  #a9dea9;\n",
       "            color:  #000000;\n",
       "        }    #T_2349f826_48c5_11ec_b985_acde48001122row58_col6 {\n",
       "            background-color:  #57b057;\n",
       "            color:  #000000;\n",
       "        }    #T_2349f826_48c5_11ec_b985_acde48001122row59_col5 {\n",
       "            background-color:  #91d091;\n",
       "            color:  #000000;\n",
       "        }    #T_2349f826_48c5_11ec_b985_acde48001122row59_col6 {\n",
       "            background-color:  #61b661;\n",
       "            color:  #000000;\n",
       "        }    #T_2349f826_48c5_11ec_b985_acde48001122row60_col5 {\n",
       "            background-color:  #91d091;\n",
       "            color:  #000000;\n",
       "        }    #T_2349f826_48c5_11ec_b985_acde48001122row60_col6 {\n",
       "            background-color:  #1b8f1b;\n",
       "            color:  #000000;\n",
       "        }    #T_2349f826_48c5_11ec_b985_acde48001122row61_col5 {\n",
       "            background-color:  #9ed79e;\n",
       "            color:  #000000;\n",
       "        }    #T_2349f826_48c5_11ec_b985_acde48001122row61_col6 {\n",
       "            background-color:  #72bf72;\n",
       "            color:  #000000;\n",
       "        }    #T_2349f826_48c5_11ec_b985_acde48001122row62_col5 {\n",
       "            background-color:  #85ca85;\n",
       "            color:  #000000;\n",
       "        }    #T_2349f826_48c5_11ec_b985_acde48001122row62_col6 {\n",
       "            background-color:  #77c277;\n",
       "            color:  #000000;\n",
       "        }    #T_2349f826_48c5_11ec_b985_acde48001122row63_col5 {\n",
       "            background-color:  #9ed79e;\n",
       "            color:  #000000;\n",
       "        }    #T_2349f826_48c5_11ec_b985_acde48001122row63_col6 {\n",
       "            background-color:  #79c379;\n",
       "            color:  #000000;\n",
       "        }    #T_2349f826_48c5_11ec_b985_acde48001122row64_col5 {\n",
       "            background-color:  #48a848;\n",
       "            color:  #000000;\n",
       "        }    #T_2349f826_48c5_11ec_b985_acde48001122row64_col6 {\n",
       "            background-color:  #7ac47a;\n",
       "            color:  #000000;\n",
       "        }    #T_2349f826_48c5_11ec_b985_acde48001122row65_col5 {\n",
       "            background-color:  #85ca85;\n",
       "            color:  #000000;\n",
       "        }    #T_2349f826_48c5_11ec_b985_acde48001122row65_col6 {\n",
       "            background-color:  #008000;\n",
       "            color:  #f1f1f1;\n",
       "        }    #T_2349f826_48c5_11ec_b985_acde48001122row66_col5 {\n",
       "            background-color:  #a9dea9;\n",
       "            color:  #000000;\n",
       "        }    #T_2349f826_48c5_11ec_b985_acde48001122row66_col6 {\n",
       "            background-color:  #1f911f;\n",
       "            color:  #000000;\n",
       "        }    #T_2349f826_48c5_11ec_b985_acde48001122row67_col5 {\n",
       "            background-color:  #91d091;\n",
       "            color:  #000000;\n",
       "        }    #T_2349f826_48c5_11ec_b985_acde48001122row67_col6 {\n",
       "            background-color:  #2a972a;\n",
       "            color:  #000000;\n",
       "        }    #T_2349f826_48c5_11ec_b985_acde48001122row68_col5 {\n",
       "            background-color:  #3ca13c;\n",
       "            color:  #000000;\n",
       "        }    #T_2349f826_48c5_11ec_b985_acde48001122row68_col6 {\n",
       "            background-color:  #319b31;\n",
       "            color:  #000000;\n",
       "        }    #T_2349f826_48c5_11ec_b985_acde48001122row69_col5 {\n",
       "            background-color:  #55af55;\n",
       "            color:  #000000;\n",
       "        }    #T_2349f826_48c5_11ec_b985_acde48001122row69_col6 {\n",
       "            background-color:  #3aa03a;\n",
       "            color:  #000000;\n",
       "        }    #T_2349f826_48c5_11ec_b985_acde48001122row70_col5 {\n",
       "            background-color:  #91d091;\n",
       "            color:  #000000;\n",
       "        }    #T_2349f826_48c5_11ec_b985_acde48001122row70_col6 {\n",
       "            background-color:  #098509;\n",
       "            color:  #f1f1f1;\n",
       "        }    #T_2349f826_48c5_11ec_b985_acde48001122row71_col5 {\n",
       "            background-color:  #a9dea9;\n",
       "            color:  #000000;\n",
       "        }    #T_2349f826_48c5_11ec_b985_acde48001122row71_col6 {\n",
       "            background-color:  #369e36;\n",
       "            color:  #000000;\n",
       "        }    #T_2349f826_48c5_11ec_b985_acde48001122row72_col5 {\n",
       "            background-color:  #9ed79e;\n",
       "            color:  #000000;\n",
       "        }    #T_2349f826_48c5_11ec_b985_acde48001122row72_col6 {\n",
       "            background-color:  #4aa94a;\n",
       "            color:  #000000;\n",
       "        }    #T_2349f826_48c5_11ec_b985_acde48001122row73_col5 {\n",
       "            background-color:  #79c379;\n",
       "            color:  #000000;\n",
       "        }    #T_2349f826_48c5_11ec_b985_acde48001122row73_col6 {\n",
       "            background-color:  #4fac4f;\n",
       "            color:  #000000;\n",
       "        }    #T_2349f826_48c5_11ec_b985_acde48001122row74_col5 {\n",
       "            background-color:  #79c379;\n",
       "            color:  #000000;\n",
       "        }    #T_2349f826_48c5_11ec_b985_acde48001122row74_col6 {\n",
       "            background-color:  #65b865;\n",
       "            color:  #000000;\n",
       "        }    #T_2349f826_48c5_11ec_b985_acde48001122row75_col5 {\n",
       "            background-color:  #c2ebc2;\n",
       "            color:  #000000;\n",
       "        }    #T_2349f826_48c5_11ec_b985_acde48001122row75_col6 {\n",
       "            background-color:  #118911;\n",
       "            color:  #f1f1f1;\n",
       "        }    #T_2349f826_48c5_11ec_b985_acde48001122row76_col5 {\n",
       "            background-color:  #cef2ce;\n",
       "            color:  #000000;\n",
       "        }    #T_2349f826_48c5_11ec_b985_acde48001122row76_col6 {\n",
       "            background-color:  #138a13;\n",
       "            color:  #000000;\n",
       "        }    #T_2349f826_48c5_11ec_b985_acde48001122row77_col5 {\n",
       "            background-color:  #9ed79e;\n",
       "            color:  #000000;\n",
       "        }    #T_2349f826_48c5_11ec_b985_acde48001122row77_col6 {\n",
       "            background-color:  #158b15;\n",
       "            color:  #000000;\n",
       "        }    #T_2349f826_48c5_11ec_b985_acde48001122row78_col5 {\n",
       "            background-color:  #e5ffe5;\n",
       "            color:  #000000;\n",
       "        }    #T_2349f826_48c5_11ec_b985_acde48001122row78_col6 {\n",
       "            background-color:  #319b31;\n",
       "            color:  #000000;\n",
       "        }    #T_2349f826_48c5_11ec_b985_acde48001122row79_col5 {\n",
       "            background-color:  #daf9da;\n",
       "            color:  #000000;\n",
       "        }    #T_2349f826_48c5_11ec_b985_acde48001122row79_col6 {\n",
       "            background-color:  #52ad52;\n",
       "            color:  #000000;\n",
       "        }</style><table id=\"T_2349f826_48c5_11ec_b985_acde48001122\" ><thead>    <tr>        <th class=\"blank level0\" ></th>        <th class=\"col_heading level0 col0\" >decade</th>        <th class=\"col_heading level0 col1\" >nameFirst</th>        <th class=\"col_heading level0 col2\" >nameLast</th>        <th class=\"col_heading level0 col3\" >yearID</th>        <th class=\"col_heading level0 col4\" >teamID</th>        <th class=\"col_heading level0 col5\" >age</th>        <th class=\"col_heading level0 col6\" >BA</th>    </tr></thead><tbody>\n",
       "                <tr>\n",
       "                        <th id=\"T_2349f826_48c5_11ec_b985_acde48001122level0_row0\" class=\"row_heading level0 row0\" >99191</th>\n",
       "                        <td id=\"T_2349f826_48c5_11ec_b985_acde48001122row0_col0\" class=\"data row0 col0\" >2020</td>\n",
       "                        <td id=\"T_2349f826_48c5_11ec_b985_acde48001122row0_col1\" class=\"data row0 col1\" >Freddie</td>\n",
       "                        <td id=\"T_2349f826_48c5_11ec_b985_acde48001122row0_col2\" class=\"data row0 col2\" >Freeman</td>\n",
       "                        <td id=\"T_2349f826_48c5_11ec_b985_acde48001122row0_col3\" class=\"data row0 col3\" >2020</td>\n",
       "                        <td id=\"T_2349f826_48c5_11ec_b985_acde48001122row0_col4\" class=\"data row0 col4\" >ATL</td>\n",
       "                        <td id=\"T_2349f826_48c5_11ec_b985_acde48001122row0_col5\" class=\"data row0 col5\" >31.000000</td>\n",
       "                        <td id=\"T_2349f826_48c5_11ec_b985_acde48001122row0_col6\" class=\"data row0 col6\" >0.341000</td>\n",
       "            </tr>\n",
       "            <tr>\n",
       "                        <th id=\"T_2349f826_48c5_11ec_b985_acde48001122level0_row1\" class=\"row_heading level0 row1\" >103253</th>\n",
       "                        <td id=\"T_2349f826_48c5_11ec_b985_acde48001122row1_col0\" class=\"data row1 col0\" >2020</td>\n",
       "                        <td id=\"T_2349f826_48c5_11ec_b985_acde48001122row1_col1\" class=\"data row1 col1\" >Marcell</td>\n",
       "                        <td id=\"T_2349f826_48c5_11ec_b985_acde48001122row1_col2\" class=\"data row1 col2\" >Ozuna</td>\n",
       "                        <td id=\"T_2349f826_48c5_11ec_b985_acde48001122row1_col3\" class=\"data row1 col3\" >2020</td>\n",
       "                        <td id=\"T_2349f826_48c5_11ec_b985_acde48001122row1_col4\" class=\"data row1 col4\" >ATL</td>\n",
       "                        <td id=\"T_2349f826_48c5_11ec_b985_acde48001122row1_col5\" class=\"data row1 col5\" >30.000000</td>\n",
       "                        <td id=\"T_2349f826_48c5_11ec_b985_acde48001122row1_col6\" class=\"data row1 col6\" >0.338000</td>\n",
       "            </tr>\n",
       "            <tr>\n",
       "                        <th id=\"T_2349f826_48c5_11ec_b985_acde48001122level0_row2\" class=\"row_heading level0 row2\" >105638</th>\n",
       "                        <td id=\"T_2349f826_48c5_11ec_b985_acde48001122row2_col0\" class=\"data row2 col0\" >2020</td>\n",
       "                        <td id=\"T_2349f826_48c5_11ec_b985_acde48001122row2_col1\" class=\"data row2 col1\" >Trea</td>\n",
       "                        <td id=\"T_2349f826_48c5_11ec_b985_acde48001122row2_col2\" class=\"data row2 col2\" >Turner</td>\n",
       "                        <td id=\"T_2349f826_48c5_11ec_b985_acde48001122row2_col3\" class=\"data row2 col3\" >2020</td>\n",
       "                        <td id=\"T_2349f826_48c5_11ec_b985_acde48001122row2_col4\" class=\"data row2 col4\" >WAS</td>\n",
       "                        <td id=\"T_2349f826_48c5_11ec_b985_acde48001122row2_col5\" class=\"data row2 col5\" >27.000000</td>\n",
       "                        <td id=\"T_2349f826_48c5_11ec_b985_acde48001122row2_col6\" class=\"data row2 col6\" >0.335000</td>\n",
       "            </tr>\n",
       "            <tr>\n",
       "                        <th id=\"T_2349f826_48c5_11ec_b985_acde48001122level0_row3\" class=\"row_heading level0 row3\" >104883</th>\n",
       "                        <td id=\"T_2349f826_48c5_11ec_b985_acde48001122row3_col0\" class=\"data row3 col0\" >2020</td>\n",
       "                        <td id=\"T_2349f826_48c5_11ec_b985_acde48001122row3_col1\" class=\"data row3 col1\" >Michael</td>\n",
       "                        <td id=\"T_2349f826_48c5_11ec_b985_acde48001122row3_col2\" class=\"data row3 col2\" >Conforto</td>\n",
       "                        <td id=\"T_2349f826_48c5_11ec_b985_acde48001122row3_col3\" class=\"data row3 col3\" >2020</td>\n",
       "                        <td id=\"T_2349f826_48c5_11ec_b985_acde48001122row3_col4\" class=\"data row3 col4\" >NYN</td>\n",
       "                        <td id=\"T_2349f826_48c5_11ec_b985_acde48001122row3_col5\" class=\"data row3 col5\" >27.000000</td>\n",
       "                        <td id=\"T_2349f826_48c5_11ec_b985_acde48001122row3_col6\" class=\"data row3 col6\" >0.322000</td>\n",
       "            </tr>\n",
       "            <tr>\n",
       "                        <th id=\"T_2349f826_48c5_11ec_b985_acde48001122level0_row4\" class=\"row_heading level0 row4\" >105747</th>\n",
       "                        <td id=\"T_2349f826_48c5_11ec_b985_acde48001122row4_col0\" class=\"data row4 col0\" >2020</td>\n",
       "                        <td id=\"T_2349f826_48c5_11ec_b985_acde48001122row4_col1\" class=\"data row4 col1\" >Tim</td>\n",
       "                        <td id=\"T_2349f826_48c5_11ec_b985_acde48001122row4_col2\" class=\"data row4 col2\" >Anderson</td>\n",
       "                        <td id=\"T_2349f826_48c5_11ec_b985_acde48001122row4_col3\" class=\"data row4 col3\" >2020</td>\n",
       "                        <td id=\"T_2349f826_48c5_11ec_b985_acde48001122row4_col4\" class=\"data row4 col4\" >CHA</td>\n",
       "                        <td id=\"T_2349f826_48c5_11ec_b985_acde48001122row4_col5\" class=\"data row4 col5\" >27.000000</td>\n",
       "                        <td id=\"T_2349f826_48c5_11ec_b985_acde48001122row4_col6\" class=\"data row4 col6\" >0.322000</td>\n",
       "            </tr>\n",
       "            <tr>\n",
       "                        <th id=\"T_2349f826_48c5_11ec_b985_acde48001122level0_row5\" class=\"row_heading level0 row5\" >89578</th>\n",
       "                        <td id=\"T_2349f826_48c5_11ec_b985_acde48001122row5_col0\" class=\"data row5 col0\" >2010</td>\n",
       "                        <td id=\"T_2349f826_48c5_11ec_b985_acde48001122row5_col1\" class=\"data row5 col1\" >Marco</td>\n",
       "                        <td id=\"T_2349f826_48c5_11ec_b985_acde48001122row5_col2\" class=\"data row5 col2\" >Scutaro</td>\n",
       "                        <td id=\"T_2349f826_48c5_11ec_b985_acde48001122row5_col3\" class=\"data row5 col3\" >2012</td>\n",
       "                        <td id=\"T_2349f826_48c5_11ec_b985_acde48001122row5_col4\" class=\"data row5 col4\" >SFN</td>\n",
       "                        <td id=\"T_2349f826_48c5_11ec_b985_acde48001122row5_col5\" class=\"data row5 col5\" >37.000000</td>\n",
       "                        <td id=\"T_2349f826_48c5_11ec_b985_acde48001122row5_col6\" class=\"data row5 col6\" >0.362000</td>\n",
       "            </tr>\n",
       "            <tr>\n",
       "                        <th id=\"T_2349f826_48c5_11ec_b985_acde48001122level0_row6\" class=\"row_heading level0 row6\" >95459</th>\n",
       "                        <td id=\"T_2349f826_48c5_11ec_b985_acde48001122row6_col0\" class=\"data row6 col0\" >2010</td>\n",
       "                        <td id=\"T_2349f826_48c5_11ec_b985_acde48001122row6_col1\" class=\"data row6 col1\" >Josh</td>\n",
       "                        <td id=\"T_2349f826_48c5_11ec_b985_acde48001122row6_col2\" class=\"data row6 col2\" >Hamilton</td>\n",
       "                        <td id=\"T_2349f826_48c5_11ec_b985_acde48001122row6_col3\" class=\"data row6 col3\" >2010</td>\n",
       "                        <td id=\"T_2349f826_48c5_11ec_b985_acde48001122row6_col4\" class=\"data row6 col4\" >TEX</td>\n",
       "                        <td id=\"T_2349f826_48c5_11ec_b985_acde48001122row6_col5\" class=\"data row6 col5\" >29.000000</td>\n",
       "                        <td id=\"T_2349f826_48c5_11ec_b985_acde48001122row6_col6\" class=\"data row6 col6\" >0.359000</td>\n",
       "            </tr>\n",
       "            <tr>\n",
       "                        <th id=\"T_2349f826_48c5_11ec_b985_acde48001122level0_row7\" class=\"row_heading level0 row7\" >100760</th>\n",
       "                        <td id=\"T_2349f826_48c5_11ec_b985_acde48001122row7_col0\" class=\"data row7 col0\" >2010</td>\n",
       "                        <td id=\"T_2349f826_48c5_11ec_b985_acde48001122row7_col1\" class=\"data row7 col1\" >DJ</td>\n",
       "                        <td id=\"T_2349f826_48c5_11ec_b985_acde48001122row7_col2\" class=\"data row7 col2\" >LeMahieu</td>\n",
       "                        <td id=\"T_2349f826_48c5_11ec_b985_acde48001122row7_col3\" class=\"data row7 col3\" >2016</td>\n",
       "                        <td id=\"T_2349f826_48c5_11ec_b985_acde48001122row7_col4\" class=\"data row7 col4\" >COL</td>\n",
       "                        <td id=\"T_2349f826_48c5_11ec_b985_acde48001122row7_col5\" class=\"data row7 col5\" >28.000000</td>\n",
       "                        <td id=\"T_2349f826_48c5_11ec_b985_acde48001122row7_col6\" class=\"data row7 col6\" >0.348000</td>\n",
       "            </tr>\n",
       "            <tr>\n",
       "                        <th id=\"T_2349f826_48c5_11ec_b985_acde48001122level0_row8\" class=\"row_heading level0 row8\" >89898</th>\n",
       "                        <td id=\"T_2349f826_48c5_11ec_b985_acde48001122row8_col0\" class=\"data row8 col0\" >2010</td>\n",
       "                        <td id=\"T_2349f826_48c5_11ec_b985_acde48001122row8_col1\" class=\"data row8 col1\" >Miguel</td>\n",
       "                        <td id=\"T_2349f826_48c5_11ec_b985_acde48001122row8_col2\" class=\"data row8 col2\" >Cabrera</td>\n",
       "                        <td id=\"T_2349f826_48c5_11ec_b985_acde48001122row8_col3\" class=\"data row8 col3\" >2013</td>\n",
       "                        <td id=\"T_2349f826_48c5_11ec_b985_acde48001122row8_col4\" class=\"data row8 col4\" >DET</td>\n",
       "                        <td id=\"T_2349f826_48c5_11ec_b985_acde48001122row8_col5\" class=\"data row8 col5\" >30.000000</td>\n",
       "                        <td id=\"T_2349f826_48c5_11ec_b985_acde48001122row8_col6\" class=\"data row8 col6\" >0.348000</td>\n",
       "            </tr>\n",
       "            <tr>\n",
       "                        <th id=\"T_2349f826_48c5_11ec_b985_acde48001122level0_row9\" class=\"row_heading level0 row9\" >97042</th>\n",
       "                        <td id=\"T_2349f826_48c5_11ec_b985_acde48001122row9_col0\" class=\"data row9 col0\" >2010</td>\n",
       "                        <td id=\"T_2349f826_48c5_11ec_b985_acde48001122row9_col1\" class=\"data row9 col1\" >Daniel</td>\n",
       "                        <td id=\"T_2349f826_48c5_11ec_b985_acde48001122row9_col2\" class=\"data row9 col2\" >Murphy</td>\n",
       "                        <td id=\"T_2349f826_48c5_11ec_b985_acde48001122row9_col3\" class=\"data row9 col3\" >2016</td>\n",
       "                        <td id=\"T_2349f826_48c5_11ec_b985_acde48001122row9_col4\" class=\"data row9 col4\" >WAS</td>\n",
       "                        <td id=\"T_2349f826_48c5_11ec_b985_acde48001122row9_col5\" class=\"data row9 col5\" >31.000000</td>\n",
       "                        <td id=\"T_2349f826_48c5_11ec_b985_acde48001122row9_col6\" class=\"data row9 col6\" >0.347000</td>\n",
       "            </tr>\n",
       "            <tr>\n",
       "                        <th id=\"T_2349f826_48c5_11ec_b985_acde48001122level0_row10\" class=\"row_heading level0 row10\" >88371</th>\n",
       "                        <td id=\"T_2349f826_48c5_11ec_b985_acde48001122row10_col0\" class=\"data row10 col0\" >2000</td>\n",
       "                        <td id=\"T_2349f826_48c5_11ec_b985_acde48001122row10_col1\" class=\"data row10 col1\" >Ichiro</td>\n",
       "                        <td id=\"T_2349f826_48c5_11ec_b985_acde48001122row10_col2\" class=\"data row10 col2\" >Suzuki</td>\n",
       "                        <td id=\"T_2349f826_48c5_11ec_b985_acde48001122row10_col3\" class=\"data row10 col3\" >2004</td>\n",
       "                        <td id=\"T_2349f826_48c5_11ec_b985_acde48001122row10_col4\" class=\"data row10 col4\" >SEA</td>\n",
       "                        <td id=\"T_2349f826_48c5_11ec_b985_acde48001122row10_col5\" class=\"data row10 col5\" >31.000000</td>\n",
       "                        <td id=\"T_2349f826_48c5_11ec_b985_acde48001122row10_col6\" class=\"data row10 col6\" >0.372000</td>\n",
       "            </tr>\n",
       "            <tr>\n",
       "                        <th id=\"T_2349f826_48c5_11ec_b985_acde48001122level0_row11\" class=\"row_heading level0 row11\" >81228</th>\n",
       "                        <td id=\"T_2349f826_48c5_11ec_b985_acde48001122row11_col0\" class=\"data row11 col0\" >2000</td>\n",
       "                        <td id=\"T_2349f826_48c5_11ec_b985_acde48001122row11_col1\" class=\"data row11 col1\" >Nomar</td>\n",
       "                        <td id=\"T_2349f826_48c5_11ec_b985_acde48001122row11_col2\" class=\"data row11 col2\" >Garciaparra</td>\n",
       "                        <td id=\"T_2349f826_48c5_11ec_b985_acde48001122row11_col3\" class=\"data row11 col3\" >2000</td>\n",
       "                        <td id=\"T_2349f826_48c5_11ec_b985_acde48001122row11_col4\" class=\"data row11 col4\" >BOS</td>\n",
       "                        <td id=\"T_2349f826_48c5_11ec_b985_acde48001122row11_col5\" class=\"data row11 col5\" >27.000000</td>\n",
       "                        <td id=\"T_2349f826_48c5_11ec_b985_acde48001122row11_col6\" class=\"data row11 col6\" >0.372000</td>\n",
       "            </tr>\n",
       "            <tr>\n",
       "                        <th id=\"T_2349f826_48c5_11ec_b985_acde48001122level0_row12\" class=\"row_heading level0 row12\" >82578</th>\n",
       "                        <td id=\"T_2349f826_48c5_11ec_b985_acde48001122row12_col0\" class=\"data row12 col0\" >2000</td>\n",
       "                        <td id=\"T_2349f826_48c5_11ec_b985_acde48001122row12_col1\" class=\"data row12 col1\" >Todd</td>\n",
       "                        <td id=\"T_2349f826_48c5_11ec_b985_acde48001122row12_col2\" class=\"data row12 col2\" >Helton</td>\n",
       "                        <td id=\"T_2349f826_48c5_11ec_b985_acde48001122row12_col3\" class=\"data row12 col3\" >2000</td>\n",
       "                        <td id=\"T_2349f826_48c5_11ec_b985_acde48001122row12_col4\" class=\"data row12 col4\" >COL</td>\n",
       "                        <td id=\"T_2349f826_48c5_11ec_b985_acde48001122row12_col5\" class=\"data row12 col5\" >27.000000</td>\n",
       "                        <td id=\"T_2349f826_48c5_11ec_b985_acde48001122row12_col6\" class=\"data row12 col6\" >0.372000</td>\n",
       "            </tr>\n",
       "            <tr>\n",
       "                        <th id=\"T_2349f826_48c5_11ec_b985_acde48001122level0_row13\" class=\"row_heading level0 row13\" >68497</th>\n",
       "                        <td id=\"T_2349f826_48c5_11ec_b985_acde48001122row13_col0\" class=\"data row13 col0\" >2000</td>\n",
       "                        <td id=\"T_2349f826_48c5_11ec_b985_acde48001122row13_col1\" class=\"data row13 col1\" >Barry</td>\n",
       "                        <td id=\"T_2349f826_48c5_11ec_b985_acde48001122row13_col2\" class=\"data row13 col2\" >Bonds</td>\n",
       "                        <td id=\"T_2349f826_48c5_11ec_b985_acde48001122row13_col3\" class=\"data row13 col3\" >2002</td>\n",
       "                        <td id=\"T_2349f826_48c5_11ec_b985_acde48001122row13_col4\" class=\"data row13 col4\" >SFN</td>\n",
       "                        <td id=\"T_2349f826_48c5_11ec_b985_acde48001122row13_col5\" class=\"data row13 col5\" >38.000000</td>\n",
       "                        <td id=\"T_2349f826_48c5_11ec_b985_acde48001122row13_col6\" class=\"data row13 col6\" >0.370000</td>\n",
       "            </tr>\n",
       "            <tr>\n",
       "                        <th id=\"T_2349f826_48c5_11ec_b985_acde48001122level0_row14\" class=\"row_heading level0 row14\" >91723</th>\n",
       "                        <td id=\"T_2349f826_48c5_11ec_b985_acde48001122row14_col0\" class=\"data row14 col0\" >2000</td>\n",
       "                        <td id=\"T_2349f826_48c5_11ec_b985_acde48001122row14_col1\" class=\"data row14 col1\" >Joe</td>\n",
       "                        <td id=\"T_2349f826_48c5_11ec_b985_acde48001122row14_col2\" class=\"data row14 col2\" >Mauer</td>\n",
       "                        <td id=\"T_2349f826_48c5_11ec_b985_acde48001122row14_col3\" class=\"data row14 col3\" >2009</td>\n",
       "                        <td id=\"T_2349f826_48c5_11ec_b985_acde48001122row14_col4\" class=\"data row14 col4\" >MIN</td>\n",
       "                        <td id=\"T_2349f826_48c5_11ec_b985_acde48001122row14_col5\" class=\"data row14 col5\" >26.000000</td>\n",
       "                        <td id=\"T_2349f826_48c5_11ec_b985_acde48001122row14_col6\" class=\"data row14 col6\" >0.365000</td>\n",
       "            </tr>\n",
       "            <tr>\n",
       "                        <th id=\"T_2349f826_48c5_11ec_b985_acde48001122level0_row15\" class=\"row_heading level0 row15\" >64707</th>\n",
       "                        <td id=\"T_2349f826_48c5_11ec_b985_acde48001122row15_col0\" class=\"data row15 col0\" >1990</td>\n",
       "                        <td id=\"T_2349f826_48c5_11ec_b985_acde48001122row15_col1\" class=\"data row15 col1\" >Tony</td>\n",
       "                        <td id=\"T_2349f826_48c5_11ec_b985_acde48001122row15_col2\" class=\"data row15 col2\" >Gwynn</td>\n",
       "                        <td id=\"T_2349f826_48c5_11ec_b985_acde48001122row15_col3\" class=\"data row15 col3\" >1994</td>\n",
       "                        <td id=\"T_2349f826_48c5_11ec_b985_acde48001122row15_col4\" class=\"data row15 col4\" >SDN</td>\n",
       "                        <td id=\"T_2349f826_48c5_11ec_b985_acde48001122row15_col5\" class=\"data row15 col5\" >34.000000</td>\n",
       "                        <td id=\"T_2349f826_48c5_11ec_b985_acde48001122row15_col6\" class=\"data row15 col6\" >0.394000</td>\n",
       "            </tr>\n",
       "            <tr>\n",
       "                        <th id=\"T_2349f826_48c5_11ec_b985_acde48001122level0_row16\" class=\"row_heading level0 row16\" >72984</th>\n",
       "                        <td id=\"T_2349f826_48c5_11ec_b985_acde48001122row16_col0\" class=\"data row16 col0\" >1990</td>\n",
       "                        <td id=\"T_2349f826_48c5_11ec_b985_acde48001122row16_col1\" class=\"data row16 col1\" >Larry</td>\n",
       "                        <td id=\"T_2349f826_48c5_11ec_b985_acde48001122row16_col2\" class=\"data row16 col2\" >Walker</td>\n",
       "                        <td id=\"T_2349f826_48c5_11ec_b985_acde48001122row16_col3\" class=\"data row16 col3\" >1999</td>\n",
       "                        <td id=\"T_2349f826_48c5_11ec_b985_acde48001122row16_col4\" class=\"data row16 col4\" >COL</td>\n",
       "                        <td id=\"T_2349f826_48c5_11ec_b985_acde48001122row16_col5\" class=\"data row16 col5\" >33.000000</td>\n",
       "                        <td id=\"T_2349f826_48c5_11ec_b985_acde48001122row16_col6\" class=\"data row16 col6\" >0.379000</td>\n",
       "            </tr>\n",
       "            <tr>\n",
       "                        <th id=\"T_2349f826_48c5_11ec_b985_acde48001122level0_row17\" class=\"row_heading level0 row17\" >64710</th>\n",
       "                        <td id=\"T_2349f826_48c5_11ec_b985_acde48001122row17_col0\" class=\"data row17 col0\" >1990</td>\n",
       "                        <td id=\"T_2349f826_48c5_11ec_b985_acde48001122row17_col1\" class=\"data row17 col1\" >Tony</td>\n",
       "                        <td id=\"T_2349f826_48c5_11ec_b985_acde48001122row17_col2\" class=\"data row17 col2\" >Gwynn</td>\n",
       "                        <td id=\"T_2349f826_48c5_11ec_b985_acde48001122row17_col3\" class=\"data row17 col3\" >1997</td>\n",
       "                        <td id=\"T_2349f826_48c5_11ec_b985_acde48001122row17_col4\" class=\"data row17 col4\" >SDN</td>\n",
       "                        <td id=\"T_2349f826_48c5_11ec_b985_acde48001122row17_col5\" class=\"data row17 col5\" >37.000000</td>\n",
       "                        <td id=\"T_2349f826_48c5_11ec_b985_acde48001122row17_col6\" class=\"data row17 col6\" >0.372000</td>\n",
       "            </tr>\n",
       "            <tr>\n",
       "                        <th id=\"T_2349f826_48c5_11ec_b985_acde48001122level0_row18\" class=\"row_heading level0 row18\" >67739</th>\n",
       "                        <td id=\"T_2349f826_48c5_11ec_b985_acde48001122row18_col0\" class=\"data row18 col0\" >1990</td>\n",
       "                        <td id=\"T_2349f826_48c5_11ec_b985_acde48001122row18_col1\" class=\"data row18 col1\" >Andres</td>\n",
       "                        <td id=\"T_2349f826_48c5_11ec_b985_acde48001122row18_col2\" class=\"data row18 col2\" >Galarraga</td>\n",
       "                        <td id=\"T_2349f826_48c5_11ec_b985_acde48001122row18_col3\" class=\"data row18 col3\" >1993</td>\n",
       "                        <td id=\"T_2349f826_48c5_11ec_b985_acde48001122row18_col4\" class=\"data row18 col4\" >COL</td>\n",
       "                        <td id=\"T_2349f826_48c5_11ec_b985_acde48001122row18_col5\" class=\"data row18 col5\" >32.000000</td>\n",
       "                        <td id=\"T_2349f826_48c5_11ec_b985_acde48001122row18_col6\" class=\"data row18 col6\" >0.370000</td>\n",
       "            </tr>\n",
       "            <tr>\n",
       "                        <th id=\"T_2349f826_48c5_11ec_b985_acde48001122level0_row19\" class=\"row_heading level0 row19\" >64708</th>\n",
       "                        <td id=\"T_2349f826_48c5_11ec_b985_acde48001122row19_col0\" class=\"data row19 col0\" >1990</td>\n",
       "                        <td id=\"T_2349f826_48c5_11ec_b985_acde48001122row19_col1\" class=\"data row19 col1\" >Tony</td>\n",
       "                        <td id=\"T_2349f826_48c5_11ec_b985_acde48001122row19_col2\" class=\"data row19 col2\" >Gwynn</td>\n",
       "                        <td id=\"T_2349f826_48c5_11ec_b985_acde48001122row19_col3\" class=\"data row19 col3\" >1995</td>\n",
       "                        <td id=\"T_2349f826_48c5_11ec_b985_acde48001122row19_col4\" class=\"data row19 col4\" >SDN</td>\n",
       "                        <td id=\"T_2349f826_48c5_11ec_b985_acde48001122row19_col5\" class=\"data row19 col5\" >35.000000</td>\n",
       "                        <td id=\"T_2349f826_48c5_11ec_b985_acde48001122row19_col6\" class=\"data row19 col6\" >0.368000</td>\n",
       "            </tr>\n",
       "            <tr>\n",
       "                        <th id=\"T_2349f826_48c5_11ec_b985_acde48001122level0_row20\" class=\"row_heading level0 row20\" >55743</th>\n",
       "                        <td id=\"T_2349f826_48c5_11ec_b985_acde48001122row20_col0\" class=\"data row20 col0\" >1980</td>\n",
       "                        <td id=\"T_2349f826_48c5_11ec_b985_acde48001122row20_col1\" class=\"data row20 col1\" >George</td>\n",
       "                        <td id=\"T_2349f826_48c5_11ec_b985_acde48001122row20_col2\" class=\"data row20 col2\" >Brett</td>\n",
       "                        <td id=\"T_2349f826_48c5_11ec_b985_acde48001122row20_col3\" class=\"data row20 col3\" >1980</td>\n",
       "                        <td id=\"T_2349f826_48c5_11ec_b985_acde48001122row20_col4\" class=\"data row20 col4\" >KCA</td>\n",
       "                        <td id=\"T_2349f826_48c5_11ec_b985_acde48001122row20_col5\" class=\"data row20 col5\" >27.000000</td>\n",
       "                        <td id=\"T_2349f826_48c5_11ec_b985_acde48001122row20_col6\" class=\"data row20 col6\" >0.390000</td>\n",
       "            </tr>\n",
       "            <tr>\n",
       "                        <th id=\"T_2349f826_48c5_11ec_b985_acde48001122level0_row21\" class=\"row_heading level0 row21\" >64700</th>\n",
       "                        <td id=\"T_2349f826_48c5_11ec_b985_acde48001122row21_col0\" class=\"data row21 col0\" >1980</td>\n",
       "                        <td id=\"T_2349f826_48c5_11ec_b985_acde48001122row21_col1\" class=\"data row21 col1\" >Tony</td>\n",
       "                        <td id=\"T_2349f826_48c5_11ec_b985_acde48001122row21_col2\" class=\"data row21 col2\" >Gwynn</td>\n",
       "                        <td id=\"T_2349f826_48c5_11ec_b985_acde48001122row21_col3\" class=\"data row21 col3\" >1987</td>\n",
       "                        <td id=\"T_2349f826_48c5_11ec_b985_acde48001122row21_col4\" class=\"data row21 col4\" >SDN</td>\n",
       "                        <td id=\"T_2349f826_48c5_11ec_b985_acde48001122row21_col5\" class=\"data row21 col5\" >27.000000</td>\n",
       "                        <td id=\"T_2349f826_48c5_11ec_b985_acde48001122row21_col6\" class=\"data row21 col6\" >0.370000</td>\n",
       "            </tr>\n",
       "            <tr>\n",
       "                        <th id=\"T_2349f826_48c5_11ec_b985_acde48001122level0_row22\" class=\"row_heading level0 row22\" >64414</th>\n",
       "                        <td id=\"T_2349f826_48c5_11ec_b985_acde48001122row22_col0\" class=\"data row22 col0\" >1980</td>\n",
       "                        <td id=\"T_2349f826_48c5_11ec_b985_acde48001122row22_col1\" class=\"data row22 col1\" >Wade</td>\n",
       "                        <td id=\"T_2349f826_48c5_11ec_b985_acde48001122row22_col2\" class=\"data row22 col2\" >Boggs</td>\n",
       "                        <td id=\"T_2349f826_48c5_11ec_b985_acde48001122row22_col3\" class=\"data row22 col3\" >1985</td>\n",
       "                        <td id=\"T_2349f826_48c5_11ec_b985_acde48001122row22_col4\" class=\"data row22 col4\" >BOS</td>\n",
       "                        <td id=\"T_2349f826_48c5_11ec_b985_acde48001122row22_col5\" class=\"data row22 col5\" >27.000000</td>\n",
       "                        <td id=\"T_2349f826_48c5_11ec_b985_acde48001122row22_col6\" class=\"data row22 col6\" >0.368000</td>\n",
       "            </tr>\n",
       "            <tr>\n",
       "                        <th id=\"T_2349f826_48c5_11ec_b985_acde48001122level0_row23\" class=\"row_heading level0 row23\" >64417</th>\n",
       "                        <td id=\"T_2349f826_48c5_11ec_b985_acde48001122row23_col0\" class=\"data row23 col0\" >1980</td>\n",
       "                        <td id=\"T_2349f826_48c5_11ec_b985_acde48001122row23_col1\" class=\"data row23 col1\" >Wade</td>\n",
       "                        <td id=\"T_2349f826_48c5_11ec_b985_acde48001122row23_col2\" class=\"data row23 col2\" >Boggs</td>\n",
       "                        <td id=\"T_2349f826_48c5_11ec_b985_acde48001122row23_col3\" class=\"data row23 col3\" >1988</td>\n",
       "                        <td id=\"T_2349f826_48c5_11ec_b985_acde48001122row23_col4\" class=\"data row23 col4\" >BOS</td>\n",
       "                        <td id=\"T_2349f826_48c5_11ec_b985_acde48001122row23_col5\" class=\"data row23 col5\" >30.000000</td>\n",
       "                        <td id=\"T_2349f826_48c5_11ec_b985_acde48001122row23_col6\" class=\"data row23 col6\" >0.366000</td>\n",
       "            </tr>\n",
       "            <tr>\n",
       "                        <th id=\"T_2349f826_48c5_11ec_b985_acde48001122level0_row24\" class=\"row_heading level0 row24\" >64416</th>\n",
       "                        <td id=\"T_2349f826_48c5_11ec_b985_acde48001122row24_col0\" class=\"data row24 col0\" >1980</td>\n",
       "                        <td id=\"T_2349f826_48c5_11ec_b985_acde48001122row24_col1\" class=\"data row24 col1\" >Wade</td>\n",
       "                        <td id=\"T_2349f826_48c5_11ec_b985_acde48001122row24_col2\" class=\"data row24 col2\" >Boggs</td>\n",
       "                        <td id=\"T_2349f826_48c5_11ec_b985_acde48001122row24_col3\" class=\"data row24 col3\" >1987</td>\n",
       "                        <td id=\"T_2349f826_48c5_11ec_b985_acde48001122row24_col4\" class=\"data row24 col4\" >BOS</td>\n",
       "                        <td id=\"T_2349f826_48c5_11ec_b985_acde48001122row24_col5\" class=\"data row24 col5\" >29.000000</td>\n",
       "                        <td id=\"T_2349f826_48c5_11ec_b985_acde48001122row24_col6\" class=\"data row24 col6\" >0.363000</td>\n",
       "            </tr>\n",
       "            <tr>\n",
       "                        <th id=\"T_2349f826_48c5_11ec_b985_acde48001122level0_row25\" class=\"row_heading level0 row25\" >50257</th>\n",
       "                        <td id=\"T_2349f826_48c5_11ec_b985_acde48001122row25_col0\" class=\"data row25 col0\" >1970</td>\n",
       "                        <td id=\"T_2349f826_48c5_11ec_b985_acde48001122row25_col1\" class=\"data row25 col1\" >Rod</td>\n",
       "                        <td id=\"T_2349f826_48c5_11ec_b985_acde48001122row25_col2\" class=\"data row25 col2\" >Carew</td>\n",
       "                        <td id=\"T_2349f826_48c5_11ec_b985_acde48001122row25_col3\" class=\"data row25 col3\" >1977</td>\n",
       "                        <td id=\"T_2349f826_48c5_11ec_b985_acde48001122row25_col4\" class=\"data row25 col4\" >MIN</td>\n",
       "                        <td id=\"T_2349f826_48c5_11ec_b985_acde48001122row25_col5\" class=\"data row25 col5\" >32.000000</td>\n",
       "                        <td id=\"T_2349f826_48c5_11ec_b985_acde48001122row25_col6\" class=\"data row25 col6\" >0.388000</td>\n",
       "            </tr>\n",
       "            <tr>\n",
       "                        <th id=\"T_2349f826_48c5_11ec_b985_acde48001122level0_row26\" class=\"row_heading level0 row26\" >46764</th>\n",
       "                        <td id=\"T_2349f826_48c5_11ec_b985_acde48001122row26_col0\" class=\"data row26 col0\" >1970</td>\n",
       "                        <td id=\"T_2349f826_48c5_11ec_b985_acde48001122row26_col1\" class=\"data row26 col1\" >Rico</td>\n",
       "                        <td id=\"T_2349f826_48c5_11ec_b985_acde48001122row26_col2\" class=\"data row26 col2\" >Carty</td>\n",
       "                        <td id=\"T_2349f826_48c5_11ec_b985_acde48001122row26_col3\" class=\"data row26 col3\" >1970</td>\n",
       "                        <td id=\"T_2349f826_48c5_11ec_b985_acde48001122row26_col4\" class=\"data row26 col4\" >ATL</td>\n",
       "                        <td id=\"T_2349f826_48c5_11ec_b985_acde48001122row26_col5\" class=\"data row26 col5\" >31.000000</td>\n",
       "                        <td id=\"T_2349f826_48c5_11ec_b985_acde48001122row26_col6\" class=\"data row26 col6\" >0.366000</td>\n",
       "            </tr>\n",
       "            <tr>\n",
       "                        <th id=\"T_2349f826_48c5_11ec_b985_acde48001122level0_row27\" class=\"row_heading level0 row27\" >50254</th>\n",
       "                        <td id=\"T_2349f826_48c5_11ec_b985_acde48001122row27_col0\" class=\"data row27 col0\" >1970</td>\n",
       "                        <td id=\"T_2349f826_48c5_11ec_b985_acde48001122row27_col1\" class=\"data row27 col1\" >Rod</td>\n",
       "                        <td id=\"T_2349f826_48c5_11ec_b985_acde48001122row27_col2\" class=\"data row27 col2\" >Carew</td>\n",
       "                        <td id=\"T_2349f826_48c5_11ec_b985_acde48001122row27_col3\" class=\"data row27 col3\" >1974</td>\n",
       "                        <td id=\"T_2349f826_48c5_11ec_b985_acde48001122row27_col4\" class=\"data row27 col4\" >MIN</td>\n",
       "                        <td id=\"T_2349f826_48c5_11ec_b985_acde48001122row27_col5\" class=\"data row27 col5\" >29.000000</td>\n",
       "                        <td id=\"T_2349f826_48c5_11ec_b985_acde48001122row27_col6\" class=\"data row27 col6\" >0.364000</td>\n",
       "            </tr>\n",
       "            <tr>\n",
       "                        <th id=\"T_2349f826_48c5_11ec_b985_acde48001122level0_row28\" class=\"row_heading level0 row28\" >44752</th>\n",
       "                        <td id=\"T_2349f826_48c5_11ec_b985_acde48001122row28_col0\" class=\"data row28 col0\" >1970</td>\n",
       "                        <td id=\"T_2349f826_48c5_11ec_b985_acde48001122row28_col1\" class=\"data row28 col1\" >Joe</td>\n",
       "                        <td id=\"T_2349f826_48c5_11ec_b985_acde48001122row28_col2\" class=\"data row28 col2\" >Torre</td>\n",
       "                        <td id=\"T_2349f826_48c5_11ec_b985_acde48001122row28_col3\" class=\"data row28 col3\" >1971</td>\n",
       "                        <td id=\"T_2349f826_48c5_11ec_b985_acde48001122row28_col4\" class=\"data row28 col4\" >SLN</td>\n",
       "                        <td id=\"T_2349f826_48c5_11ec_b985_acde48001122row28_col5\" class=\"data row28 col5\" >31.000000</td>\n",
       "                        <td id=\"T_2349f826_48c5_11ec_b985_acde48001122row28_col6\" class=\"data row28 col6\" >0.363000</td>\n",
       "            </tr>\n",
       "            <tr>\n",
       "                        <th id=\"T_2349f826_48c5_11ec_b985_acde48001122level0_row29\" class=\"row_heading level0 row29\" >50255</th>\n",
       "                        <td id=\"T_2349f826_48c5_11ec_b985_acde48001122row29_col0\" class=\"data row29 col0\" >1970</td>\n",
       "                        <td id=\"T_2349f826_48c5_11ec_b985_acde48001122row29_col1\" class=\"data row29 col1\" >Rod</td>\n",
       "                        <td id=\"T_2349f826_48c5_11ec_b985_acde48001122row29_col2\" class=\"data row29 col2\" >Carew</td>\n",
       "                        <td id=\"T_2349f826_48c5_11ec_b985_acde48001122row29_col3\" class=\"data row29 col3\" >1975</td>\n",
       "                        <td id=\"T_2349f826_48c5_11ec_b985_acde48001122row29_col4\" class=\"data row29 col4\" >MIN</td>\n",
       "                        <td id=\"T_2349f826_48c5_11ec_b985_acde48001122row29_col5\" class=\"data row29 col5\" >30.000000</td>\n",
       "                        <td id=\"T_2349f826_48c5_11ec_b985_acde48001122row29_col6\" class=\"data row29 col6\" >0.359000</td>\n",
       "            </tr>\n",
       "            <tr>\n",
       "                        <th id=\"T_2349f826_48c5_11ec_b985_acde48001122level0_row30\" class=\"row_heading level0 row30\" >42795</th>\n",
       "                        <td id=\"T_2349f826_48c5_11ec_b985_acde48001122row30_col0\" class=\"data row30 col0\" >1960</td>\n",
       "                        <td id=\"T_2349f826_48c5_11ec_b985_acde48001122row30_col1\" class=\"data row30 col1\" >Norm</td>\n",
       "                        <td id=\"T_2349f826_48c5_11ec_b985_acde48001122row30_col2\" class=\"data row30 col2\" >Cash</td>\n",
       "                        <td id=\"T_2349f826_48c5_11ec_b985_acde48001122row30_col3\" class=\"data row30 col3\" >1961</td>\n",
       "                        <td id=\"T_2349f826_48c5_11ec_b985_acde48001122row30_col4\" class=\"data row30 col4\" >DET</td>\n",
       "                        <td id=\"T_2349f826_48c5_11ec_b985_acde48001122row30_col5\" class=\"data row30 col5\" >28.000000</td>\n",
       "                        <td id=\"T_2349f826_48c5_11ec_b985_acde48001122row30_col6\" class=\"data row30 col6\" >0.361000</td>\n",
       "            </tr>\n",
       "            <tr>\n",
       "                        <th id=\"T_2349f826_48c5_11ec_b985_acde48001122level0_row31\" class=\"row_heading level0 row31\" >40793</th>\n",
       "                        <td id=\"T_2349f826_48c5_11ec_b985_acde48001122row31_col0\" class=\"data row31 col0\" >1960</td>\n",
       "                        <td id=\"T_2349f826_48c5_11ec_b985_acde48001122row31_col1\" class=\"data row31 col1\" >Roberto</td>\n",
       "                        <td id=\"T_2349f826_48c5_11ec_b985_acde48001122row31_col2\" class=\"data row31 col2\" >Clemente</td>\n",
       "                        <td id=\"T_2349f826_48c5_11ec_b985_acde48001122row31_col3\" class=\"data row31 col3\" >1967</td>\n",
       "                        <td id=\"T_2349f826_48c5_11ec_b985_acde48001122row31_col4\" class=\"data row31 col4\" >PIT</td>\n",
       "                        <td id=\"T_2349f826_48c5_11ec_b985_acde48001122row31_col5\" class=\"data row31 col5\" >33.000000</td>\n",
       "                        <td id=\"T_2349f826_48c5_11ec_b985_acde48001122row31_col6\" class=\"data row31 col6\" >0.357000</td>\n",
       "            </tr>\n",
       "            <tr>\n",
       "                        <th id=\"T_2349f826_48c5_11ec_b985_acde48001122level0_row32\" class=\"row_heading level0 row32\" >40787</th>\n",
       "                        <td id=\"T_2349f826_48c5_11ec_b985_acde48001122row32_col0\" class=\"data row32 col0\" >1960</td>\n",
       "                        <td id=\"T_2349f826_48c5_11ec_b985_acde48001122row32_col1\" class=\"data row32 col1\" >Roberto</td>\n",
       "                        <td id=\"T_2349f826_48c5_11ec_b985_acde48001122row32_col2\" class=\"data row32 col2\" >Clemente</td>\n",
       "                        <td id=\"T_2349f826_48c5_11ec_b985_acde48001122row32_col3\" class=\"data row32 col3\" >1961</td>\n",
       "                        <td id=\"T_2349f826_48c5_11ec_b985_acde48001122row32_col4\" class=\"data row32 col4\" >PIT</td>\n",
       "                        <td id=\"T_2349f826_48c5_11ec_b985_acde48001122row32_col5\" class=\"data row32 col5\" >27.000000</td>\n",
       "                        <td id=\"T_2349f826_48c5_11ec_b985_acde48001122row32_col6\" class=\"data row32 col6\" >0.351000</td>\n",
       "            </tr>\n",
       "            <tr>\n",
       "                        <th id=\"T_2349f826_48c5_11ec_b985_acde48001122level0_row33\" class=\"row_heading level0 row33\" >40951</th>\n",
       "                        <td id=\"T_2349f826_48c5_11ec_b985_acde48001122row33_col0\" class=\"data row33 col0\" >1960</td>\n",
       "                        <td id=\"T_2349f826_48c5_11ec_b985_acde48001122row33_col1\" class=\"data row33 col1\" >Elston</td>\n",
       "                        <td id=\"T_2349f826_48c5_11ec_b985_acde48001122row33_col2\" class=\"data row33 col2\" >Howard</td>\n",
       "                        <td id=\"T_2349f826_48c5_11ec_b985_acde48001122row33_col3\" class=\"data row33 col3\" >1961</td>\n",
       "                        <td id=\"T_2349f826_48c5_11ec_b985_acde48001122row33_col4\" class=\"data row33 col4\" >NYA</td>\n",
       "                        <td id=\"T_2349f826_48c5_11ec_b985_acde48001122row33_col5\" class=\"data row33 col5\" >32.000000</td>\n",
       "                        <td id=\"T_2349f826_48c5_11ec_b985_acde48001122row33_col6\" class=\"data row33 col6\" >0.348000</td>\n",
       "            </tr>\n",
       "            <tr>\n",
       "                        <th id=\"T_2349f826_48c5_11ec_b985_acde48001122level0_row34\" class=\"row_heading level0 row34\" >44866</th>\n",
       "                        <td id=\"T_2349f826_48c5_11ec_b985_acde48001122row34_col0\" class=\"data row34 col0\" >1960</td>\n",
       "                        <td id=\"T_2349f826_48c5_11ec_b985_acde48001122row34_col1\" class=\"data row34 col1\" >Lou</td>\n",
       "                        <td id=\"T_2349f826_48c5_11ec_b985_acde48001122row34_col2\" class=\"data row34 col2\" >Brock</td>\n",
       "                        <td id=\"T_2349f826_48c5_11ec_b985_acde48001122row34_col3\" class=\"data row34 col3\" >1964</td>\n",
       "                        <td id=\"T_2349f826_48c5_11ec_b985_acde48001122row34_col4\" class=\"data row34 col4\" >SLN</td>\n",
       "                        <td id=\"T_2349f826_48c5_11ec_b985_acde48001122row34_col5\" class=\"data row34 col5\" >25.000000</td>\n",
       "                        <td id=\"T_2349f826_48c5_11ec_b985_acde48001122row34_col6\" class=\"data row34 col6\" >0.348000</td>\n",
       "            </tr>\n",
       "            <tr>\n",
       "                        <th id=\"T_2349f826_48c5_11ec_b985_acde48001122level0_row35\" class=\"row_heading level0 row35\" >31457</th>\n",
       "                        <td id=\"T_2349f826_48c5_11ec_b985_acde48001122row35_col0\" class=\"data row35 col0\" >1950</td>\n",
       "                        <td id=\"T_2349f826_48c5_11ec_b985_acde48001122row35_col1\" class=\"data row35 col1\" >Ted</td>\n",
       "                        <td id=\"T_2349f826_48c5_11ec_b985_acde48001122row35_col2\" class=\"data row35 col2\" >Williams</td>\n",
       "                        <td id=\"T_2349f826_48c5_11ec_b985_acde48001122row35_col3\" class=\"data row35 col3\" >1957</td>\n",
       "                        <td id=\"T_2349f826_48c5_11ec_b985_acde48001122row35_col4\" class=\"data row35 col4\" >BOS</td>\n",
       "                        <td id=\"T_2349f826_48c5_11ec_b985_acde48001122row35_col5\" class=\"data row35 col5\" >39.000000</td>\n",
       "                        <td id=\"T_2349f826_48c5_11ec_b985_acde48001122row35_col6\" class=\"data row35 col6\" >0.388000</td>\n",
       "            </tr>\n",
       "            <tr>\n",
       "                        <th id=\"T_2349f826_48c5_11ec_b985_acde48001122level0_row36\" class=\"row_heading level0 row36\" >36883</th>\n",
       "                        <td id=\"T_2349f826_48c5_11ec_b985_acde48001122row36_col0\" class=\"data row36 col0\" >1950</td>\n",
       "                        <td id=\"T_2349f826_48c5_11ec_b985_acde48001122row36_col1\" class=\"data row36 col1\" >Smoky</td>\n",
       "                        <td id=\"T_2349f826_48c5_11ec_b985_acde48001122row36_col2\" class=\"data row36 col2\" >Burgess</td>\n",
       "                        <td id=\"T_2349f826_48c5_11ec_b985_acde48001122row36_col3\" class=\"data row36 col3\" >1954</td>\n",
       "                        <td id=\"T_2349f826_48c5_11ec_b985_acde48001122row36_col4\" class=\"data row36 col4\" >PHI</td>\n",
       "                        <td id=\"T_2349f826_48c5_11ec_b985_acde48001122row36_col5\" class=\"data row36 col5\" >27.000000</td>\n",
       "                        <td id=\"T_2349f826_48c5_11ec_b985_acde48001122row36_col6\" class=\"data row36 col6\" >0.368000</td>\n",
       "            </tr>\n",
       "            <tr>\n",
       "                        <th id=\"T_2349f826_48c5_11ec_b985_acde48001122level0_row37\" class=\"row_heading level0 row37\" >38324</th>\n",
       "                        <td id=\"T_2349f826_48c5_11ec_b985_acde48001122row37_col0\" class=\"data row37 col0\" >1950</td>\n",
       "                        <td id=\"T_2349f826_48c5_11ec_b985_acde48001122row37_col1\" class=\"data row37 col1\" >Mickey</td>\n",
       "                        <td id=\"T_2349f826_48c5_11ec_b985_acde48001122row37_col2\" class=\"data row37 col2\" >Mantle</td>\n",
       "                        <td id=\"T_2349f826_48c5_11ec_b985_acde48001122row37_col3\" class=\"data row37 col3\" >1957</td>\n",
       "                        <td id=\"T_2349f826_48c5_11ec_b985_acde48001122row37_col4\" class=\"data row37 col4\" >NYA</td>\n",
       "                        <td id=\"T_2349f826_48c5_11ec_b985_acde48001122row37_col5\" class=\"data row37 col5\" >26.000000</td>\n",
       "                        <td id=\"T_2349f826_48c5_11ec_b985_acde48001122row37_col6\" class=\"data row37 col6\" >0.365000</td>\n",
       "            </tr>\n",
       "            <tr>\n",
       "                        <th id=\"T_2349f826_48c5_11ec_b985_acde48001122level0_row38\" class=\"row_heading level0 row38\" >31996</th>\n",
       "                        <td id=\"T_2349f826_48c5_11ec_b985_acde48001122row38_col0\" class=\"data row38 col0\" >1950</td>\n",
       "                        <td id=\"T_2349f826_48c5_11ec_b985_acde48001122row38_col1\" class=\"data row38 col1\" >Elmer</td>\n",
       "                        <td id=\"T_2349f826_48c5_11ec_b985_acde48001122row38_col2\" class=\"data row38 col2\" >Valo</td>\n",
       "                        <td id=\"T_2349f826_48c5_11ec_b985_acde48001122row38_col3\" class=\"data row38 col3\" >1955</td>\n",
       "                        <td id=\"T_2349f826_48c5_11ec_b985_acde48001122row38_col4\" class=\"data row38 col4\" >KC1</td>\n",
       "                        <td id=\"T_2349f826_48c5_11ec_b985_acde48001122row38_col5\" class=\"data row38 col5\" >34.000000</td>\n",
       "                        <td id=\"T_2349f826_48c5_11ec_b985_acde48001122row38_col6\" class=\"data row38 col6\" >0.364000</td>\n",
       "            </tr>\n",
       "            <tr>\n",
       "                        <th id=\"T_2349f826_48c5_11ec_b985_acde48001122level0_row39\" class=\"row_heading level0 row39\" >41678</th>\n",
       "                        <td id=\"T_2349f826_48c5_11ec_b985_acde48001122row39_col0\" class=\"data row39 col0\" >1950</td>\n",
       "                        <td id=\"T_2349f826_48c5_11ec_b985_acde48001122row39_col1\" class=\"data row39 col1\" >Tito</td>\n",
       "                        <td id=\"T_2349f826_48c5_11ec_b985_acde48001122row39_col2\" class=\"data row39 col2\" >Francona</td>\n",
       "                        <td id=\"T_2349f826_48c5_11ec_b985_acde48001122row39_col3\" class=\"data row39 col3\" >1959</td>\n",
       "                        <td id=\"T_2349f826_48c5_11ec_b985_acde48001122row39_col4\" class=\"data row39 col4\" >CLE</td>\n",
       "                        <td id=\"T_2349f826_48c5_11ec_b985_acde48001122row39_col5\" class=\"data row39 col5\" >26.000000</td>\n",
       "                        <td id=\"T_2349f826_48c5_11ec_b985_acde48001122row39_col6\" class=\"data row39 col6\" >0.363000</td>\n",
       "            </tr>\n",
       "            <tr>\n",
       "                        <th id=\"T_2349f826_48c5_11ec_b985_acde48001122level0_row40\" class=\"row_heading level0 row40\" >31444</th>\n",
       "                        <td id=\"T_2349f826_48c5_11ec_b985_acde48001122row40_col0\" class=\"data row40 col0\" >1940</td>\n",
       "                        <td id=\"T_2349f826_48c5_11ec_b985_acde48001122row40_col1\" class=\"data row40 col1\" >Ted</td>\n",
       "                        <td id=\"T_2349f826_48c5_11ec_b985_acde48001122row40_col2\" class=\"data row40 col2\" >Williams</td>\n",
       "                        <td id=\"T_2349f826_48c5_11ec_b985_acde48001122row40_col3\" class=\"data row40 col3\" >1941</td>\n",
       "                        <td id=\"T_2349f826_48c5_11ec_b985_acde48001122row40_col4\" class=\"data row40 col4\" >BOS</td>\n",
       "                        <td id=\"T_2349f826_48c5_11ec_b985_acde48001122row40_col5\" class=\"data row40 col5\" >23.000000</td>\n",
       "                        <td id=\"T_2349f826_48c5_11ec_b985_acde48001122row40_col6\" class=\"data row40 col6\" >0.406000</td>\n",
       "            </tr>\n",
       "            <tr>\n",
       "                        <th id=\"T_2349f826_48c5_11ec_b985_acde48001122level0_row41\" class=\"row_heading level0 row41\" >32458</th>\n",
       "                        <td id=\"T_2349f826_48c5_11ec_b985_acde48001122row41_col0\" class=\"data row41 col0\" >1940</td>\n",
       "                        <td id=\"T_2349f826_48c5_11ec_b985_acde48001122row41_col1\" class=\"data row41 col1\" >Stan</td>\n",
       "                        <td id=\"T_2349f826_48c5_11ec_b985_acde48001122row41_col2\" class=\"data row41 col2\" >Musial</td>\n",
       "                        <td id=\"T_2349f826_48c5_11ec_b985_acde48001122row41_col3\" class=\"data row41 col3\" >1948</td>\n",
       "                        <td id=\"T_2349f826_48c5_11ec_b985_acde48001122row41_col4\" class=\"data row41 col4\" >SLN</td>\n",
       "                        <td id=\"T_2349f826_48c5_11ec_b985_acde48001122row41_col5\" class=\"data row41 col5\" >28.000000</td>\n",
       "                        <td id=\"T_2349f826_48c5_11ec_b985_acde48001122row41_col6\" class=\"data row41 col6\" >0.376000</td>\n",
       "            </tr>\n",
       "            <tr>\n",
       "                        <th id=\"T_2349f826_48c5_11ec_b985_acde48001122level0_row42\" class=\"row_heading level0 row42\" >32015</th>\n",
       "                        <td id=\"T_2349f826_48c5_11ec_b985_acde48001122row42_col0\" class=\"data row42 col0\" >1940</td>\n",
       "                        <td id=\"T_2349f826_48c5_11ec_b985_acde48001122row42_col1\" class=\"data row42 col1\" >Harry</td>\n",
       "                        <td id=\"T_2349f826_48c5_11ec_b985_acde48001122row42_col2\" class=\"data row42 col2\" >Walker</td>\n",
       "                        <td id=\"T_2349f826_48c5_11ec_b985_acde48001122row42_col3\" class=\"data row42 col3\" >1947</td>\n",
       "                        <td id=\"T_2349f826_48c5_11ec_b985_acde48001122row42_col4\" class=\"data row42 col4\" >PHI</td>\n",
       "                        <td id=\"T_2349f826_48c5_11ec_b985_acde48001122row42_col5\" class=\"data row42 col5\" >29.000000</td>\n",
       "                        <td id=\"T_2349f826_48c5_11ec_b985_acde48001122row42_col6\" class=\"data row42 col6\" >0.371000</td>\n",
       "            </tr>\n",
       "            <tr>\n",
       "                        <th id=\"T_2349f826_48c5_11ec_b985_acde48001122level0_row43\" class=\"row_heading level0 row43\" >31448</th>\n",
       "                        <td id=\"T_2349f826_48c5_11ec_b985_acde48001122row43_col0\" class=\"data row43 col0\" >1940</td>\n",
       "                        <td id=\"T_2349f826_48c5_11ec_b985_acde48001122row43_col1\" class=\"data row43 col1\" >Ted</td>\n",
       "                        <td id=\"T_2349f826_48c5_11ec_b985_acde48001122row43_col2\" class=\"data row43 col2\" >Williams</td>\n",
       "                        <td id=\"T_2349f826_48c5_11ec_b985_acde48001122row43_col3\" class=\"data row43 col3\" >1948</td>\n",
       "                        <td id=\"T_2349f826_48c5_11ec_b985_acde48001122row43_col4\" class=\"data row43 col4\" >BOS</td>\n",
       "                        <td id=\"T_2349f826_48c5_11ec_b985_acde48001122row43_col5\" class=\"data row43 col5\" >30.000000</td>\n",
       "                        <td id=\"T_2349f826_48c5_11ec_b985_acde48001122row43_col6\" class=\"data row43 col6\" >0.369000</td>\n",
       "            </tr>\n",
       "            <tr>\n",
       "                        <th id=\"T_2349f826_48c5_11ec_b985_acde48001122level0_row44\" class=\"row_heading level0 row44\" >32456</th>\n",
       "                        <td id=\"T_2349f826_48c5_11ec_b985_acde48001122row44_col0\" class=\"data row44 col0\" >1940</td>\n",
       "                        <td id=\"T_2349f826_48c5_11ec_b985_acde48001122row44_col1\" class=\"data row44 col1\" >Stan</td>\n",
       "                        <td id=\"T_2349f826_48c5_11ec_b985_acde48001122row44_col2\" class=\"data row44 col2\" >Musial</td>\n",
       "                        <td id=\"T_2349f826_48c5_11ec_b985_acde48001122row44_col3\" class=\"data row44 col3\" >1946</td>\n",
       "                        <td id=\"T_2349f826_48c5_11ec_b985_acde48001122row44_col4\" class=\"data row44 col4\" >SLN</td>\n",
       "                        <td id=\"T_2349f826_48c5_11ec_b985_acde48001122row44_col5\" class=\"data row44 col5\" >26.000000</td>\n",
       "                        <td id=\"T_2349f826_48c5_11ec_b985_acde48001122row44_col6\" class=\"data row44 col6\" >0.365000</td>\n",
       "            </tr>\n",
       "            <tr>\n",
       "                        <th id=\"T_2349f826_48c5_11ec_b985_acde48001122level0_row45\" class=\"row_heading level0 row45\" >22768</th>\n",
       "                        <td id=\"T_2349f826_48c5_11ec_b985_acde48001122row45_col0\" class=\"data row45 col0\" >1930</td>\n",
       "                        <td id=\"T_2349f826_48c5_11ec_b985_acde48001122row45_col1\" class=\"data row45 col1\" >Bill</td>\n",
       "                        <td id=\"T_2349f826_48c5_11ec_b985_acde48001122row45_col2\" class=\"data row45 col2\" >Terry</td>\n",
       "                        <td id=\"T_2349f826_48c5_11ec_b985_acde48001122row45_col3\" class=\"data row45 col3\" >1930</td>\n",
       "                        <td id=\"T_2349f826_48c5_11ec_b985_acde48001122row45_col4\" class=\"data row45 col4\" >NY1</td>\n",
       "                        <td id=\"T_2349f826_48c5_11ec_b985_acde48001122row45_col5\" class=\"data row45 col5\" >32.000000</td>\n",
       "                        <td id=\"T_2349f826_48c5_11ec_b985_acde48001122row45_col6\" class=\"data row45 col6\" >0.401000</td>\n",
       "            </tr>\n",
       "            <tr>\n",
       "                        <th id=\"T_2349f826_48c5_11ec_b985_acde48001122level0_row46\" class=\"row_heading level0 row46\" >30066</th>\n",
       "                        <td id=\"T_2349f826_48c5_11ec_b985_acde48001122row46_col0\" class=\"data row46 col0\" >1930</td>\n",
       "                        <td id=\"T_2349f826_48c5_11ec_b985_acde48001122row46_col1\" class=\"data row46 col1\" >Don</td>\n",
       "                        <td id=\"T_2349f826_48c5_11ec_b985_acde48001122row46_col2\" class=\"data row46 col2\" >Padgett</td>\n",
       "                        <td id=\"T_2349f826_48c5_11ec_b985_acde48001122row46_col3\" class=\"data row46 col3\" >1939</td>\n",
       "                        <td id=\"T_2349f826_48c5_11ec_b985_acde48001122row46_col4\" class=\"data row46 col4\" >SLN</td>\n",
       "                        <td id=\"T_2349f826_48c5_11ec_b985_acde48001122row46_col5\" class=\"data row46 col5\" >28.000000</td>\n",
       "                        <td id=\"T_2349f826_48c5_11ec_b985_acde48001122row46_col6\" class=\"data row46 col6\" >0.399000</td>\n",
       "            </tr>\n",
       "            <tr>\n",
       "                        <th id=\"T_2349f826_48c5_11ec_b985_acde48001122level0_row47\" class=\"row_heading level0 row47\" >24138</th>\n",
       "                        <td id=\"T_2349f826_48c5_11ec_b985_acde48001122row47_col0\" class=\"data row47 col0\" >1930</td>\n",
       "                        <td id=\"T_2349f826_48c5_11ec_b985_acde48001122row47_col1\" class=\"data row47 col1\" >Babe</td>\n",
       "                        <td id=\"T_2349f826_48c5_11ec_b985_acde48001122row47_col2\" class=\"data row47 col2\" >Herman</td>\n",
       "                        <td id=\"T_2349f826_48c5_11ec_b985_acde48001122row47_col3\" class=\"data row47 col3\" >1930</td>\n",
       "                        <td id=\"T_2349f826_48c5_11ec_b985_acde48001122row47_col4\" class=\"data row47 col4\" >BRO</td>\n",
       "                        <td id=\"T_2349f826_48c5_11ec_b985_acde48001122row47_col5\" class=\"data row47 col5\" >27.000000</td>\n",
       "                        <td id=\"T_2349f826_48c5_11ec_b985_acde48001122row47_col6\" class=\"data row47 col6\" >0.393000</td>\n",
       "            </tr>\n",
       "            <tr>\n",
       "                        <th id=\"T_2349f826_48c5_11ec_b985_acde48001122level0_row48\" class=\"row_heading level0 row48\" >23285</th>\n",
       "                        <td id=\"T_2349f826_48c5_11ec_b985_acde48001122row48_col0\" class=\"data row48 col0\" >1930</td>\n",
       "                        <td id=\"T_2349f826_48c5_11ec_b985_acde48001122row48_col1\" class=\"data row48 col1\" >Al</td>\n",
       "                        <td id=\"T_2349f826_48c5_11ec_b985_acde48001122row48_col2\" class=\"data row48 col2\" >Simmons</td>\n",
       "                        <td id=\"T_2349f826_48c5_11ec_b985_acde48001122row48_col3\" class=\"data row48 col3\" >1931</td>\n",
       "                        <td id=\"T_2349f826_48c5_11ec_b985_acde48001122row48_col4\" class=\"data row48 col4\" >PHA</td>\n",
       "                        <td id=\"T_2349f826_48c5_11ec_b985_acde48001122row48_col5\" class=\"data row48 col5\" >29.000000</td>\n",
       "                        <td id=\"T_2349f826_48c5_11ec_b985_acde48001122row48_col6\" class=\"data row48 col6\" >0.390000</td>\n",
       "            </tr>\n",
       "            <tr>\n",
       "                        <th id=\"T_2349f826_48c5_11ec_b985_acde48001122level0_row49\" class=\"row_heading level0 row49\" >26018</th>\n",
       "                        <td id=\"T_2349f826_48c5_11ec_b985_acde48001122row49_col0\" class=\"data row49 col0\" >1930</td>\n",
       "                        <td id=\"T_2349f826_48c5_11ec_b985_acde48001122row49_col1\" class=\"data row49 col1\" >Luke</td>\n",
       "                        <td id=\"T_2349f826_48c5_11ec_b985_acde48001122row49_col2\" class=\"data row49 col2\" >Appling</td>\n",
       "                        <td id=\"T_2349f826_48c5_11ec_b985_acde48001122row49_col3\" class=\"data row49 col3\" >1936</td>\n",
       "                        <td id=\"T_2349f826_48c5_11ec_b985_acde48001122row49_col4\" class=\"data row49 col4\" >CHA</td>\n",
       "                        <td id=\"T_2349f826_48c5_11ec_b985_acde48001122row49_col5\" class=\"data row49 col5\" >29.000000</td>\n",
       "                        <td id=\"T_2349f826_48c5_11ec_b985_acde48001122row49_col6\" class=\"data row49 col6\" >0.388000</td>\n",
       "            </tr>\n",
       "            <tr>\n",
       "                        <th id=\"T_2349f826_48c5_11ec_b985_acde48001122level0_row50\" class=\"row_heading level0 row50\" >18481</th>\n",
       "                        <td id=\"T_2349f826_48c5_11ec_b985_acde48001122row50_col0\" class=\"data row50 col0\" >1920</td>\n",
       "                        <td id=\"T_2349f826_48c5_11ec_b985_acde48001122row50_col1\" class=\"data row50 col1\" >Rogers</td>\n",
       "                        <td id=\"T_2349f826_48c5_11ec_b985_acde48001122row50_col2\" class=\"data row50 col2\" >Hornsby</td>\n",
       "                        <td id=\"T_2349f826_48c5_11ec_b985_acde48001122row50_col3\" class=\"data row50 col3\" >1924</td>\n",
       "                        <td id=\"T_2349f826_48c5_11ec_b985_acde48001122row50_col4\" class=\"data row50 col4\" >SLN</td>\n",
       "                        <td id=\"T_2349f826_48c5_11ec_b985_acde48001122row50_col5\" class=\"data row50 col5\" >28.000000</td>\n",
       "                        <td id=\"T_2349f826_48c5_11ec_b985_acde48001122row50_col6\" class=\"data row50 col6\" >0.424000</td>\n",
       "            </tr>\n",
       "            <tr>\n",
       "                        <th id=\"T_2349f826_48c5_11ec_b985_acde48001122level0_row51\" class=\"row_heading level0 row51\" >18933</th>\n",
       "                        <td id=\"T_2349f826_48c5_11ec_b985_acde48001122row51_col0\" class=\"data row51 col0\" >1920</td>\n",
       "                        <td id=\"T_2349f826_48c5_11ec_b985_acde48001122row51_col1\" class=\"data row51 col1\" >George</td>\n",
       "                        <td id=\"T_2349f826_48c5_11ec_b985_acde48001122row51_col2\" class=\"data row51 col2\" >Sisler</td>\n",
       "                        <td id=\"T_2349f826_48c5_11ec_b985_acde48001122row51_col3\" class=\"data row51 col3\" >1922</td>\n",
       "                        <td id=\"T_2349f826_48c5_11ec_b985_acde48001122row51_col4\" class=\"data row51 col4\" >SLA</td>\n",
       "                        <td id=\"T_2349f826_48c5_11ec_b985_acde48001122row51_col5\" class=\"data row51 col5\" >29.000000</td>\n",
       "                        <td id=\"T_2349f826_48c5_11ec_b985_acde48001122row51_col6\" class=\"data row51 col6\" >0.420000</td>\n",
       "            </tr>\n",
       "            <tr>\n",
       "                        <th id=\"T_2349f826_48c5_11ec_b985_acde48001122level0_row52\" class=\"row_heading level0 row52\" >18931</th>\n",
       "                        <td id=\"T_2349f826_48c5_11ec_b985_acde48001122row52_col0\" class=\"data row52 col0\" >1920</td>\n",
       "                        <td id=\"T_2349f826_48c5_11ec_b985_acde48001122row52_col1\" class=\"data row52 col1\" >George</td>\n",
       "                        <td id=\"T_2349f826_48c5_11ec_b985_acde48001122row52_col2\" class=\"data row52 col2\" >Sisler</td>\n",
       "                        <td id=\"T_2349f826_48c5_11ec_b985_acde48001122row52_col3\" class=\"data row52 col3\" >1920</td>\n",
       "                        <td id=\"T_2349f826_48c5_11ec_b985_acde48001122row52_col4\" class=\"data row52 col4\" >SLA</td>\n",
       "                        <td id=\"T_2349f826_48c5_11ec_b985_acde48001122row52_col5\" class=\"data row52 col5\" >27.000000</td>\n",
       "                        <td id=\"T_2349f826_48c5_11ec_b985_acde48001122row52_col6\" class=\"data row52 col6\" >0.407000</td>\n",
       "            </tr>\n",
       "            <tr>\n",
       "                        <th id=\"T_2349f826_48c5_11ec_b985_acde48001122level0_row53\" class=\"row_heading level0 row53\" >18482</th>\n",
       "                        <td id=\"T_2349f826_48c5_11ec_b985_acde48001122row53_col0\" class=\"data row53 col0\" >1920</td>\n",
       "                        <td id=\"T_2349f826_48c5_11ec_b985_acde48001122row53_col1\" class=\"data row53 col1\" >Rogers</td>\n",
       "                        <td id=\"T_2349f826_48c5_11ec_b985_acde48001122row53_col2\" class=\"data row53 col2\" >Hornsby</td>\n",
       "                        <td id=\"T_2349f826_48c5_11ec_b985_acde48001122row53_col3\" class=\"data row53 col3\" >1925</td>\n",
       "                        <td id=\"T_2349f826_48c5_11ec_b985_acde48001122row53_col4\" class=\"data row53 col4\" >SLN</td>\n",
       "                        <td id=\"T_2349f826_48c5_11ec_b985_acde48001122row53_col5\" class=\"data row53 col5\" >29.000000</td>\n",
       "                        <td id=\"T_2349f826_48c5_11ec_b985_acde48001122row53_col6\" class=\"data row53 col6\" >0.403000</td>\n",
       "            </tr>\n",
       "            <tr>\n",
       "                        <th id=\"T_2349f826_48c5_11ec_b985_acde48001122level0_row54\" class=\"row_heading level0 row54\" >17730</th>\n",
       "                        <td id=\"T_2349f826_48c5_11ec_b985_acde48001122row54_col0\" class=\"data row54 col0\" >1920</td>\n",
       "                        <td id=\"T_2349f826_48c5_11ec_b985_acde48001122row54_col1\" class=\"data row54 col1\" >Harry</td>\n",
       "                        <td id=\"T_2349f826_48c5_11ec_b985_acde48001122row54_col2\" class=\"data row54 col2\" >Heilmann</td>\n",
       "                        <td id=\"T_2349f826_48c5_11ec_b985_acde48001122row54_col3\" class=\"data row54 col3\" >1923</td>\n",
       "                        <td id=\"T_2349f826_48c5_11ec_b985_acde48001122row54_col4\" class=\"data row54 col4\" >DET</td>\n",
       "                        <td id=\"T_2349f826_48c5_11ec_b985_acde48001122row54_col5\" class=\"data row54 col5\" >29.000000</td>\n",
       "                        <td id=\"T_2349f826_48c5_11ec_b985_acde48001122row54_col6\" class=\"data row54 col6\" >0.403000</td>\n",
       "            </tr>\n",
       "            <tr>\n",
       "                        <th id=\"T_2349f826_48c5_11ec_b985_acde48001122level0_row55\" class=\"row_heading level0 row55\" >11644</th>\n",
       "                        <td id=\"T_2349f826_48c5_11ec_b985_acde48001122row55_col0\" class=\"data row55 col0\" >1910</td>\n",
       "                        <td id=\"T_2349f826_48c5_11ec_b985_acde48001122row55_col1\" class=\"data row55 col1\" >Ty</td>\n",
       "                        <td id=\"T_2349f826_48c5_11ec_b985_acde48001122row55_col2\" class=\"data row55 col2\" >Cobb</td>\n",
       "                        <td id=\"T_2349f826_48c5_11ec_b985_acde48001122row55_col3\" class=\"data row55 col3\" >1911</td>\n",
       "                        <td id=\"T_2349f826_48c5_11ec_b985_acde48001122row55_col4\" class=\"data row55 col4\" >DET</td>\n",
       "                        <td id=\"T_2349f826_48c5_11ec_b985_acde48001122row55_col5\" class=\"data row55 col5\" >25.000000</td>\n",
       "                        <td id=\"T_2349f826_48c5_11ec_b985_acde48001122row55_col6\" class=\"data row55 col6\" >0.420000</td>\n",
       "            </tr>\n",
       "            <tr>\n",
       "                        <th id=\"T_2349f826_48c5_11ec_b985_acde48001122level0_row56\" class=\"row_heading level0 row56\" >11645</th>\n",
       "                        <td id=\"T_2349f826_48c5_11ec_b985_acde48001122row56_col0\" class=\"data row56 col0\" >1910</td>\n",
       "                        <td id=\"T_2349f826_48c5_11ec_b985_acde48001122row56_col1\" class=\"data row56 col1\" >Ty</td>\n",
       "                        <td id=\"T_2349f826_48c5_11ec_b985_acde48001122row56_col2\" class=\"data row56 col2\" >Cobb</td>\n",
       "                        <td id=\"T_2349f826_48c5_11ec_b985_acde48001122row56_col3\" class=\"data row56 col3\" >1912</td>\n",
       "                        <td id=\"T_2349f826_48c5_11ec_b985_acde48001122row56_col4\" class=\"data row56 col4\" >DET</td>\n",
       "                        <td id=\"T_2349f826_48c5_11ec_b985_acde48001122row56_col5\" class=\"data row56 col5\" >26.000000</td>\n",
       "                        <td id=\"T_2349f826_48c5_11ec_b985_acde48001122row56_col6\" class=\"data row56 col6\" >0.409000</td>\n",
       "            </tr>\n",
       "            <tr>\n",
       "                        <th id=\"T_2349f826_48c5_11ec_b985_acde48001122level0_row57\" class=\"row_heading level0 row57\" >13233</th>\n",
       "                        <td id=\"T_2349f826_48c5_11ec_b985_acde48001122row57_col0\" class=\"data row57 col0\" >1910</td>\n",
       "                        <td id=\"T_2349f826_48c5_11ec_b985_acde48001122row57_col1\" class=\"data row57 col1\" >Shoeless Joe</td>\n",
       "                        <td id=\"T_2349f826_48c5_11ec_b985_acde48001122row57_col2\" class=\"data row57 col2\" >Jackson</td>\n",
       "                        <td id=\"T_2349f826_48c5_11ec_b985_acde48001122row57_col3\" class=\"data row57 col3\" >1911</td>\n",
       "                        <td id=\"T_2349f826_48c5_11ec_b985_acde48001122row57_col4\" class=\"data row57 col4\" >CLE</td>\n",
       "                        <td id=\"T_2349f826_48c5_11ec_b985_acde48001122row57_col5\" class=\"data row57 col5\" >24.000000</td>\n",
       "                        <td id=\"T_2349f826_48c5_11ec_b985_acde48001122row57_col6\" class=\"data row57 col6\" >0.408000</td>\n",
       "            </tr>\n",
       "            <tr>\n",
       "                        <th id=\"T_2349f826_48c5_11ec_b985_acde48001122level0_row58\" class=\"row_heading level0 row58\" >13234</th>\n",
       "                        <td id=\"T_2349f826_48c5_11ec_b985_acde48001122row58_col0\" class=\"data row58 col0\" >1910</td>\n",
       "                        <td id=\"T_2349f826_48c5_11ec_b985_acde48001122row58_col1\" class=\"data row58 col1\" >Shoeless Joe</td>\n",
       "                        <td id=\"T_2349f826_48c5_11ec_b985_acde48001122row58_col2\" class=\"data row58 col2\" >Jackson</td>\n",
       "                        <td id=\"T_2349f826_48c5_11ec_b985_acde48001122row58_col3\" class=\"data row58 col3\" >1912</td>\n",
       "                        <td id=\"T_2349f826_48c5_11ec_b985_acde48001122row58_col4\" class=\"data row58 col4\" >CLE</td>\n",
       "                        <td id=\"T_2349f826_48c5_11ec_b985_acde48001122row58_col5\" class=\"data row58 col5\" >25.000000</td>\n",
       "                        <td id=\"T_2349f826_48c5_11ec_b985_acde48001122row58_col6\" class=\"data row58 col6\" >0.395000</td>\n",
       "            </tr>\n",
       "            <tr>\n",
       "                        <th id=\"T_2349f826_48c5_11ec_b985_acde48001122level0_row59\" class=\"row_heading level0 row59\" >11646</th>\n",
       "                        <td id=\"T_2349f826_48c5_11ec_b985_acde48001122row59_col0\" class=\"data row59 col0\" >1910</td>\n",
       "                        <td id=\"T_2349f826_48c5_11ec_b985_acde48001122row59_col1\" class=\"data row59 col1\" >Ty</td>\n",
       "                        <td id=\"T_2349f826_48c5_11ec_b985_acde48001122row59_col2\" class=\"data row59 col2\" >Cobb</td>\n",
       "                        <td id=\"T_2349f826_48c5_11ec_b985_acde48001122row59_col3\" class=\"data row59 col3\" >1913</td>\n",
       "                        <td id=\"T_2349f826_48c5_11ec_b985_acde48001122row59_col4\" class=\"data row59 col4\" >DET</td>\n",
       "                        <td id=\"T_2349f826_48c5_11ec_b985_acde48001122row59_col5\" class=\"data row59 col5\" >27.000000</td>\n",
       "                        <td id=\"T_2349f826_48c5_11ec_b985_acde48001122row59_col6\" class=\"data row59 col6\" >0.390000</td>\n",
       "            </tr>\n",
       "            <tr>\n",
       "                        <th id=\"T_2349f826_48c5_11ec_b985_acde48001122level0_row60\" class=\"row_heading level0 row60\" >8200</th>\n",
       "                        <td id=\"T_2349f826_48c5_11ec_b985_acde48001122row60_col0\" class=\"data row60 col0\" >1900</td>\n",
       "                        <td id=\"T_2349f826_48c5_11ec_b985_acde48001122row60_col1\" class=\"data row60 col1\" >Nap</td>\n",
       "                        <td id=\"T_2349f826_48c5_11ec_b985_acde48001122row60_col2\" class=\"data row60 col2\" >Lajoie</td>\n",
       "                        <td id=\"T_2349f826_48c5_11ec_b985_acde48001122row60_col3\" class=\"data row60 col3\" >1901</td>\n",
       "                        <td id=\"T_2349f826_48c5_11ec_b985_acde48001122row60_col4\" class=\"data row60 col4\" >PHA</td>\n",
       "                        <td id=\"T_2349f826_48c5_11ec_b985_acde48001122row60_col5\" class=\"data row60 col5\" >27.000000</td>\n",
       "                        <td id=\"T_2349f826_48c5_11ec_b985_acde48001122row60_col6\" class=\"data row60 col6\" >0.426000</td>\n",
       "            </tr>\n",
       "            <tr>\n",
       "                        <th id=\"T_2349f826_48c5_11ec_b985_acde48001122level0_row61\" class=\"row_heading level0 row61\" >8679</th>\n",
       "                        <td id=\"T_2349f826_48c5_11ec_b985_acde48001122row61_col0\" class=\"data row61 col0\" >1900</td>\n",
       "                        <td id=\"T_2349f826_48c5_11ec_b985_acde48001122row61_col1\" class=\"data row61 col1\" >Honus</td>\n",
       "                        <td id=\"T_2349f826_48c5_11ec_b985_acde48001122row61_col2\" class=\"data row61 col2\" >Wagner</td>\n",
       "                        <td id=\"T_2349f826_48c5_11ec_b985_acde48001122row61_col3\" class=\"data row61 col3\" >1900</td>\n",
       "                        <td id=\"T_2349f826_48c5_11ec_b985_acde48001122row61_col4\" class=\"data row61 col4\" >PIT</td>\n",
       "                        <td id=\"T_2349f826_48c5_11ec_b985_acde48001122row61_col5\" class=\"data row61 col5\" >26.000000</td>\n",
       "                        <td id=\"T_2349f826_48c5_11ec_b985_acde48001122row61_col6\" class=\"data row61 col6\" >0.381000</td>\n",
       "            </tr>\n",
       "            <tr>\n",
       "                        <th id=\"T_2349f826_48c5_11ec_b985_acde48001122level0_row62\" class=\"row_heading level0 row62\" >8202</th>\n",
       "                        <td id=\"T_2349f826_48c5_11ec_b985_acde48001122row62_col0\" class=\"data row62 col0\" >1900</td>\n",
       "                        <td id=\"T_2349f826_48c5_11ec_b985_acde48001122row62_col1\" class=\"data row62 col1\" >Nap</td>\n",
       "                        <td id=\"T_2349f826_48c5_11ec_b985_acde48001122row62_col2\" class=\"data row62 col2\" >Lajoie</td>\n",
       "                        <td id=\"T_2349f826_48c5_11ec_b985_acde48001122row62_col3\" class=\"data row62 col3\" >1902</td>\n",
       "                        <td id=\"T_2349f826_48c5_11ec_b985_acde48001122row62_col4\" class=\"data row62 col4\" >CLE</td>\n",
       "                        <td id=\"T_2349f826_48c5_11ec_b985_acde48001122row62_col5\" class=\"data row62 col5\" >28.000000</td>\n",
       "                        <td id=\"T_2349f826_48c5_11ec_b985_acde48001122row62_col6\" class=\"data row62 col6\" >0.379000</td>\n",
       "            </tr>\n",
       "            <tr>\n",
       "                        <th id=\"T_2349f826_48c5_11ec_b985_acde48001122level0_row63\" class=\"row_heading level0 row63\" >8479</th>\n",
       "                        <td id=\"T_2349f826_48c5_11ec_b985_acde48001122row63_col0\" class=\"data row63 col0\" >1900</td>\n",
       "                        <td id=\"T_2349f826_48c5_11ec_b985_acde48001122row63_col1\" class=\"data row63 col1\" >Charlie</td>\n",
       "                        <td id=\"T_2349f826_48c5_11ec_b985_acde48001122row63_col2\" class=\"data row63 col2\" >Hickman</td>\n",
       "                        <td id=\"T_2349f826_48c5_11ec_b985_acde48001122row63_col3\" class=\"data row63 col3\" >1902</td>\n",
       "                        <td id=\"T_2349f826_48c5_11ec_b985_acde48001122row63_col4\" class=\"data row63 col4\" >CLE</td>\n",
       "                        <td id=\"T_2349f826_48c5_11ec_b985_acde48001122row63_col5\" class=\"data row63 col5\" >26.000000</td>\n",
       "                        <td id=\"T_2349f826_48c5_11ec_b985_acde48001122row63_col6\" class=\"data row63 col6\" >0.378000</td>\n",
       "            </tr>\n",
       "            <tr>\n",
       "                        <th id=\"T_2349f826_48c5_11ec_b985_acde48001122level0_row64\" class=\"row_heading level0 row64\" >8327</th>\n",
       "                        <td id=\"T_2349f826_48c5_11ec_b985_acde48001122row64_col0\" class=\"data row64 col0\" >1900</td>\n",
       "                        <td id=\"T_2349f826_48c5_11ec_b985_acde48001122row64_col1\" class=\"data row64 col1\" >Cy</td>\n",
       "                        <td id=\"T_2349f826_48c5_11ec_b985_acde48001122row64_col2\" class=\"data row64 col2\" >Seymour</td>\n",
       "                        <td id=\"T_2349f826_48c5_11ec_b985_acde48001122row64_col3\" class=\"data row64 col3\" >1905</td>\n",
       "                        <td id=\"T_2349f826_48c5_11ec_b985_acde48001122row64_col4\" class=\"data row64 col4\" >CIN</td>\n",
       "                        <td id=\"T_2349f826_48c5_11ec_b985_acde48001122row64_col5\" class=\"data row64 col5\" >33.000000</td>\n",
       "                        <td id=\"T_2349f826_48c5_11ec_b985_acde48001122row64_col6\" class=\"data row64 col6\" >0.377000</td>\n",
       "            </tr>\n",
       "            <tr>\n",
       "                        <th id=\"T_2349f826_48c5_11ec_b985_acde48001122level0_row65\" class=\"row_heading level0 row65\" >5476</th>\n",
       "                        <td id=\"T_2349f826_48c5_11ec_b985_acde48001122row65_col0\" class=\"data row65 col0\" >1890</td>\n",
       "                        <td id=\"T_2349f826_48c5_11ec_b985_acde48001122row65_col1\" class=\"data row65 col1\" >Hugh</td>\n",
       "                        <td id=\"T_2349f826_48c5_11ec_b985_acde48001122row65_col2\" class=\"data row65 col2\" >Duffy</td>\n",
       "                        <td id=\"T_2349f826_48c5_11ec_b985_acde48001122row65_col3\" class=\"data row65 col3\" >1894</td>\n",
       "                        <td id=\"T_2349f826_48c5_11ec_b985_acde48001122row65_col4\" class=\"data row65 col4\" >BSN</td>\n",
       "                        <td id=\"T_2349f826_48c5_11ec_b985_acde48001122row65_col5\" class=\"data row65 col5\" >28.000000</td>\n",
       "                        <td id=\"T_2349f826_48c5_11ec_b985_acde48001122row65_col6\" class=\"data row65 col6\" >0.440000</td>\n",
       "            </tr>\n",
       "            <tr>\n",
       "                        <th id=\"T_2349f826_48c5_11ec_b985_acde48001122level0_row66\" class=\"row_heading level0 row66\" >7124</th>\n",
       "                        <td id=\"T_2349f826_48c5_11ec_b985_acde48001122row66_col0\" class=\"data row66 col0\" >1890</td>\n",
       "                        <td id=\"T_2349f826_48c5_11ec_b985_acde48001122row66_col1\" class=\"data row66 col1\" >Willie</td>\n",
       "                        <td id=\"T_2349f826_48c5_11ec_b985_acde48001122row66_col2\" class=\"data row66 col2\" >Keeler</td>\n",
       "                        <td id=\"T_2349f826_48c5_11ec_b985_acde48001122row66_col3\" class=\"data row66 col3\" >1897</td>\n",
       "                        <td id=\"T_2349f826_48c5_11ec_b985_acde48001122row66_col4\" class=\"data row66 col4\" >BLN</td>\n",
       "                        <td id=\"T_2349f826_48c5_11ec_b985_acde48001122row66_col5\" class=\"data row66 col5\" >25.000000</td>\n",
       "                        <td id=\"T_2349f826_48c5_11ec_b985_acde48001122row66_col6\" class=\"data row66 col6\" >0.424000</td>\n",
       "            </tr>\n",
       "            <tr>\n",
       "                        <th id=\"T_2349f826_48c5_11ec_b985_acde48001122level0_row67\" class=\"row_heading level0 row67\" >7438</th>\n",
       "                        <td id=\"T_2349f826_48c5_11ec_b985_acde48001122row67_col0\" class=\"data row67 col0\" >1890</td>\n",
       "                        <td id=\"T_2349f826_48c5_11ec_b985_acde48001122row67_col1\" class=\"data row67 col1\" >Tuck</td>\n",
       "                        <td id=\"T_2349f826_48c5_11ec_b985_acde48001122row67_col2\" class=\"data row67 col2\" >Turner</td>\n",
       "                        <td id=\"T_2349f826_48c5_11ec_b985_acde48001122row67_col3\" class=\"data row67 col3\" >1894</td>\n",
       "                        <td id=\"T_2349f826_48c5_11ec_b985_acde48001122row67_col4\" class=\"data row67 col4\" >PHI</td>\n",
       "                        <td id=\"T_2349f826_48c5_11ec_b985_acde48001122row67_col5\" class=\"data row67 col5\" >27.000000</td>\n",
       "                        <td id=\"T_2349f826_48c5_11ec_b985_acde48001122row67_col6\" class=\"data row67 col6\" >0.418000</td>\n",
       "            </tr>\n",
       "            <tr>\n",
       "                        <th id=\"T_2349f826_48c5_11ec_b985_acde48001122level0_row68\" class=\"row_heading level0 row68\" >4677</th>\n",
       "                        <td id=\"T_2349f826_48c5_11ec_b985_acde48001122row68_col0\" class=\"data row68 col0\" >1890</td>\n",
       "                        <td id=\"T_2349f826_48c5_11ec_b985_acde48001122row68_col1\" class=\"data row68 col1\" >Sam</td>\n",
       "                        <td id=\"T_2349f826_48c5_11ec_b985_acde48001122row68_col2\" class=\"data row68 col2\" >Thompson</td>\n",
       "                        <td id=\"T_2349f826_48c5_11ec_b985_acde48001122row68_col3\" class=\"data row68 col3\" >1894</td>\n",
       "                        <td id=\"T_2349f826_48c5_11ec_b985_acde48001122row68_col4\" class=\"data row68 col4\" >PHI</td>\n",
       "                        <td id=\"T_2349f826_48c5_11ec_b985_acde48001122row68_col5\" class=\"data row68 col5\" >34.000000</td>\n",
       "                        <td id=\"T_2349f826_48c5_11ec_b985_acde48001122row68_col6\" class=\"data row68 col6\" >0.415000</td>\n",
       "            </tr>\n",
       "            <tr>\n",
       "                        <th id=\"T_2349f826_48c5_11ec_b985_acde48001122level0_row69\" class=\"row_heading level0 row69\" >5465</th>\n",
       "                        <td id=\"T_2349f826_48c5_11ec_b985_acde48001122row69_col0\" class=\"data row69 col0\" >1890</td>\n",
       "                        <td id=\"T_2349f826_48c5_11ec_b985_acde48001122row69_col1\" class=\"data row69 col1\" >Ed</td>\n",
       "                        <td id=\"T_2349f826_48c5_11ec_b985_acde48001122row69_col2\" class=\"data row69 col2\" >Delahanty</td>\n",
       "                        <td id=\"T_2349f826_48c5_11ec_b985_acde48001122row69_col3\" class=\"data row69 col3\" >1899</td>\n",
       "                        <td id=\"T_2349f826_48c5_11ec_b985_acde48001122row69_col4\" class=\"data row69 col4\" >PHI</td>\n",
       "                        <td id=\"T_2349f826_48c5_11ec_b985_acde48001122row69_col5\" class=\"data row69 col5\" >32.000000</td>\n",
       "                        <td id=\"T_2349f826_48c5_11ec_b985_acde48001122row69_col6\" class=\"data row69 col6\" >0.410000</td>\n",
       "            </tr>\n",
       "            <tr>\n",
       "                        <th id=\"T_2349f826_48c5_11ec_b985_acde48001122level0_row70\" class=\"row_heading level0 row70\" >3185</th>\n",
       "                        <td id=\"T_2349f826_48c5_11ec_b985_acde48001122row70_col0\" class=\"data row70 col0\" >1880</td>\n",
       "                        <td id=\"T_2349f826_48c5_11ec_b985_acde48001122row70_col1\" class=\"data row70 col1\" >Tip</td>\n",
       "                        <td id=\"T_2349f826_48c5_11ec_b985_acde48001122row70_col2\" class=\"data row70 col2\" >O'Neill</td>\n",
       "                        <td id=\"T_2349f826_48c5_11ec_b985_acde48001122row70_col3\" class=\"data row70 col3\" >1887</td>\n",
       "                        <td id=\"T_2349f826_48c5_11ec_b985_acde48001122row70_col4\" class=\"data row70 col4\" >SL4</td>\n",
       "                        <td id=\"T_2349f826_48c5_11ec_b985_acde48001122row70_col5\" class=\"data row70 col5\" >27.000000</td>\n",
       "                        <td id=\"T_2349f826_48c5_11ec_b985_acde48001122row70_col6\" class=\"data row70 col6\" >0.435000</td>\n",
       "            </tr>\n",
       "            <tr>\n",
       "                        <th id=\"T_2349f826_48c5_11ec_b985_acde48001122level0_row71\" class=\"row_heading level0 row71\" >2107</th>\n",
       "                        <td id=\"T_2349f826_48c5_11ec_b985_acde48001122row71_col0\" class=\"data row71 col0\" >1880</td>\n",
       "                        <td id=\"T_2349f826_48c5_11ec_b985_acde48001122row71_col1\" class=\"data row71 col1\" >Fred</td>\n",
       "                        <td id=\"T_2349f826_48c5_11ec_b985_acde48001122row71_col2\" class=\"data row71 col2\" >Dunlap</td>\n",
       "                        <td id=\"T_2349f826_48c5_11ec_b985_acde48001122row71_col3\" class=\"data row71 col3\" >1884</td>\n",
       "                        <td id=\"T_2349f826_48c5_11ec_b985_acde48001122row71_col4\" class=\"data row71 col4\" >SLU</td>\n",
       "                        <td id=\"T_2349f826_48c5_11ec_b985_acde48001122row71_col5\" class=\"data row71 col5\" >25.000000</td>\n",
       "                        <td id=\"T_2349f826_48c5_11ec_b985_acde48001122row71_col6\" class=\"data row71 col6\" >0.412000</td>\n",
       "            </tr>\n",
       "            <tr>\n",
       "                        <th id=\"T_2349f826_48c5_11ec_b985_acde48001122level0_row72\" class=\"row_heading level0 row72\" >2543</th>\n",
       "                        <td id=\"T_2349f826_48c5_11ec_b985_acde48001122row72_col0\" class=\"data row72 col0\" >1880</td>\n",
       "                        <td id=\"T_2349f826_48c5_11ec_b985_acde48001122row72_col1\" class=\"data row72 col1\" >Pete</td>\n",
       "                        <td id=\"T_2349f826_48c5_11ec_b985_acde48001122row72_col2\" class=\"data row72 col2\" >Browning</td>\n",
       "                        <td id=\"T_2349f826_48c5_11ec_b985_acde48001122row72_col3\" class=\"data row72 col3\" >1887</td>\n",
       "                        <td id=\"T_2349f826_48c5_11ec_b985_acde48001122row72_col4\" class=\"data row72 col4\" >LS2</td>\n",
       "                        <td id=\"T_2349f826_48c5_11ec_b985_acde48001122row72_col5\" class=\"data row72 col5\" >26.000000</td>\n",
       "                        <td id=\"T_2349f826_48c5_11ec_b985_acde48001122row72_col6\" class=\"data row72 col6\" >0.402000</td>\n",
       "            </tr>\n",
       "            <tr>\n",
       "                        <th id=\"T_2349f826_48c5_11ec_b985_acde48001122level0_row73\" class=\"row_heading level0 row73\" >36</th>\n",
       "                        <td id=\"T_2349f826_48c5_11ec_b985_acde48001122row73_col0\" class=\"data row73 col0\" >1880</td>\n",
       "                        <td id=\"T_2349f826_48c5_11ec_b985_acde48001122row73_col1\" class=\"data row73 col1\" >Cap</td>\n",
       "                        <td id=\"T_2349f826_48c5_11ec_b985_acde48001122row73_col2\" class=\"data row73 col2\" >Anson</td>\n",
       "                        <td id=\"T_2349f826_48c5_11ec_b985_acde48001122row73_col3\" class=\"data row73 col3\" >1881</td>\n",
       "                        <td id=\"T_2349f826_48c5_11ec_b985_acde48001122row73_col4\" class=\"data row73 col4\" >CHN</td>\n",
       "                        <td id=\"T_2349f826_48c5_11ec_b985_acde48001122row73_col5\" class=\"data row73 col5\" >29.000000</td>\n",
       "                        <td id=\"T_2349f826_48c5_11ec_b985_acde48001122row73_col6\" class=\"data row73 col6\" >0.399000</td>\n",
       "            </tr>\n",
       "            <tr>\n",
       "                        <th id=\"T_2349f826_48c5_11ec_b985_acde48001122level0_row74\" class=\"row_heading level0 row74\" >1602</th>\n",
       "                        <td id=\"T_2349f826_48c5_11ec_b985_acde48001122row74_col0\" class=\"data row74 col0\" >1880</td>\n",
       "                        <td id=\"T_2349f826_48c5_11ec_b985_acde48001122row74_col1\" class=\"data row74 col1\" >King</td>\n",
       "                        <td id=\"T_2349f826_48c5_11ec_b985_acde48001122row74_col2\" class=\"data row74 col2\" >Kelly</td>\n",
       "                        <td id=\"T_2349f826_48c5_11ec_b985_acde48001122row74_col3\" class=\"data row74 col3\" >1886</td>\n",
       "                        <td id=\"T_2349f826_48c5_11ec_b985_acde48001122row74_col4\" class=\"data row74 col4\" >CHN</td>\n",
       "                        <td id=\"T_2349f826_48c5_11ec_b985_acde48001122row74_col5\" class=\"data row74 col5\" >29.000000</td>\n",
       "                        <td id=\"T_2349f826_48c5_11ec_b985_acde48001122row74_col6\" class=\"data row74 col6\" >0.388000</td>\n",
       "            </tr>\n",
       "            <tr>\n",
       "                        <th id=\"T_2349f826_48c5_11ec_b985_acde48001122level0_row75\" class=\"row_heading level0 row75\" >57</th>\n",
       "                        <td id=\"T_2349f826_48c5_11ec_b985_acde48001122row75_col0\" class=\"data row75 col0\" >1870</td>\n",
       "                        <td id=\"T_2349f826_48c5_11ec_b985_acde48001122row75_col1\" class=\"data row75 col1\" >Ross</td>\n",
       "                        <td id=\"T_2349f826_48c5_11ec_b985_acde48001122row75_col2\" class=\"data row75 col2\" >Barnes</td>\n",
       "                        <td id=\"T_2349f826_48c5_11ec_b985_acde48001122row75_col3\" class=\"data row75 col3\" >1873</td>\n",
       "                        <td id=\"T_2349f826_48c5_11ec_b985_acde48001122row75_col4\" class=\"data row75 col4\" >BS1</td>\n",
       "                        <td id=\"T_2349f826_48c5_11ec_b985_acde48001122row75_col5\" class=\"data row75 col5\" >23.000000</td>\n",
       "                        <td id=\"T_2349f826_48c5_11ec_b985_acde48001122row75_col6\" class=\"data row75 col6\" >0.431000</td>\n",
       "            </tr>\n",
       "            <tr>\n",
       "                        <th id=\"T_2349f826_48c5_11ec_b985_acde48001122level0_row76\" class=\"row_heading level0 row76\" >56</th>\n",
       "                        <td id=\"T_2349f826_48c5_11ec_b985_acde48001122row76_col0\" class=\"data row76 col0\" >1870</td>\n",
       "                        <td id=\"T_2349f826_48c5_11ec_b985_acde48001122row76_col1\" class=\"data row76 col1\" >Ross</td>\n",
       "                        <td id=\"T_2349f826_48c5_11ec_b985_acde48001122row76_col2\" class=\"data row76 col2\" >Barnes</td>\n",
       "                        <td id=\"T_2349f826_48c5_11ec_b985_acde48001122row76_col3\" class=\"data row76 col3\" >1872</td>\n",
       "                        <td id=\"T_2349f826_48c5_11ec_b985_acde48001122row76_col4\" class=\"data row76 col4\" >BS1</td>\n",
       "                        <td id=\"T_2349f826_48c5_11ec_b985_acde48001122row76_col5\" class=\"data row76 col5\" >22.000000</td>\n",
       "                        <td id=\"T_2349f826_48c5_11ec_b985_acde48001122row76_col6\" class=\"data row76 col6\" >0.430000</td>\n",
       "            </tr>\n",
       "            <tr>\n",
       "                        <th id=\"T_2349f826_48c5_11ec_b985_acde48001122level0_row77\" class=\"row_heading level0 row77\" >60</th>\n",
       "                        <td id=\"T_2349f826_48c5_11ec_b985_acde48001122row77_col0\" class=\"data row77 col0\" >1870</td>\n",
       "                        <td id=\"T_2349f826_48c5_11ec_b985_acde48001122row77_col1\" class=\"data row77 col1\" >Ross</td>\n",
       "                        <td id=\"T_2349f826_48c5_11ec_b985_acde48001122row77_col2\" class=\"data row77 col2\" >Barnes</td>\n",
       "                        <td id=\"T_2349f826_48c5_11ec_b985_acde48001122row77_col3\" class=\"data row77 col3\" >1876</td>\n",
       "                        <td id=\"T_2349f826_48c5_11ec_b985_acde48001122row77_col4\" class=\"data row77 col4\" >CHN</td>\n",
       "                        <td id=\"T_2349f826_48c5_11ec_b985_acde48001122row77_col5\" class=\"data row77 col5\" >26.000000</td>\n",
       "                        <td id=\"T_2349f826_48c5_11ec_b985_acde48001122row77_col6\" class=\"data row77 col6\" >0.429000</td>\n",
       "            </tr>\n",
       "            <tr>\n",
       "                        <th id=\"T_2349f826_48c5_11ec_b985_acde48001122level0_row78\" class=\"row_heading level0 row78\" >27</th>\n",
       "                        <td id=\"T_2349f826_48c5_11ec_b985_acde48001122row78_col0\" class=\"data row78 col0\" >1870</td>\n",
       "                        <td id=\"T_2349f826_48c5_11ec_b985_acde48001122row78_col1\" class=\"data row78 col1\" >Cap</td>\n",
       "                        <td id=\"T_2349f826_48c5_11ec_b985_acde48001122row78_col2\" class=\"data row78 col2\" >Anson</td>\n",
       "                        <td id=\"T_2349f826_48c5_11ec_b985_acde48001122row78_col3\" class=\"data row78 col3\" >1872</td>\n",
       "                        <td id=\"T_2349f826_48c5_11ec_b985_acde48001122row78_col4\" class=\"data row78 col4\" >PH1</td>\n",
       "                        <td id=\"T_2349f826_48c5_11ec_b985_acde48001122row78_col5\" class=\"data row78 col5\" >20.000000</td>\n",
       "                        <td id=\"T_2349f826_48c5_11ec_b985_acde48001122row78_col6\" class=\"data row78 col6\" >0.415000</td>\n",
       "            </tr>\n",
       "            <tr>\n",
       "                        <th id=\"T_2349f826_48c5_11ec_b985_acde48001122level0_row79\" class=\"row_heading level0 row79\" >28</th>\n",
       "                        <td id=\"T_2349f826_48c5_11ec_b985_acde48001122row79_col0\" class=\"data row79 col0\" >1870</td>\n",
       "                        <td id=\"T_2349f826_48c5_11ec_b985_acde48001122row79_col1\" class=\"data row79 col1\" >Cap</td>\n",
       "                        <td id=\"T_2349f826_48c5_11ec_b985_acde48001122row79_col2\" class=\"data row79 col2\" >Anson</td>\n",
       "                        <td id=\"T_2349f826_48c5_11ec_b985_acde48001122row79_col3\" class=\"data row79 col3\" >1873</td>\n",
       "                        <td id=\"T_2349f826_48c5_11ec_b985_acde48001122row79_col4\" class=\"data row79 col4\" >PH1</td>\n",
       "                        <td id=\"T_2349f826_48c5_11ec_b985_acde48001122row79_col5\" class=\"data row79 col5\" >21.000000</td>\n",
       "                        <td id=\"T_2349f826_48c5_11ec_b985_acde48001122row79_col6\" class=\"data row79 col6\" >0.398000</td>\n",
       "            </tr>\n",
       "    </tbody></table>"
      ],
      "text/plain": [
       "<pandas.io.formats.style.Styler at 0x7f9238fe3820>"
      ]
     },
     "execution_count": 13,
     "metadata": {},
     "output_type": "execute_result"
    }
   ],
   "source": [
    "import seaborn as sns\n",
    "\n",
    "cm = sns.light_palette(\"green\", as_cmap=True)\n",
    "battingPlayers.loc[(battingPlayers.AB >= 200),['decade','nameFirst','nameLast','yearID','teamID','age','BA']]\\\n",
    "                .sort_values('BA',ascending=False)\\\n",
    "                .groupby(battingPlayers['decade'],as_index=True).head(5).sort_values(['decade','BA'],ascending=False)\\\n",
    "                .style.background_gradient(subset=['BA','age'],cmap=cm)"
   ]
  },
  {
   "cell_type": "code",
   "execution_count": 14,
   "metadata": {
    "ExecuteTime": {
     "end_time": "2019-01-19T13:24:29.040610Z",
     "start_time": "2019-01-19T13:24:28.780969Z"
    }
   },
   "outputs": [],
   "source": [
    "hof = pd.read_csv(\"https://raw.githubusercontent.com/chadwickbureau/baseballdatabank/master/core/HallOfFame.csv\",sep=',')\n",
    "hof = hof.loc[(hof.inducted==\"Y\"),:]"
   ]
  },
  {
   "cell_type": "code",
   "execution_count": 15,
   "metadata": {
    "ExecuteTime": {
     "end_time": "2019-01-19T13:24:30.530449Z",
     "start_time": "2019-01-19T13:24:30.334382Z"
    }
   },
   "outputs": [],
   "source": [
    "battingPlayersHof = pd.merge(battingPlayers,hof,left_on=\"playerID\",right_on=\"playerID\",how='left')\n",
    "battingPlayersHof['inducted'] = battingPlayersHof['inducted'].fillna(\"N\")"
   ]
  },
  {
   "cell_type": "code",
   "execution_count": 19,
   "metadata": {
    "ExecuteTime": {
     "end_time": "2019-01-19T13:24:32.086007Z",
     "start_time": "2019-01-19T13:24:31.701480Z"
    },
    "scrolled": false
   },
   "outputs": [
    {
     "name": "stderr",
     "output_type": "stream",
     "text": [
      "<ipython-input-19-8f8c01948437>:1: FutureWarning:\n",
      "\n",
      "Interpreting call\n",
      "\t'.reindex(a, b)' as \n",
      "\t'.reindex(index=a, columns=b)'.\n",
      "Use named arguments to remove any ambiguity. In the future, using positional arguments for 'index' or 'columns' will raise  a 'TypeError'.\n",
      "\n"
     ]
    },
    {
     "ename": "ValueError",
     "evalue": "style is not supported for non-unique indices.",
     "output_type": "error",
     "traceback": [
      "\u001b[0;31m---------------------------------------------------------------------------\u001b[0m",
      "\u001b[0;31mValueError\u001b[0m                                Traceback (most recent call last)",
      "\u001b[0;32m<ipython-input-19-8f8c01948437>\u001b[0m in \u001b[0;36m<module>\u001b[0;34m\u001b[0m\n\u001b[1;32m      5\u001b[0m \u001b[0mcolor\u001b[0m \u001b[0;34m=\u001b[0m \u001b[0;34m(\u001b[0m\u001b[0mtemp1\u001b[0m\u001b[0;34m.\u001b[0m\u001b[0minducted\u001b[0m \u001b[0;34m==\u001b[0m \u001b[0;34m'Y'\u001b[0m\u001b[0;34m)\u001b[0m\u001b[0;34m.\u001b[0m\u001b[0mmap\u001b[0m\u001b[0;34m(\u001b[0m\u001b[0;34m{\u001b[0m\u001b[0;32mTrue\u001b[0m\u001b[0;34m:\u001b[0m \u001b[0;34m'background-color: yellow'\u001b[0m\u001b[0;34m,\u001b[0m \u001b[0;32mFalse\u001b[0m\u001b[0;34m:\u001b[0m \u001b[0;34m''\u001b[0m\u001b[0;34m}\u001b[0m\u001b[0;34m)\u001b[0m\u001b[0;34m\u001b[0m\u001b[0;34m\u001b[0m\u001b[0m\n\u001b[1;32m      6\u001b[0m \u001b[0;34m\u001b[0m\u001b[0m\n\u001b[0;32m----> 7\u001b[0;31m \u001b[0mtemp1\u001b[0m\u001b[0;34m.\u001b[0m\u001b[0mstyle\u001b[0m\u001b[0;34m.\u001b[0m\u001b[0mapply\u001b[0m\u001b[0;34m(\u001b[0m\u001b[0;32mlambda\u001b[0m \u001b[0ms\u001b[0m\u001b[0;34m:\u001b[0m \u001b[0mcolor\u001b[0m\u001b[0;34m)\u001b[0m\u001b[0;34m\u001b[0m\u001b[0;34m\u001b[0m\u001b[0m\n\u001b[0m",
      "\u001b[0;32m~/opt/anaconda3/lib/python3.8/site-packages/pandas/core/frame.py\u001b[0m in \u001b[0;36mstyle\u001b[0;34m(self)\u001b[0m\n\u001b[1;32m    836\u001b[0m         \u001b[0;32mfrom\u001b[0m \u001b[0mpandas\u001b[0m\u001b[0;34m.\u001b[0m\u001b[0mio\u001b[0m\u001b[0;34m.\u001b[0m\u001b[0mformats\u001b[0m\u001b[0;34m.\u001b[0m\u001b[0mstyle\u001b[0m \u001b[0;32mimport\u001b[0m \u001b[0mStyler\u001b[0m\u001b[0;34m\u001b[0m\u001b[0;34m\u001b[0m\u001b[0m\n\u001b[1;32m    837\u001b[0m \u001b[0;34m\u001b[0m\u001b[0m\n\u001b[0;32m--> 838\u001b[0;31m         \u001b[0;32mreturn\u001b[0m \u001b[0mStyler\u001b[0m\u001b[0;34m(\u001b[0m\u001b[0mself\u001b[0m\u001b[0;34m)\u001b[0m\u001b[0;34m\u001b[0m\u001b[0;34m\u001b[0m\u001b[0m\n\u001b[0m\u001b[1;32m    839\u001b[0m \u001b[0;34m\u001b[0m\u001b[0m\n\u001b[1;32m    840\u001b[0m     _shared_docs[\n",
      "\u001b[0;32m~/opt/anaconda3/lib/python3.8/site-packages/pandas/io/formats/style.py\u001b[0m in \u001b[0;36m__init__\u001b[0;34m(self, data, precision, table_styles, uuid, caption, table_attributes, cell_ids, na_rep)\u001b[0m\n\u001b[1;32m    143\u001b[0m             \u001b[0mdata\u001b[0m \u001b[0;34m=\u001b[0m \u001b[0mdata\u001b[0m\u001b[0;34m.\u001b[0m\u001b[0mto_frame\u001b[0m\u001b[0;34m(\u001b[0m\u001b[0;34m)\u001b[0m\u001b[0;34m\u001b[0m\u001b[0;34m\u001b[0m\u001b[0m\n\u001b[1;32m    144\u001b[0m         \u001b[0;32mif\u001b[0m \u001b[0;32mnot\u001b[0m \u001b[0mdata\u001b[0m\u001b[0;34m.\u001b[0m\u001b[0mindex\u001b[0m\u001b[0;34m.\u001b[0m\u001b[0mis_unique\u001b[0m \u001b[0;32mor\u001b[0m \u001b[0;32mnot\u001b[0m \u001b[0mdata\u001b[0m\u001b[0;34m.\u001b[0m\u001b[0mcolumns\u001b[0m\u001b[0;34m.\u001b[0m\u001b[0mis_unique\u001b[0m\u001b[0;34m:\u001b[0m\u001b[0;34m\u001b[0m\u001b[0;34m\u001b[0m\u001b[0m\n\u001b[0;32m--> 145\u001b[0;31m             \u001b[0;32mraise\u001b[0m \u001b[0mValueError\u001b[0m\u001b[0;34m(\u001b[0m\u001b[0;34m\"style is not supported for non-unique indices.\"\u001b[0m\u001b[0;34m)\u001b[0m\u001b[0;34m\u001b[0m\u001b[0;34m\u001b[0m\u001b[0m\n\u001b[0m\u001b[1;32m    146\u001b[0m \u001b[0;34m\u001b[0m\u001b[0m\n\u001b[1;32m    147\u001b[0m         \u001b[0mself\u001b[0m\u001b[0;34m.\u001b[0m\u001b[0mdata\u001b[0m \u001b[0;34m=\u001b[0m \u001b[0mdata\u001b[0m\u001b[0;34m\u001b[0m\u001b[0;34m\u001b[0m\u001b[0m\n",
      "\u001b[0;31mValueError\u001b[0m: style is not supported for non-unique indices."
     ]
    }
   ],
   "source": [
    "temp1 = battingPlayersHof.reindex((battingPlayersHof.AB >= 200),['decade','nameFirst','nameLast','playerID','yearID','teamID','age','inducted','BA'])\\\n",
    "                .sort_values('BA',ascending=False)\\\n",
    "                .groupby(battingPlayersHof['decade'],as_index=True).head(5).sort_values(['decade','BA'],ascending=False)\n",
    "\n",
    "color = (temp1.inducted == 'Y').map({True: 'background-color: yellow', False: ''})\n",
    "           \n",
    "temp1.style.apply(lambda s: color)"
   ]
  },
  {
   "cell_type": "markdown",
   "metadata": {},
   "source": [
    "---\n",
    "### On-Base Percentage\n",
    "\n",
    "Batting average is the most common baseball metric which many passive fans also understand. As a refresher, batting average is just the proportion of at bats a player has that results in a hit.\n",
    "\n",
    "$OBP = \\frac{BB + H + HBP}{AB + BB + HBP + SF}$"
   ]
  },
  {
   "cell_type": "code",
   "execution_count": 27,
   "metadata": {
    "ExecuteTime": {
     "end_time": "2019-01-19T13:25:05.299037Z",
     "start_time": "2019-01-19T13:25:05.221632Z"
    }
   },
   "outputs": [],
   "source": [
    "battingPlayers = battingPlayers\\\n",
    "                    .assign(OBP = round(((battingPlayers.H + battingPlayers.BB + battingPlayers.HBP)/\\\n",
    "                                         (battingPlayers.AB + battingPlayers.BB + battingPlayers.HBP + battingPlayers.SF)),3))"
   ]
  },
  {
   "cell_type": "code",
   "execution_count": 28,
   "metadata": {
    "ExecuteTime": {
     "end_time": "2019-01-19T13:25:06.200934Z",
     "start_time": "2019-01-19T13:25:06.134813Z"
    }
   },
   "outputs": [
    {
     "data": {
      "text/html": [
       "<div>\n",
       "<style scoped>\n",
       "    .dataframe tbody tr th:only-of-type {\n",
       "        vertical-align: middle;\n",
       "    }\n",
       "\n",
       "    .dataframe tbody tr th {\n",
       "        vertical-align: top;\n",
       "    }\n",
       "\n",
       "    .dataframe thead th {\n",
       "        text-align: right;\n",
       "    }\n",
       "</style>\n",
       "<table border=\"1\" class=\"dataframe\">\n",
       "  <thead>\n",
       "    <tr style=\"text-align: right;\">\n",
       "      <th></th>\n",
       "      <th>playerID</th>\n",
       "      <th>nameFirst</th>\n",
       "      <th>nameLast</th>\n",
       "      <th>bats</th>\n",
       "      <th>yearID</th>\n",
       "      <th>teamID</th>\n",
       "      <th>age</th>\n",
       "      <th>BA</th>\n",
       "      <th>OBP</th>\n",
       "    </tr>\n",
       "  </thead>\n",
       "  <tbody>\n",
       "    <tr>\n",
       "      <th>68499</th>\n",
       "      <td>bondsba01</td>\n",
       "      <td>Barry</td>\n",
       "      <td>Bonds</td>\n",
       "      <td>L</td>\n",
       "      <td>2004</td>\n",
       "      <td>SFN</td>\n",
       "      <td>40.0</td>\n",
       "      <td>0.362</td>\n",
       "      <td>0.609</td>\n",
       "    </tr>\n",
       "    <tr>\n",
       "      <th>68497</th>\n",
       "      <td>bondsba01</td>\n",
       "      <td>Barry</td>\n",
       "      <td>Bonds</td>\n",
       "      <td>L</td>\n",
       "      <td>2002</td>\n",
       "      <td>SFN</td>\n",
       "      <td>38.0</td>\n",
       "      <td>0.370</td>\n",
       "      <td>0.582</td>\n",
       "    </tr>\n",
       "    <tr>\n",
       "      <th>68498</th>\n",
       "      <td>bondsba01</td>\n",
       "      <td>Barry</td>\n",
       "      <td>Bonds</td>\n",
       "      <td>L</td>\n",
       "      <td>2003</td>\n",
       "      <td>SFN</td>\n",
       "      <td>39.0</td>\n",
       "      <td>0.341</td>\n",
       "      <td>0.529</td>\n",
       "    </tr>\n",
       "    <tr>\n",
       "      <th>31457</th>\n",
       "      <td>willite01</td>\n",
       "      <td>Ted</td>\n",
       "      <td>Williams</td>\n",
       "      <td>L</td>\n",
       "      <td>1957</td>\n",
       "      <td>BOS</td>\n",
       "      <td>39.0</td>\n",
       "      <td>0.388</td>\n",
       "      <td>0.526</td>\n",
       "    </tr>\n",
       "    <tr>\n",
       "      <th>68496</th>\n",
       "      <td>bondsba01</td>\n",
       "      <td>Barry</td>\n",
       "      <td>Bonds</td>\n",
       "      <td>L</td>\n",
       "      <td>2001</td>\n",
       "      <td>SFN</td>\n",
       "      <td>37.0</td>\n",
       "      <td>0.328</td>\n",
       "      <td>0.515</td>\n",
       "    </tr>\n",
       "    <tr>\n",
       "      <th>31454</th>\n",
       "      <td>willite01</td>\n",
       "      <td>Ted</td>\n",
       "      <td>Williams</td>\n",
       "      <td>L</td>\n",
       "      <td>1954</td>\n",
       "      <td>BOS</td>\n",
       "      <td>36.0</td>\n",
       "      <td>0.345</td>\n",
       "      <td>0.513</td>\n",
       "    </tr>\n",
       "    <tr>\n",
       "      <th>38324</th>\n",
       "      <td>mantlmi01</td>\n",
       "      <td>Mickey</td>\n",
       "      <td>Mantle</td>\n",
       "      <td>B</td>\n",
       "      <td>1957</td>\n",
       "      <td>NYA</td>\n",
       "      <td>26.0</td>\n",
       "      <td>0.365</td>\n",
       "      <td>0.512</td>\n",
       "    </tr>\n",
       "    <tr>\n",
       "      <th>31455</th>\n",
       "      <td>willite01</td>\n",
       "      <td>Ted</td>\n",
       "      <td>Williams</td>\n",
       "      <td>L</td>\n",
       "      <td>1955</td>\n",
       "      <td>BOS</td>\n",
       "      <td>37.0</td>\n",
       "      <td>0.356</td>\n",
       "      <td>0.496</td>\n",
       "    </tr>\n",
       "    <tr>\n",
       "      <th>107972</th>\n",
       "      <td>sotoju01</td>\n",
       "      <td>Juan</td>\n",
       "      <td>Soto</td>\n",
       "      <td>L</td>\n",
       "      <td>2020</td>\n",
       "      <td>WAS</td>\n",
       "      <td>22.0</td>\n",
       "      <td>0.351</td>\n",
       "      <td>0.490</td>\n",
       "    </tr>\n",
       "    <tr>\n",
       "      <th>77909</th>\n",
       "      <td>ramirma02</td>\n",
       "      <td>Manny</td>\n",
       "      <td>Ramirez</td>\n",
       "      <td>R</td>\n",
       "      <td>2008</td>\n",
       "      <td>LAN</td>\n",
       "      <td>36.0</td>\n",
       "      <td>0.396</td>\n",
       "      <td>0.489</td>\n",
       "    </tr>\n",
       "  </tbody>\n",
       "</table>\n",
       "</div>"
      ],
      "text/plain": [
       "         playerID nameFirst  nameLast bats  yearID teamID   age     BA    OBP\n",
       "68499   bondsba01     Barry     Bonds    L    2004    SFN  40.0  0.362  0.609\n",
       "68497   bondsba01     Barry     Bonds    L    2002    SFN  38.0  0.370  0.582\n",
       "68498   bondsba01     Barry     Bonds    L    2003    SFN  39.0  0.341  0.529\n",
       "31457   willite01       Ted  Williams    L    1957    BOS  39.0  0.388  0.526\n",
       "68496   bondsba01     Barry     Bonds    L    2001    SFN  37.0  0.328  0.515\n",
       "31454   willite01       Ted  Williams    L    1954    BOS  36.0  0.345  0.513\n",
       "38324   mantlmi01    Mickey    Mantle    B    1957    NYA  26.0  0.365  0.512\n",
       "31455   willite01       Ted  Williams    L    1955    BOS  37.0  0.356  0.496\n",
       "107972   sotoju01      Juan      Soto    L    2020    WAS  22.0  0.351  0.490\n",
       "77909   ramirma02     Manny   Ramirez    R    2008    LAN  36.0  0.396  0.489"
      ]
     },
     "execution_count": 28,
     "metadata": {},
     "output_type": "execute_result"
    }
   ],
   "source": [
    "battingPlayers.loc[(battingPlayers.AB > 100),['playerID','nameFirst','nameLast','bats','yearID','teamID','age','BA','OBP']]\\\n",
    "                .sort_values('OBP', ascending=False).head(10)"
   ]
  },
  {
   "cell_type": "markdown",
   "metadata": {},
   "source": [
    "Looking at the top ob-base percentages of all-time is a story of two players: **Barry Bonds and Ted Williams**. The two players hold 7 of the top 10 spots for OBP in a single season."
   ]
  },
  {
   "cell_type": "markdown",
   "metadata": {},
   "source": [
    "#### Barry Bonds"
   ]
  },
  {
   "cell_type": "code",
   "execution_count": 29,
   "metadata": {
    "ExecuteTime": {
     "end_time": "2019-01-19T13:25:11.902226Z",
     "start_time": "2019-01-19T13:25:11.890035Z"
    }
   },
   "outputs": [],
   "source": [
    "bonds = battingPlayers.loc[(battingPlayers.playerID == 'bondsba01'),['yearID','HR','OBP']]"
   ]
  },
  {
   "cell_type": "code",
   "execution_count": 30,
   "metadata": {
    "ExecuteTime": {
     "end_time": "2019-01-19T13:32:06.390101Z",
     "start_time": "2019-01-19T13:32:06.291599Z"
    },
    "scrolled": false
   },
   "outputs": [
    {
     "data": {
      "application/vnd.plotly.v1+json": {
       "config": {
        "linkText": "Export to plot.ly",
        "plotlyServerURL": "https://plot.ly",
        "showLink": true
       },
       "data": [
        {
         "line": {
          "color": "rgba(255, 153, 51, 1.0)",
          "dash": "solid",
          "shape": "linear",
          "width": 1.3
         },
         "marker": {
          "size": 8,
          "symbol": 1
         },
         "mode": "lines+markers",
         "name": "OBP",
         "text": "",
         "type": "scatter",
         "x": [
          1986,
          1987,
          1988,
          1989,
          1990,
          1991,
          1992,
          1993,
          1994,
          1995,
          1996,
          1997,
          1998,
          1999,
          2000,
          2001,
          2002,
          2003,
          2004,
          2005,
          2006,
          2007
         ],
         "y": [
          0.33,
          0.329,
          0.368,
          0.351,
          0.406,
          0.41,
          0.456,
          0.458,
          0.426,
          0.431,
          0.461,
          0.446,
          0.438,
          0.389,
          0.44,
          0.515,
          0.582,
          0.529,
          0.609,
          0.404,
          0.454,
          0.48
         ]
        },
        {
         "line": {
          "color": "rgba(55, 128, 191, 1.0)",
          "dash": "solid",
          "shape": "linear",
          "width": 1.3
         },
         "marker": {
          "size": 8,
          "symbol": 1
         },
         "mode": "lines+markers",
         "name": "HR",
         "text": "",
         "type": "scatter",
         "x": [
          1986,
          1987,
          1988,
          1989,
          1990,
          1991,
          1992,
          1993,
          1994,
          1995,
          1996,
          1997,
          1998,
          1999,
          2000,
          2001,
          2002,
          2003,
          2004,
          2005,
          2006,
          2007
         ],
         "xaxis": "x",
         "y": [
          16,
          25,
          24,
          19,
          33,
          25,
          34,
          46,
          37,
          33,
          42,
          40,
          37,
          34,
          49,
          73,
          46,
          45,
          45,
          5,
          26,
          28
         ],
         "yaxis": "y2"
        }
       ],
       "layout": {
        "legend": {
         "bgcolor": "#F5F6F9",
         "font": {
          "color": "#4D5663"
         }
        },
        "paper_bgcolor": "#F5F6F9",
        "plot_bgcolor": "#F5F6F9",
        "template": {
         "data": {
          "bar": [
           {
            "error_x": {
             "color": "#2a3f5f"
            },
            "error_y": {
             "color": "#2a3f5f"
            },
            "marker": {
             "line": {
              "color": "#E5ECF6",
              "width": 0.5
             },
             "pattern": {
              "fillmode": "overlay",
              "size": 10,
              "solidity": 0.2
             }
            },
            "type": "bar"
           }
          ],
          "barpolar": [
           {
            "marker": {
             "line": {
              "color": "#E5ECF6",
              "width": 0.5
             },
             "pattern": {
              "fillmode": "overlay",
              "size": 10,
              "solidity": 0.2
             }
            },
            "type": "barpolar"
           }
          ],
          "carpet": [
           {
            "aaxis": {
             "endlinecolor": "#2a3f5f",
             "gridcolor": "white",
             "linecolor": "white",
             "minorgridcolor": "white",
             "startlinecolor": "#2a3f5f"
            },
            "baxis": {
             "endlinecolor": "#2a3f5f",
             "gridcolor": "white",
             "linecolor": "white",
             "minorgridcolor": "white",
             "startlinecolor": "#2a3f5f"
            },
            "type": "carpet"
           }
          ],
          "choropleth": [
           {
            "colorbar": {
             "outlinewidth": 0,
             "ticks": ""
            },
            "type": "choropleth"
           }
          ],
          "contour": [
           {
            "colorbar": {
             "outlinewidth": 0,
             "ticks": ""
            },
            "colorscale": [
             [
              0,
              "#0d0887"
             ],
             [
              0.1111111111111111,
              "#46039f"
             ],
             [
              0.2222222222222222,
              "#7201a8"
             ],
             [
              0.3333333333333333,
              "#9c179e"
             ],
             [
              0.4444444444444444,
              "#bd3786"
             ],
             [
              0.5555555555555556,
              "#d8576b"
             ],
             [
              0.6666666666666666,
              "#ed7953"
             ],
             [
              0.7777777777777778,
              "#fb9f3a"
             ],
             [
              0.8888888888888888,
              "#fdca26"
             ],
             [
              1,
              "#f0f921"
             ]
            ],
            "type": "contour"
           }
          ],
          "contourcarpet": [
           {
            "colorbar": {
             "outlinewidth": 0,
             "ticks": ""
            },
            "type": "contourcarpet"
           }
          ],
          "heatmap": [
           {
            "colorbar": {
             "outlinewidth": 0,
             "ticks": ""
            },
            "colorscale": [
             [
              0,
              "#0d0887"
             ],
             [
              0.1111111111111111,
              "#46039f"
             ],
             [
              0.2222222222222222,
              "#7201a8"
             ],
             [
              0.3333333333333333,
              "#9c179e"
             ],
             [
              0.4444444444444444,
              "#bd3786"
             ],
             [
              0.5555555555555556,
              "#d8576b"
             ],
             [
              0.6666666666666666,
              "#ed7953"
             ],
             [
              0.7777777777777778,
              "#fb9f3a"
             ],
             [
              0.8888888888888888,
              "#fdca26"
             ],
             [
              1,
              "#f0f921"
             ]
            ],
            "type": "heatmap"
           }
          ],
          "heatmapgl": [
           {
            "colorbar": {
             "outlinewidth": 0,
             "ticks": ""
            },
            "colorscale": [
             [
              0,
              "#0d0887"
             ],
             [
              0.1111111111111111,
              "#46039f"
             ],
             [
              0.2222222222222222,
              "#7201a8"
             ],
             [
              0.3333333333333333,
              "#9c179e"
             ],
             [
              0.4444444444444444,
              "#bd3786"
             ],
             [
              0.5555555555555556,
              "#d8576b"
             ],
             [
              0.6666666666666666,
              "#ed7953"
             ],
             [
              0.7777777777777778,
              "#fb9f3a"
             ],
             [
              0.8888888888888888,
              "#fdca26"
             ],
             [
              1,
              "#f0f921"
             ]
            ],
            "type": "heatmapgl"
           }
          ],
          "histogram": [
           {
            "marker": {
             "pattern": {
              "fillmode": "overlay",
              "size": 10,
              "solidity": 0.2
             }
            },
            "type": "histogram"
           }
          ],
          "histogram2d": [
           {
            "colorbar": {
             "outlinewidth": 0,
             "ticks": ""
            },
            "colorscale": [
             [
              0,
              "#0d0887"
             ],
             [
              0.1111111111111111,
              "#46039f"
             ],
             [
              0.2222222222222222,
              "#7201a8"
             ],
             [
              0.3333333333333333,
              "#9c179e"
             ],
             [
              0.4444444444444444,
              "#bd3786"
             ],
             [
              0.5555555555555556,
              "#d8576b"
             ],
             [
              0.6666666666666666,
              "#ed7953"
             ],
             [
              0.7777777777777778,
              "#fb9f3a"
             ],
             [
              0.8888888888888888,
              "#fdca26"
             ],
             [
              1,
              "#f0f921"
             ]
            ],
            "type": "histogram2d"
           }
          ],
          "histogram2dcontour": [
           {
            "colorbar": {
             "outlinewidth": 0,
             "ticks": ""
            },
            "colorscale": [
             [
              0,
              "#0d0887"
             ],
             [
              0.1111111111111111,
              "#46039f"
             ],
             [
              0.2222222222222222,
              "#7201a8"
             ],
             [
              0.3333333333333333,
              "#9c179e"
             ],
             [
              0.4444444444444444,
              "#bd3786"
             ],
             [
              0.5555555555555556,
              "#d8576b"
             ],
             [
              0.6666666666666666,
              "#ed7953"
             ],
             [
              0.7777777777777778,
              "#fb9f3a"
             ],
             [
              0.8888888888888888,
              "#fdca26"
             ],
             [
              1,
              "#f0f921"
             ]
            ],
            "type": "histogram2dcontour"
           }
          ],
          "mesh3d": [
           {
            "colorbar": {
             "outlinewidth": 0,
             "ticks": ""
            },
            "type": "mesh3d"
           }
          ],
          "parcoords": [
           {
            "line": {
             "colorbar": {
              "outlinewidth": 0,
              "ticks": ""
             }
            },
            "type": "parcoords"
           }
          ],
          "pie": [
           {
            "automargin": true,
            "type": "pie"
           }
          ],
          "scatter": [
           {
            "marker": {
             "colorbar": {
              "outlinewidth": 0,
              "ticks": ""
             }
            },
            "type": "scatter"
           }
          ],
          "scatter3d": [
           {
            "line": {
             "colorbar": {
              "outlinewidth": 0,
              "ticks": ""
             }
            },
            "marker": {
             "colorbar": {
              "outlinewidth": 0,
              "ticks": ""
             }
            },
            "type": "scatter3d"
           }
          ],
          "scattercarpet": [
           {
            "marker": {
             "colorbar": {
              "outlinewidth": 0,
              "ticks": ""
             }
            },
            "type": "scattercarpet"
           }
          ],
          "scattergeo": [
           {
            "marker": {
             "colorbar": {
              "outlinewidth": 0,
              "ticks": ""
             }
            },
            "type": "scattergeo"
           }
          ],
          "scattergl": [
           {
            "marker": {
             "colorbar": {
              "outlinewidth": 0,
              "ticks": ""
             }
            },
            "type": "scattergl"
           }
          ],
          "scattermapbox": [
           {
            "marker": {
             "colorbar": {
              "outlinewidth": 0,
              "ticks": ""
             }
            },
            "type": "scattermapbox"
           }
          ],
          "scatterpolar": [
           {
            "marker": {
             "colorbar": {
              "outlinewidth": 0,
              "ticks": ""
             }
            },
            "type": "scatterpolar"
           }
          ],
          "scatterpolargl": [
           {
            "marker": {
             "colorbar": {
              "outlinewidth": 0,
              "ticks": ""
             }
            },
            "type": "scatterpolargl"
           }
          ],
          "scatterternary": [
           {
            "marker": {
             "colorbar": {
              "outlinewidth": 0,
              "ticks": ""
             }
            },
            "type": "scatterternary"
           }
          ],
          "surface": [
           {
            "colorbar": {
             "outlinewidth": 0,
             "ticks": ""
            },
            "colorscale": [
             [
              0,
              "#0d0887"
             ],
             [
              0.1111111111111111,
              "#46039f"
             ],
             [
              0.2222222222222222,
              "#7201a8"
             ],
             [
              0.3333333333333333,
              "#9c179e"
             ],
             [
              0.4444444444444444,
              "#bd3786"
             ],
             [
              0.5555555555555556,
              "#d8576b"
             ],
             [
              0.6666666666666666,
              "#ed7953"
             ],
             [
              0.7777777777777778,
              "#fb9f3a"
             ],
             [
              0.8888888888888888,
              "#fdca26"
             ],
             [
              1,
              "#f0f921"
             ]
            ],
            "type": "surface"
           }
          ],
          "table": [
           {
            "cells": {
             "fill": {
              "color": "#EBF0F8"
             },
             "line": {
              "color": "white"
             }
            },
            "header": {
             "fill": {
              "color": "#C8D4E3"
             },
             "line": {
              "color": "white"
             }
            },
            "type": "table"
           }
          ]
         },
         "layout": {
          "annotationdefaults": {
           "arrowcolor": "#2a3f5f",
           "arrowhead": 0,
           "arrowwidth": 1
          },
          "autotypenumbers": "strict",
          "coloraxis": {
           "colorbar": {
            "outlinewidth": 0,
            "ticks": ""
           }
          },
          "colorscale": {
           "diverging": [
            [
             0,
             "#8e0152"
            ],
            [
             0.1,
             "#c51b7d"
            ],
            [
             0.2,
             "#de77ae"
            ],
            [
             0.3,
             "#f1b6da"
            ],
            [
             0.4,
             "#fde0ef"
            ],
            [
             0.5,
             "#f7f7f7"
            ],
            [
             0.6,
             "#e6f5d0"
            ],
            [
             0.7,
             "#b8e186"
            ],
            [
             0.8,
             "#7fbc41"
            ],
            [
             0.9,
             "#4d9221"
            ],
            [
             1,
             "#276419"
            ]
           ],
           "sequential": [
            [
             0,
             "#0d0887"
            ],
            [
             0.1111111111111111,
             "#46039f"
            ],
            [
             0.2222222222222222,
             "#7201a8"
            ],
            [
             0.3333333333333333,
             "#9c179e"
            ],
            [
             0.4444444444444444,
             "#bd3786"
            ],
            [
             0.5555555555555556,
             "#d8576b"
            ],
            [
             0.6666666666666666,
             "#ed7953"
            ],
            [
             0.7777777777777778,
             "#fb9f3a"
            ],
            [
             0.8888888888888888,
             "#fdca26"
            ],
            [
             1,
             "#f0f921"
            ]
           ],
           "sequentialminus": [
            [
             0,
             "#0d0887"
            ],
            [
             0.1111111111111111,
             "#46039f"
            ],
            [
             0.2222222222222222,
             "#7201a8"
            ],
            [
             0.3333333333333333,
             "#9c179e"
            ],
            [
             0.4444444444444444,
             "#bd3786"
            ],
            [
             0.5555555555555556,
             "#d8576b"
            ],
            [
             0.6666666666666666,
             "#ed7953"
            ],
            [
             0.7777777777777778,
             "#fb9f3a"
            ],
            [
             0.8888888888888888,
             "#fdca26"
            ],
            [
             1,
             "#f0f921"
            ]
           ]
          },
          "colorway": [
           "#636efa",
           "#EF553B",
           "#00cc96",
           "#ab63fa",
           "#FFA15A",
           "#19d3f3",
           "#FF6692",
           "#B6E880",
           "#FF97FF",
           "#FECB52"
          ],
          "font": {
           "color": "#2a3f5f"
          },
          "geo": {
           "bgcolor": "white",
           "lakecolor": "white",
           "landcolor": "#E5ECF6",
           "showlakes": true,
           "showland": true,
           "subunitcolor": "white"
          },
          "hoverlabel": {
           "align": "left"
          },
          "hovermode": "closest",
          "mapbox": {
           "style": "light"
          },
          "paper_bgcolor": "white",
          "plot_bgcolor": "#E5ECF6",
          "polar": {
           "angularaxis": {
            "gridcolor": "white",
            "linecolor": "white",
            "ticks": ""
           },
           "bgcolor": "#E5ECF6",
           "radialaxis": {
            "gridcolor": "white",
            "linecolor": "white",
            "ticks": ""
           }
          },
          "scene": {
           "xaxis": {
            "backgroundcolor": "#E5ECF6",
            "gridcolor": "white",
            "gridwidth": 2,
            "linecolor": "white",
            "showbackground": true,
            "ticks": "",
            "zerolinecolor": "white"
           },
           "yaxis": {
            "backgroundcolor": "#E5ECF6",
            "gridcolor": "white",
            "gridwidth": 2,
            "linecolor": "white",
            "showbackground": true,
            "ticks": "",
            "zerolinecolor": "white"
           },
           "zaxis": {
            "backgroundcolor": "#E5ECF6",
            "gridcolor": "white",
            "gridwidth": 2,
            "linecolor": "white",
            "showbackground": true,
            "ticks": "",
            "zerolinecolor": "white"
           }
          },
          "shapedefaults": {
           "line": {
            "color": "#2a3f5f"
           }
          },
          "ternary": {
           "aaxis": {
            "gridcolor": "white",
            "linecolor": "white",
            "ticks": ""
           },
           "baxis": {
            "gridcolor": "white",
            "linecolor": "white",
            "ticks": ""
           },
           "bgcolor": "#E5ECF6",
           "caxis": {
            "gridcolor": "white",
            "linecolor": "white",
            "ticks": ""
           }
          },
          "title": {
           "x": 0.05
          },
          "xaxis": {
           "automargin": true,
           "gridcolor": "white",
           "linecolor": "white",
           "ticks": "",
           "title": {
            "standoff": 15
           },
           "zerolinecolor": "white",
           "zerolinewidth": 2
          },
          "yaxis": {
           "automargin": true,
           "gridcolor": "white",
           "linecolor": "white",
           "ticks": "",
           "title": {
            "standoff": 15
           },
           "zerolinecolor": "white",
           "zerolinewidth": 2
          }
         }
        },
        "title": {
         "font": {
          "color": "#4D5663"
         },
         "text": "Barry Bonds OBP and Home Runs by Season"
        },
        "xaxis": {
         "gridcolor": "#E1E5ED",
         "showgrid": true,
         "tickfont": {
          "color": "#4D5663"
         },
         "title": {
          "font": {
           "color": "#4D5663"
          },
          "text": "Year"
         },
         "zerolinecolor": "#E1E5ED"
        },
        "yaxis": {
         "gridcolor": "#E1E5ED",
         "showgrid": true,
         "tickfont": {
          "color": "#4D5663"
         },
         "title": {
          "font": {
           "color": "#4D5663"
          },
          "text": "On-Base Percentage"
         },
         "zerolinecolor": "#E1E5ED"
        },
        "yaxis2": {
         "anchor": "x",
         "gridcolor": "#E1E5ED",
         "overlaying": "y",
         "showgrid": true,
         "side": "right",
         "tickfont": {
          "color": "#4D5663"
         },
         "title": {
          "text": "Home Runs"
         },
         "zerolinecolor": "#E1E5ED"
        }
       }
      },
      "text/html": [
       "<div>                            <div id=\"972c70c2-f452-4921-a2fd-2559283ce8a6\" class=\"plotly-graph-div\" style=\"height:525px; width:100%;\"></div>            <script type=\"text/javascript\">                require([\"plotly\"], function(Plotly) {                    window.PLOTLYENV=window.PLOTLYENV || {};\n",
       "                    window.PLOTLYENV.BASE_URL='https://plot.ly';                                    if (document.getElementById(\"972c70c2-f452-4921-a2fd-2559283ce8a6\")) {                    Plotly.newPlot(                        \"972c70c2-f452-4921-a2fd-2559283ce8a6\",                        [{\"line\":{\"color\":\"rgba(255, 153, 51, 1.0)\",\"dash\":\"solid\",\"shape\":\"linear\",\"width\":1.3},\"marker\":{\"size\":8,\"symbol\":1},\"mode\":\"lines+markers\",\"name\":\"OBP\",\"text\":\"\",\"x\":[1986,1987,1988,1989,1990,1991,1992,1993,1994,1995,1996,1997,1998,1999,2000,2001,2002,2003,2004,2005,2006,2007],\"y\":[0.33,0.329,0.368,0.351,0.406,0.41,0.456,0.458,0.426,0.431,0.461,0.446,0.438,0.389,0.44,0.515,0.582,0.529,0.609,0.404,0.454,0.48],\"type\":\"scatter\"},{\"line\":{\"color\":\"rgba(55, 128, 191, 1.0)\",\"dash\":\"solid\",\"shape\":\"linear\",\"width\":1.3},\"marker\":{\"size\":8,\"symbol\":1},\"mode\":\"lines+markers\",\"name\":\"HR\",\"text\":\"\",\"x\":[1986,1987,1988,1989,1990,1991,1992,1993,1994,1995,1996,1997,1998,1999,2000,2001,2002,2003,2004,2005,2006,2007],\"y\":[16,25,24,19,33,25,34,46,37,33,42,40,37,34,49,73,46,45,45,5,26,28],\"type\":\"scatter\",\"xaxis\":\"x\",\"yaxis\":\"y2\"}],                        {\"legend\":{\"bgcolor\":\"#F5F6F9\",\"font\":{\"color\":\"#4D5663\"}},\"paper_bgcolor\":\"#F5F6F9\",\"plot_bgcolor\":\"#F5F6F9\",\"title\":{\"text\":\"Barry Bonds OBP and Home Runs by Season\",\"font\":{\"color\":\"#4D5663\"}},\"xaxis\":{\"gridcolor\":\"#E1E5ED\",\"showgrid\":true,\"tickfont\":{\"color\":\"#4D5663\"},\"title\":{\"text\":\"Year\",\"font\":{\"color\":\"#4D5663\"}},\"zerolinecolor\":\"#E1E5ED\"},\"yaxis\":{\"gridcolor\":\"#E1E5ED\",\"showgrid\":true,\"tickfont\":{\"color\":\"#4D5663\"},\"title\":{\"text\":\"On-Base Percentage\",\"font\":{\"color\":\"#4D5663\"}},\"zerolinecolor\":\"#E1E5ED\"},\"template\":{\"data\":{\"bar\":[{\"error_x\":{\"color\":\"#2a3f5f\"},\"error_y\":{\"color\":\"#2a3f5f\"},\"marker\":{\"line\":{\"color\":\"#E5ECF6\",\"width\":0.5},\"pattern\":{\"fillmode\":\"overlay\",\"size\":10,\"solidity\":0.2}},\"type\":\"bar\"}],\"barpolar\":[{\"marker\":{\"line\":{\"color\":\"#E5ECF6\",\"width\":0.5},\"pattern\":{\"fillmode\":\"overlay\",\"size\":10,\"solidity\":0.2}},\"type\":\"barpolar\"}],\"carpet\":[{\"aaxis\":{\"endlinecolor\":\"#2a3f5f\",\"gridcolor\":\"white\",\"linecolor\":\"white\",\"minorgridcolor\":\"white\",\"startlinecolor\":\"#2a3f5f\"},\"baxis\":{\"endlinecolor\":\"#2a3f5f\",\"gridcolor\":\"white\",\"linecolor\":\"white\",\"minorgridcolor\":\"white\",\"startlinecolor\":\"#2a3f5f\"},\"type\":\"carpet\"}],\"choropleth\":[{\"colorbar\":{\"outlinewidth\":0,\"ticks\":\"\"},\"type\":\"choropleth\"}],\"contour\":[{\"colorbar\":{\"outlinewidth\":0,\"ticks\":\"\"},\"colorscale\":[[0.0,\"#0d0887\"],[0.1111111111111111,\"#46039f\"],[0.2222222222222222,\"#7201a8\"],[0.3333333333333333,\"#9c179e\"],[0.4444444444444444,\"#bd3786\"],[0.5555555555555556,\"#d8576b\"],[0.6666666666666666,\"#ed7953\"],[0.7777777777777778,\"#fb9f3a\"],[0.8888888888888888,\"#fdca26\"],[1.0,\"#f0f921\"]],\"type\":\"contour\"}],\"contourcarpet\":[{\"colorbar\":{\"outlinewidth\":0,\"ticks\":\"\"},\"type\":\"contourcarpet\"}],\"heatmap\":[{\"colorbar\":{\"outlinewidth\":0,\"ticks\":\"\"},\"colorscale\":[[0.0,\"#0d0887\"],[0.1111111111111111,\"#46039f\"],[0.2222222222222222,\"#7201a8\"],[0.3333333333333333,\"#9c179e\"],[0.4444444444444444,\"#bd3786\"],[0.5555555555555556,\"#d8576b\"],[0.6666666666666666,\"#ed7953\"],[0.7777777777777778,\"#fb9f3a\"],[0.8888888888888888,\"#fdca26\"],[1.0,\"#f0f921\"]],\"type\":\"heatmap\"}],\"heatmapgl\":[{\"colorbar\":{\"outlinewidth\":0,\"ticks\":\"\"},\"colorscale\":[[0.0,\"#0d0887\"],[0.1111111111111111,\"#46039f\"],[0.2222222222222222,\"#7201a8\"],[0.3333333333333333,\"#9c179e\"],[0.4444444444444444,\"#bd3786\"],[0.5555555555555556,\"#d8576b\"],[0.6666666666666666,\"#ed7953\"],[0.7777777777777778,\"#fb9f3a\"],[0.8888888888888888,\"#fdca26\"],[1.0,\"#f0f921\"]],\"type\":\"heatmapgl\"}],\"histogram\":[{\"marker\":{\"pattern\":{\"fillmode\":\"overlay\",\"size\":10,\"solidity\":0.2}},\"type\":\"histogram\"}],\"histogram2d\":[{\"colorbar\":{\"outlinewidth\":0,\"ticks\":\"\"},\"colorscale\":[[0.0,\"#0d0887\"],[0.1111111111111111,\"#46039f\"],[0.2222222222222222,\"#7201a8\"],[0.3333333333333333,\"#9c179e\"],[0.4444444444444444,\"#bd3786\"],[0.5555555555555556,\"#d8576b\"],[0.6666666666666666,\"#ed7953\"],[0.7777777777777778,\"#fb9f3a\"],[0.8888888888888888,\"#fdca26\"],[1.0,\"#f0f921\"]],\"type\":\"histogram2d\"}],\"histogram2dcontour\":[{\"colorbar\":{\"outlinewidth\":0,\"ticks\":\"\"},\"colorscale\":[[0.0,\"#0d0887\"],[0.1111111111111111,\"#46039f\"],[0.2222222222222222,\"#7201a8\"],[0.3333333333333333,\"#9c179e\"],[0.4444444444444444,\"#bd3786\"],[0.5555555555555556,\"#d8576b\"],[0.6666666666666666,\"#ed7953\"],[0.7777777777777778,\"#fb9f3a\"],[0.8888888888888888,\"#fdca26\"],[1.0,\"#f0f921\"]],\"type\":\"histogram2dcontour\"}],\"mesh3d\":[{\"colorbar\":{\"outlinewidth\":0,\"ticks\":\"\"},\"type\":\"mesh3d\"}],\"parcoords\":[{\"line\":{\"colorbar\":{\"outlinewidth\":0,\"ticks\":\"\"}},\"type\":\"parcoords\"}],\"pie\":[{\"automargin\":true,\"type\":\"pie\"}],\"scatter\":[{\"marker\":{\"colorbar\":{\"outlinewidth\":0,\"ticks\":\"\"}},\"type\":\"scatter\"}],\"scatter3d\":[{\"line\":{\"colorbar\":{\"outlinewidth\":0,\"ticks\":\"\"}},\"marker\":{\"colorbar\":{\"outlinewidth\":0,\"ticks\":\"\"}},\"type\":\"scatter3d\"}],\"scattercarpet\":[{\"marker\":{\"colorbar\":{\"outlinewidth\":0,\"ticks\":\"\"}},\"type\":\"scattercarpet\"}],\"scattergeo\":[{\"marker\":{\"colorbar\":{\"outlinewidth\":0,\"ticks\":\"\"}},\"type\":\"scattergeo\"}],\"scattergl\":[{\"marker\":{\"colorbar\":{\"outlinewidth\":0,\"ticks\":\"\"}},\"type\":\"scattergl\"}],\"scattermapbox\":[{\"marker\":{\"colorbar\":{\"outlinewidth\":0,\"ticks\":\"\"}},\"type\":\"scattermapbox\"}],\"scatterpolar\":[{\"marker\":{\"colorbar\":{\"outlinewidth\":0,\"ticks\":\"\"}},\"type\":\"scatterpolar\"}],\"scatterpolargl\":[{\"marker\":{\"colorbar\":{\"outlinewidth\":0,\"ticks\":\"\"}},\"type\":\"scatterpolargl\"}],\"scatterternary\":[{\"marker\":{\"colorbar\":{\"outlinewidth\":0,\"ticks\":\"\"}},\"type\":\"scatterternary\"}],\"surface\":[{\"colorbar\":{\"outlinewidth\":0,\"ticks\":\"\"},\"colorscale\":[[0.0,\"#0d0887\"],[0.1111111111111111,\"#46039f\"],[0.2222222222222222,\"#7201a8\"],[0.3333333333333333,\"#9c179e\"],[0.4444444444444444,\"#bd3786\"],[0.5555555555555556,\"#d8576b\"],[0.6666666666666666,\"#ed7953\"],[0.7777777777777778,\"#fb9f3a\"],[0.8888888888888888,\"#fdca26\"],[1.0,\"#f0f921\"]],\"type\":\"surface\"}],\"table\":[{\"cells\":{\"fill\":{\"color\":\"#EBF0F8\"},\"line\":{\"color\":\"white\"}},\"header\":{\"fill\":{\"color\":\"#C8D4E3\"},\"line\":{\"color\":\"white\"}},\"type\":\"table\"}]},\"layout\":{\"annotationdefaults\":{\"arrowcolor\":\"#2a3f5f\",\"arrowhead\":0,\"arrowwidth\":1},\"autotypenumbers\":\"strict\",\"coloraxis\":{\"colorbar\":{\"outlinewidth\":0,\"ticks\":\"\"}},\"colorscale\":{\"diverging\":[[0,\"#8e0152\"],[0.1,\"#c51b7d\"],[0.2,\"#de77ae\"],[0.3,\"#f1b6da\"],[0.4,\"#fde0ef\"],[0.5,\"#f7f7f7\"],[0.6,\"#e6f5d0\"],[0.7,\"#b8e186\"],[0.8,\"#7fbc41\"],[0.9,\"#4d9221\"],[1,\"#276419\"]],\"sequential\":[[0.0,\"#0d0887\"],[0.1111111111111111,\"#46039f\"],[0.2222222222222222,\"#7201a8\"],[0.3333333333333333,\"#9c179e\"],[0.4444444444444444,\"#bd3786\"],[0.5555555555555556,\"#d8576b\"],[0.6666666666666666,\"#ed7953\"],[0.7777777777777778,\"#fb9f3a\"],[0.8888888888888888,\"#fdca26\"],[1.0,\"#f0f921\"]],\"sequentialminus\":[[0.0,\"#0d0887\"],[0.1111111111111111,\"#46039f\"],[0.2222222222222222,\"#7201a8\"],[0.3333333333333333,\"#9c179e\"],[0.4444444444444444,\"#bd3786\"],[0.5555555555555556,\"#d8576b\"],[0.6666666666666666,\"#ed7953\"],[0.7777777777777778,\"#fb9f3a\"],[0.8888888888888888,\"#fdca26\"],[1.0,\"#f0f921\"]]},\"colorway\":[\"#636efa\",\"#EF553B\",\"#00cc96\",\"#ab63fa\",\"#FFA15A\",\"#19d3f3\",\"#FF6692\",\"#B6E880\",\"#FF97FF\",\"#FECB52\"],\"font\":{\"color\":\"#2a3f5f\"},\"geo\":{\"bgcolor\":\"white\",\"lakecolor\":\"white\",\"landcolor\":\"#E5ECF6\",\"showlakes\":true,\"showland\":true,\"subunitcolor\":\"white\"},\"hoverlabel\":{\"align\":\"left\"},\"hovermode\":\"closest\",\"mapbox\":{\"style\":\"light\"},\"paper_bgcolor\":\"white\",\"plot_bgcolor\":\"#E5ECF6\",\"polar\":{\"angularaxis\":{\"gridcolor\":\"white\",\"linecolor\":\"white\",\"ticks\":\"\"},\"bgcolor\":\"#E5ECF6\",\"radialaxis\":{\"gridcolor\":\"white\",\"linecolor\":\"white\",\"ticks\":\"\"}},\"scene\":{\"xaxis\":{\"backgroundcolor\":\"#E5ECF6\",\"gridcolor\":\"white\",\"gridwidth\":2,\"linecolor\":\"white\",\"showbackground\":true,\"ticks\":\"\",\"zerolinecolor\":\"white\"},\"yaxis\":{\"backgroundcolor\":\"#E5ECF6\",\"gridcolor\":\"white\",\"gridwidth\":2,\"linecolor\":\"white\",\"showbackground\":true,\"ticks\":\"\",\"zerolinecolor\":\"white\"},\"zaxis\":{\"backgroundcolor\":\"#E5ECF6\",\"gridcolor\":\"white\",\"gridwidth\":2,\"linecolor\":\"white\",\"showbackground\":true,\"ticks\":\"\",\"zerolinecolor\":\"white\"}},\"shapedefaults\":{\"line\":{\"color\":\"#2a3f5f\"}},\"ternary\":{\"aaxis\":{\"gridcolor\":\"white\",\"linecolor\":\"white\",\"ticks\":\"\"},\"baxis\":{\"gridcolor\":\"white\",\"linecolor\":\"white\",\"ticks\":\"\"},\"bgcolor\":\"#E5ECF6\",\"caxis\":{\"gridcolor\":\"white\",\"linecolor\":\"white\",\"ticks\":\"\"}},\"title\":{\"x\":0.05},\"xaxis\":{\"automargin\":true,\"gridcolor\":\"white\",\"linecolor\":\"white\",\"ticks\":\"\",\"title\":{\"standoff\":15},\"zerolinecolor\":\"white\",\"zerolinewidth\":2},\"yaxis\":{\"automargin\":true,\"gridcolor\":\"white\",\"linecolor\":\"white\",\"ticks\":\"\",\"title\":{\"standoff\":15},\"zerolinecolor\":\"white\",\"zerolinewidth\":2}}},\"yaxis2\":{\"anchor\":\"x\",\"gridcolor\":\"#E1E5ED\",\"overlaying\":\"y\",\"showgrid\":true,\"side\":\"right\",\"tickfont\":{\"color\":\"#4D5663\"},\"title\":{\"text\":\"Home Runs\"},\"zerolinecolor\":\"#E1E5ED\"}},                        {\"showLink\": true, \"linkText\": \"Export to plot.ly\", \"plotlyServerURL\": \"https://plot.ly\", \"responsive\": true}                    ).then(function(){\n",
       "                            \n",
       "var gd = document.getElementById('972c70c2-f452-4921-a2fd-2559283ce8a6');\n",
       "var x = new MutationObserver(function (mutations, observer) {{\n",
       "        var display = window.getComputedStyle(gd).display;\n",
       "        if (!display || display === 'none') {{\n",
       "            console.log([gd, 'removed!']);\n",
       "            Plotly.purge(gd);\n",
       "            observer.disconnect();\n",
       "        }}\n",
       "}});\n",
       "\n",
       "// Listen for the removal of the full notebook cells\n",
       "var notebookContainer = gd.closest('#notebook-container');\n",
       "if (notebookContainer) {{\n",
       "    x.observe(notebookContainer, {childList: true});\n",
       "}}\n",
       "\n",
       "// Listen for the clearing of the current output cell\n",
       "var outputEl = gd.closest('.output');\n",
       "if (outputEl) {{\n",
       "    x.observe(outputEl, {childList: true});\n",
       "}}\n",
       "\n",
       "                        })                };                });            </script>        </div>"
      ]
     },
     "metadata": {},
     "output_type": "display_data"
    }
   ],
   "source": [
    "bonds[['yearID', 'HR', 'OBP']].iplot(\n",
    "    x='yearID',\n",
    "    y='OBP',\n",
    "    mode='lines+markers',\n",
    "    secondary_y = 'HR',\n",
    "    secondary_y_title='Home Runs',\n",
    "    opacity=0.8,\n",
    "    size=8,\n",
    "    symbol=1,\n",
    "    xTitle='Year',\n",
    "    yTitle='On-Base Percentage',\n",
    "    title='Barry Bonds OBP and Home Runs by Season')"
   ]
  },
  {
   "cell_type": "markdown",
   "metadata": {},
   "source": [
    "#### Ted Williams"
   ]
  },
  {
   "cell_type": "code",
   "execution_count": 31,
   "metadata": {
    "ExecuteTime": {
     "end_time": "2019-01-19T13:36:34.896528Z",
     "start_time": "2019-01-19T13:36:34.884437Z"
    }
   },
   "outputs": [],
   "source": [
    "will = battingPlayers.loc[(battingPlayers.playerID == 'willite01'),['yearID','HR','OBP']]"
   ]
  },
  {
   "cell_type": "code",
   "execution_count": 32,
   "metadata": {
    "ExecuteTime": {
     "end_time": "2019-01-19T13:36:57.713958Z",
     "start_time": "2019-01-19T13:36:57.553289Z"
    },
    "scrolled": false
   },
   "outputs": [
    {
     "data": {
      "application/vnd.plotly.v1+json": {
       "config": {
        "linkText": "Export to plot.ly",
        "plotlyServerURL": "https://plot.ly",
        "showLink": true
       },
       "data": [
        {
         "line": {
          "color": "rgba(255, 153, 51, 1.0)",
          "dash": "solid",
          "shape": "linear",
          "width": 1.3
         },
         "marker": {
          "size": 8,
          "symbol": 1
         },
         "mode": "lines+markers",
         "name": "OBP",
         "text": "",
         "type": "scatter",
         "x": [
          1939,
          1940,
          1941,
          1942,
          1946,
          1947,
          1948,
          1949,
          1950,
          1951,
          1952,
          1953,
          1954,
          1955,
          1956,
          1957,
          1958,
          1959,
          1960
         ],
         "y": [
          "",
          "",
          "",
          "",
          "",
          "",
          "",
          "",
          "",
          "",
          "",
          "",
          0.513,
          0.496,
          0.479,
          0.526,
          0.458,
          0.372,
          0.451
         ]
        },
        {
         "line": {
          "color": "rgba(55, 128, 191, 1.0)",
          "dash": "solid",
          "shape": "linear",
          "width": 1.3
         },
         "marker": {
          "size": 8,
          "symbol": 1
         },
         "mode": "lines+markers",
         "name": "HR",
         "text": "",
         "type": "scatter",
         "x": [
          1939,
          1940,
          1941,
          1942,
          1946,
          1947,
          1948,
          1949,
          1950,
          1951,
          1952,
          1953,
          1954,
          1955,
          1956,
          1957,
          1958,
          1959,
          1960
         ],
         "xaxis": "x",
         "y": [
          31,
          23,
          37,
          36,
          38,
          32,
          25,
          43,
          28,
          30,
          1,
          13,
          29,
          28,
          24,
          38,
          26,
          10,
          29
         ],
         "yaxis": "y2"
        }
       ],
       "layout": {
        "legend": {
         "bgcolor": "#F5F6F9",
         "font": {
          "color": "#4D5663"
         }
        },
        "paper_bgcolor": "#F5F6F9",
        "plot_bgcolor": "#F5F6F9",
        "template": {
         "data": {
          "bar": [
           {
            "error_x": {
             "color": "#2a3f5f"
            },
            "error_y": {
             "color": "#2a3f5f"
            },
            "marker": {
             "line": {
              "color": "#E5ECF6",
              "width": 0.5
             },
             "pattern": {
              "fillmode": "overlay",
              "size": 10,
              "solidity": 0.2
             }
            },
            "type": "bar"
           }
          ],
          "barpolar": [
           {
            "marker": {
             "line": {
              "color": "#E5ECF6",
              "width": 0.5
             },
             "pattern": {
              "fillmode": "overlay",
              "size": 10,
              "solidity": 0.2
             }
            },
            "type": "barpolar"
           }
          ],
          "carpet": [
           {
            "aaxis": {
             "endlinecolor": "#2a3f5f",
             "gridcolor": "white",
             "linecolor": "white",
             "minorgridcolor": "white",
             "startlinecolor": "#2a3f5f"
            },
            "baxis": {
             "endlinecolor": "#2a3f5f",
             "gridcolor": "white",
             "linecolor": "white",
             "minorgridcolor": "white",
             "startlinecolor": "#2a3f5f"
            },
            "type": "carpet"
           }
          ],
          "choropleth": [
           {
            "colorbar": {
             "outlinewidth": 0,
             "ticks": ""
            },
            "type": "choropleth"
           }
          ],
          "contour": [
           {
            "colorbar": {
             "outlinewidth": 0,
             "ticks": ""
            },
            "colorscale": [
             [
              0,
              "#0d0887"
             ],
             [
              0.1111111111111111,
              "#46039f"
             ],
             [
              0.2222222222222222,
              "#7201a8"
             ],
             [
              0.3333333333333333,
              "#9c179e"
             ],
             [
              0.4444444444444444,
              "#bd3786"
             ],
             [
              0.5555555555555556,
              "#d8576b"
             ],
             [
              0.6666666666666666,
              "#ed7953"
             ],
             [
              0.7777777777777778,
              "#fb9f3a"
             ],
             [
              0.8888888888888888,
              "#fdca26"
             ],
             [
              1,
              "#f0f921"
             ]
            ],
            "type": "contour"
           }
          ],
          "contourcarpet": [
           {
            "colorbar": {
             "outlinewidth": 0,
             "ticks": ""
            },
            "type": "contourcarpet"
           }
          ],
          "heatmap": [
           {
            "colorbar": {
             "outlinewidth": 0,
             "ticks": ""
            },
            "colorscale": [
             [
              0,
              "#0d0887"
             ],
             [
              0.1111111111111111,
              "#46039f"
             ],
             [
              0.2222222222222222,
              "#7201a8"
             ],
             [
              0.3333333333333333,
              "#9c179e"
             ],
             [
              0.4444444444444444,
              "#bd3786"
             ],
             [
              0.5555555555555556,
              "#d8576b"
             ],
             [
              0.6666666666666666,
              "#ed7953"
             ],
             [
              0.7777777777777778,
              "#fb9f3a"
             ],
             [
              0.8888888888888888,
              "#fdca26"
             ],
             [
              1,
              "#f0f921"
             ]
            ],
            "type": "heatmap"
           }
          ],
          "heatmapgl": [
           {
            "colorbar": {
             "outlinewidth": 0,
             "ticks": ""
            },
            "colorscale": [
             [
              0,
              "#0d0887"
             ],
             [
              0.1111111111111111,
              "#46039f"
             ],
             [
              0.2222222222222222,
              "#7201a8"
             ],
             [
              0.3333333333333333,
              "#9c179e"
             ],
             [
              0.4444444444444444,
              "#bd3786"
             ],
             [
              0.5555555555555556,
              "#d8576b"
             ],
             [
              0.6666666666666666,
              "#ed7953"
             ],
             [
              0.7777777777777778,
              "#fb9f3a"
             ],
             [
              0.8888888888888888,
              "#fdca26"
             ],
             [
              1,
              "#f0f921"
             ]
            ],
            "type": "heatmapgl"
           }
          ],
          "histogram": [
           {
            "marker": {
             "pattern": {
              "fillmode": "overlay",
              "size": 10,
              "solidity": 0.2
             }
            },
            "type": "histogram"
           }
          ],
          "histogram2d": [
           {
            "colorbar": {
             "outlinewidth": 0,
             "ticks": ""
            },
            "colorscale": [
             [
              0,
              "#0d0887"
             ],
             [
              0.1111111111111111,
              "#46039f"
             ],
             [
              0.2222222222222222,
              "#7201a8"
             ],
             [
              0.3333333333333333,
              "#9c179e"
             ],
             [
              0.4444444444444444,
              "#bd3786"
             ],
             [
              0.5555555555555556,
              "#d8576b"
             ],
             [
              0.6666666666666666,
              "#ed7953"
             ],
             [
              0.7777777777777778,
              "#fb9f3a"
             ],
             [
              0.8888888888888888,
              "#fdca26"
             ],
             [
              1,
              "#f0f921"
             ]
            ],
            "type": "histogram2d"
           }
          ],
          "histogram2dcontour": [
           {
            "colorbar": {
             "outlinewidth": 0,
             "ticks": ""
            },
            "colorscale": [
             [
              0,
              "#0d0887"
             ],
             [
              0.1111111111111111,
              "#46039f"
             ],
             [
              0.2222222222222222,
              "#7201a8"
             ],
             [
              0.3333333333333333,
              "#9c179e"
             ],
             [
              0.4444444444444444,
              "#bd3786"
             ],
             [
              0.5555555555555556,
              "#d8576b"
             ],
             [
              0.6666666666666666,
              "#ed7953"
             ],
             [
              0.7777777777777778,
              "#fb9f3a"
             ],
             [
              0.8888888888888888,
              "#fdca26"
             ],
             [
              1,
              "#f0f921"
             ]
            ],
            "type": "histogram2dcontour"
           }
          ],
          "mesh3d": [
           {
            "colorbar": {
             "outlinewidth": 0,
             "ticks": ""
            },
            "type": "mesh3d"
           }
          ],
          "parcoords": [
           {
            "line": {
             "colorbar": {
              "outlinewidth": 0,
              "ticks": ""
             }
            },
            "type": "parcoords"
           }
          ],
          "pie": [
           {
            "automargin": true,
            "type": "pie"
           }
          ],
          "scatter": [
           {
            "marker": {
             "colorbar": {
              "outlinewidth": 0,
              "ticks": ""
             }
            },
            "type": "scatter"
           }
          ],
          "scatter3d": [
           {
            "line": {
             "colorbar": {
              "outlinewidth": 0,
              "ticks": ""
             }
            },
            "marker": {
             "colorbar": {
              "outlinewidth": 0,
              "ticks": ""
             }
            },
            "type": "scatter3d"
           }
          ],
          "scattercarpet": [
           {
            "marker": {
             "colorbar": {
              "outlinewidth": 0,
              "ticks": ""
             }
            },
            "type": "scattercarpet"
           }
          ],
          "scattergeo": [
           {
            "marker": {
             "colorbar": {
              "outlinewidth": 0,
              "ticks": ""
             }
            },
            "type": "scattergeo"
           }
          ],
          "scattergl": [
           {
            "marker": {
             "colorbar": {
              "outlinewidth": 0,
              "ticks": ""
             }
            },
            "type": "scattergl"
           }
          ],
          "scattermapbox": [
           {
            "marker": {
             "colorbar": {
              "outlinewidth": 0,
              "ticks": ""
             }
            },
            "type": "scattermapbox"
           }
          ],
          "scatterpolar": [
           {
            "marker": {
             "colorbar": {
              "outlinewidth": 0,
              "ticks": ""
             }
            },
            "type": "scatterpolar"
           }
          ],
          "scatterpolargl": [
           {
            "marker": {
             "colorbar": {
              "outlinewidth": 0,
              "ticks": ""
             }
            },
            "type": "scatterpolargl"
           }
          ],
          "scatterternary": [
           {
            "marker": {
             "colorbar": {
              "outlinewidth": 0,
              "ticks": ""
             }
            },
            "type": "scatterternary"
           }
          ],
          "surface": [
           {
            "colorbar": {
             "outlinewidth": 0,
             "ticks": ""
            },
            "colorscale": [
             [
              0,
              "#0d0887"
             ],
             [
              0.1111111111111111,
              "#46039f"
             ],
             [
              0.2222222222222222,
              "#7201a8"
             ],
             [
              0.3333333333333333,
              "#9c179e"
             ],
             [
              0.4444444444444444,
              "#bd3786"
             ],
             [
              0.5555555555555556,
              "#d8576b"
             ],
             [
              0.6666666666666666,
              "#ed7953"
             ],
             [
              0.7777777777777778,
              "#fb9f3a"
             ],
             [
              0.8888888888888888,
              "#fdca26"
             ],
             [
              1,
              "#f0f921"
             ]
            ],
            "type": "surface"
           }
          ],
          "table": [
           {
            "cells": {
             "fill": {
              "color": "#EBF0F8"
             },
             "line": {
              "color": "white"
             }
            },
            "header": {
             "fill": {
              "color": "#C8D4E3"
             },
             "line": {
              "color": "white"
             }
            },
            "type": "table"
           }
          ]
         },
         "layout": {
          "annotationdefaults": {
           "arrowcolor": "#2a3f5f",
           "arrowhead": 0,
           "arrowwidth": 1
          },
          "autotypenumbers": "strict",
          "coloraxis": {
           "colorbar": {
            "outlinewidth": 0,
            "ticks": ""
           }
          },
          "colorscale": {
           "diverging": [
            [
             0,
             "#8e0152"
            ],
            [
             0.1,
             "#c51b7d"
            ],
            [
             0.2,
             "#de77ae"
            ],
            [
             0.3,
             "#f1b6da"
            ],
            [
             0.4,
             "#fde0ef"
            ],
            [
             0.5,
             "#f7f7f7"
            ],
            [
             0.6,
             "#e6f5d0"
            ],
            [
             0.7,
             "#b8e186"
            ],
            [
             0.8,
             "#7fbc41"
            ],
            [
             0.9,
             "#4d9221"
            ],
            [
             1,
             "#276419"
            ]
           ],
           "sequential": [
            [
             0,
             "#0d0887"
            ],
            [
             0.1111111111111111,
             "#46039f"
            ],
            [
             0.2222222222222222,
             "#7201a8"
            ],
            [
             0.3333333333333333,
             "#9c179e"
            ],
            [
             0.4444444444444444,
             "#bd3786"
            ],
            [
             0.5555555555555556,
             "#d8576b"
            ],
            [
             0.6666666666666666,
             "#ed7953"
            ],
            [
             0.7777777777777778,
             "#fb9f3a"
            ],
            [
             0.8888888888888888,
             "#fdca26"
            ],
            [
             1,
             "#f0f921"
            ]
           ],
           "sequentialminus": [
            [
             0,
             "#0d0887"
            ],
            [
             0.1111111111111111,
             "#46039f"
            ],
            [
             0.2222222222222222,
             "#7201a8"
            ],
            [
             0.3333333333333333,
             "#9c179e"
            ],
            [
             0.4444444444444444,
             "#bd3786"
            ],
            [
             0.5555555555555556,
             "#d8576b"
            ],
            [
             0.6666666666666666,
             "#ed7953"
            ],
            [
             0.7777777777777778,
             "#fb9f3a"
            ],
            [
             0.8888888888888888,
             "#fdca26"
            ],
            [
             1,
             "#f0f921"
            ]
           ]
          },
          "colorway": [
           "#636efa",
           "#EF553B",
           "#00cc96",
           "#ab63fa",
           "#FFA15A",
           "#19d3f3",
           "#FF6692",
           "#B6E880",
           "#FF97FF",
           "#FECB52"
          ],
          "font": {
           "color": "#2a3f5f"
          },
          "geo": {
           "bgcolor": "white",
           "lakecolor": "white",
           "landcolor": "#E5ECF6",
           "showlakes": true,
           "showland": true,
           "subunitcolor": "white"
          },
          "hoverlabel": {
           "align": "left"
          },
          "hovermode": "closest",
          "mapbox": {
           "style": "light"
          },
          "paper_bgcolor": "white",
          "plot_bgcolor": "#E5ECF6",
          "polar": {
           "angularaxis": {
            "gridcolor": "white",
            "linecolor": "white",
            "ticks": ""
           },
           "bgcolor": "#E5ECF6",
           "radialaxis": {
            "gridcolor": "white",
            "linecolor": "white",
            "ticks": ""
           }
          },
          "scene": {
           "xaxis": {
            "backgroundcolor": "#E5ECF6",
            "gridcolor": "white",
            "gridwidth": 2,
            "linecolor": "white",
            "showbackground": true,
            "ticks": "",
            "zerolinecolor": "white"
           },
           "yaxis": {
            "backgroundcolor": "#E5ECF6",
            "gridcolor": "white",
            "gridwidth": 2,
            "linecolor": "white",
            "showbackground": true,
            "ticks": "",
            "zerolinecolor": "white"
           },
           "zaxis": {
            "backgroundcolor": "#E5ECF6",
            "gridcolor": "white",
            "gridwidth": 2,
            "linecolor": "white",
            "showbackground": true,
            "ticks": "",
            "zerolinecolor": "white"
           }
          },
          "shapedefaults": {
           "line": {
            "color": "#2a3f5f"
           }
          },
          "ternary": {
           "aaxis": {
            "gridcolor": "white",
            "linecolor": "white",
            "ticks": ""
           },
           "baxis": {
            "gridcolor": "white",
            "linecolor": "white",
            "ticks": ""
           },
           "bgcolor": "#E5ECF6",
           "caxis": {
            "gridcolor": "white",
            "linecolor": "white",
            "ticks": ""
           }
          },
          "title": {
           "x": 0.05
          },
          "xaxis": {
           "automargin": true,
           "gridcolor": "white",
           "linecolor": "white",
           "ticks": "",
           "title": {
            "standoff": 15
           },
           "zerolinecolor": "white",
           "zerolinewidth": 2
          },
          "yaxis": {
           "automargin": true,
           "gridcolor": "white",
           "linecolor": "white",
           "ticks": "",
           "title": {
            "standoff": 15
           },
           "zerolinecolor": "white",
           "zerolinewidth": 2
          }
         }
        },
        "title": {
         "font": {
          "color": "#4D5663"
         },
         "text": "Ted Williams OBP and Home Runs by Season"
        },
        "xaxis": {
         "gridcolor": "#E1E5ED",
         "showgrid": true,
         "tickfont": {
          "color": "#4D5663"
         },
         "title": {
          "font": {
           "color": "#4D5663"
          },
          "text": "Year"
         },
         "zerolinecolor": "#E1E5ED"
        },
        "yaxis": {
         "gridcolor": "#E1E5ED",
         "showgrid": true,
         "tickfont": {
          "color": "#4D5663"
         },
         "title": {
          "font": {
           "color": "#4D5663"
          },
          "text": "On-Base Percentage"
         },
         "zerolinecolor": "#E1E5ED"
        },
        "yaxis2": {
         "anchor": "x",
         "gridcolor": "#E1E5ED",
         "overlaying": "y",
         "showgrid": true,
         "side": "right",
         "tickfont": {
          "color": "#4D5663"
         },
         "title": {
          "text": "Home Runs"
         },
         "zerolinecolor": "#E1E5ED"
        }
       }
      },
      "text/html": [
       "<div>                            <div id=\"491aba42-53e6-40f3-94cb-5af5662ced8c\" class=\"plotly-graph-div\" style=\"height:525px; width:100%;\"></div>            <script type=\"text/javascript\">                require([\"plotly\"], function(Plotly) {                    window.PLOTLYENV=window.PLOTLYENV || {};\n",
       "                    window.PLOTLYENV.BASE_URL='https://plot.ly';                                    if (document.getElementById(\"491aba42-53e6-40f3-94cb-5af5662ced8c\")) {                    Plotly.newPlot(                        \"491aba42-53e6-40f3-94cb-5af5662ced8c\",                        [{\"line\":{\"color\":\"rgba(255, 153, 51, 1.0)\",\"dash\":\"solid\",\"shape\":\"linear\",\"width\":1.3},\"marker\":{\"size\":8,\"symbol\":1},\"mode\":\"lines+markers\",\"name\":\"OBP\",\"text\":\"\",\"x\":[1939,1940,1941,1942,1946,1947,1948,1949,1950,1951,1952,1953,1954,1955,1956,1957,1958,1959,1960],\"y\":[\"\",\"\",\"\",\"\",\"\",\"\",\"\",\"\",\"\",\"\",\"\",\"\",0.513,0.496,0.479,0.526,0.458,0.372,0.451],\"type\":\"scatter\"},{\"line\":{\"color\":\"rgba(55, 128, 191, 1.0)\",\"dash\":\"solid\",\"shape\":\"linear\",\"width\":1.3},\"marker\":{\"size\":8,\"symbol\":1},\"mode\":\"lines+markers\",\"name\":\"HR\",\"text\":\"\",\"x\":[1939,1940,1941,1942,1946,1947,1948,1949,1950,1951,1952,1953,1954,1955,1956,1957,1958,1959,1960],\"y\":[31,23,37,36,38,32,25,43,28,30,1,13,29,28,24,38,26,10,29],\"type\":\"scatter\",\"xaxis\":\"x\",\"yaxis\":\"y2\"}],                        {\"legend\":{\"bgcolor\":\"#F5F6F9\",\"font\":{\"color\":\"#4D5663\"}},\"paper_bgcolor\":\"#F5F6F9\",\"plot_bgcolor\":\"#F5F6F9\",\"title\":{\"text\":\"Ted Williams OBP and Home Runs by Season\",\"font\":{\"color\":\"#4D5663\"}},\"xaxis\":{\"gridcolor\":\"#E1E5ED\",\"showgrid\":true,\"tickfont\":{\"color\":\"#4D5663\"},\"title\":{\"text\":\"Year\",\"font\":{\"color\":\"#4D5663\"}},\"zerolinecolor\":\"#E1E5ED\"},\"yaxis\":{\"gridcolor\":\"#E1E5ED\",\"showgrid\":true,\"tickfont\":{\"color\":\"#4D5663\"},\"title\":{\"text\":\"On-Base Percentage\",\"font\":{\"color\":\"#4D5663\"}},\"zerolinecolor\":\"#E1E5ED\"},\"template\":{\"data\":{\"bar\":[{\"error_x\":{\"color\":\"#2a3f5f\"},\"error_y\":{\"color\":\"#2a3f5f\"},\"marker\":{\"line\":{\"color\":\"#E5ECF6\",\"width\":0.5},\"pattern\":{\"fillmode\":\"overlay\",\"size\":10,\"solidity\":0.2}},\"type\":\"bar\"}],\"barpolar\":[{\"marker\":{\"line\":{\"color\":\"#E5ECF6\",\"width\":0.5},\"pattern\":{\"fillmode\":\"overlay\",\"size\":10,\"solidity\":0.2}},\"type\":\"barpolar\"}],\"carpet\":[{\"aaxis\":{\"endlinecolor\":\"#2a3f5f\",\"gridcolor\":\"white\",\"linecolor\":\"white\",\"minorgridcolor\":\"white\",\"startlinecolor\":\"#2a3f5f\"},\"baxis\":{\"endlinecolor\":\"#2a3f5f\",\"gridcolor\":\"white\",\"linecolor\":\"white\",\"minorgridcolor\":\"white\",\"startlinecolor\":\"#2a3f5f\"},\"type\":\"carpet\"}],\"choropleth\":[{\"colorbar\":{\"outlinewidth\":0,\"ticks\":\"\"},\"type\":\"choropleth\"}],\"contour\":[{\"colorbar\":{\"outlinewidth\":0,\"ticks\":\"\"},\"colorscale\":[[0.0,\"#0d0887\"],[0.1111111111111111,\"#46039f\"],[0.2222222222222222,\"#7201a8\"],[0.3333333333333333,\"#9c179e\"],[0.4444444444444444,\"#bd3786\"],[0.5555555555555556,\"#d8576b\"],[0.6666666666666666,\"#ed7953\"],[0.7777777777777778,\"#fb9f3a\"],[0.8888888888888888,\"#fdca26\"],[1.0,\"#f0f921\"]],\"type\":\"contour\"}],\"contourcarpet\":[{\"colorbar\":{\"outlinewidth\":0,\"ticks\":\"\"},\"type\":\"contourcarpet\"}],\"heatmap\":[{\"colorbar\":{\"outlinewidth\":0,\"ticks\":\"\"},\"colorscale\":[[0.0,\"#0d0887\"],[0.1111111111111111,\"#46039f\"],[0.2222222222222222,\"#7201a8\"],[0.3333333333333333,\"#9c179e\"],[0.4444444444444444,\"#bd3786\"],[0.5555555555555556,\"#d8576b\"],[0.6666666666666666,\"#ed7953\"],[0.7777777777777778,\"#fb9f3a\"],[0.8888888888888888,\"#fdca26\"],[1.0,\"#f0f921\"]],\"type\":\"heatmap\"}],\"heatmapgl\":[{\"colorbar\":{\"outlinewidth\":0,\"ticks\":\"\"},\"colorscale\":[[0.0,\"#0d0887\"],[0.1111111111111111,\"#46039f\"],[0.2222222222222222,\"#7201a8\"],[0.3333333333333333,\"#9c179e\"],[0.4444444444444444,\"#bd3786\"],[0.5555555555555556,\"#d8576b\"],[0.6666666666666666,\"#ed7953\"],[0.7777777777777778,\"#fb9f3a\"],[0.8888888888888888,\"#fdca26\"],[1.0,\"#f0f921\"]],\"type\":\"heatmapgl\"}],\"histogram\":[{\"marker\":{\"pattern\":{\"fillmode\":\"overlay\",\"size\":10,\"solidity\":0.2}},\"type\":\"histogram\"}],\"histogram2d\":[{\"colorbar\":{\"outlinewidth\":0,\"ticks\":\"\"},\"colorscale\":[[0.0,\"#0d0887\"],[0.1111111111111111,\"#46039f\"],[0.2222222222222222,\"#7201a8\"],[0.3333333333333333,\"#9c179e\"],[0.4444444444444444,\"#bd3786\"],[0.5555555555555556,\"#d8576b\"],[0.6666666666666666,\"#ed7953\"],[0.7777777777777778,\"#fb9f3a\"],[0.8888888888888888,\"#fdca26\"],[1.0,\"#f0f921\"]],\"type\":\"histogram2d\"}],\"histogram2dcontour\":[{\"colorbar\":{\"outlinewidth\":0,\"ticks\":\"\"},\"colorscale\":[[0.0,\"#0d0887\"],[0.1111111111111111,\"#46039f\"],[0.2222222222222222,\"#7201a8\"],[0.3333333333333333,\"#9c179e\"],[0.4444444444444444,\"#bd3786\"],[0.5555555555555556,\"#d8576b\"],[0.6666666666666666,\"#ed7953\"],[0.7777777777777778,\"#fb9f3a\"],[0.8888888888888888,\"#fdca26\"],[1.0,\"#f0f921\"]],\"type\":\"histogram2dcontour\"}],\"mesh3d\":[{\"colorbar\":{\"outlinewidth\":0,\"ticks\":\"\"},\"type\":\"mesh3d\"}],\"parcoords\":[{\"line\":{\"colorbar\":{\"outlinewidth\":0,\"ticks\":\"\"}},\"type\":\"parcoords\"}],\"pie\":[{\"automargin\":true,\"type\":\"pie\"}],\"scatter\":[{\"marker\":{\"colorbar\":{\"outlinewidth\":0,\"ticks\":\"\"}},\"type\":\"scatter\"}],\"scatter3d\":[{\"line\":{\"colorbar\":{\"outlinewidth\":0,\"ticks\":\"\"}},\"marker\":{\"colorbar\":{\"outlinewidth\":0,\"ticks\":\"\"}},\"type\":\"scatter3d\"}],\"scattercarpet\":[{\"marker\":{\"colorbar\":{\"outlinewidth\":0,\"ticks\":\"\"}},\"type\":\"scattercarpet\"}],\"scattergeo\":[{\"marker\":{\"colorbar\":{\"outlinewidth\":0,\"ticks\":\"\"}},\"type\":\"scattergeo\"}],\"scattergl\":[{\"marker\":{\"colorbar\":{\"outlinewidth\":0,\"ticks\":\"\"}},\"type\":\"scattergl\"}],\"scattermapbox\":[{\"marker\":{\"colorbar\":{\"outlinewidth\":0,\"ticks\":\"\"}},\"type\":\"scattermapbox\"}],\"scatterpolar\":[{\"marker\":{\"colorbar\":{\"outlinewidth\":0,\"ticks\":\"\"}},\"type\":\"scatterpolar\"}],\"scatterpolargl\":[{\"marker\":{\"colorbar\":{\"outlinewidth\":0,\"ticks\":\"\"}},\"type\":\"scatterpolargl\"}],\"scatterternary\":[{\"marker\":{\"colorbar\":{\"outlinewidth\":0,\"ticks\":\"\"}},\"type\":\"scatterternary\"}],\"surface\":[{\"colorbar\":{\"outlinewidth\":0,\"ticks\":\"\"},\"colorscale\":[[0.0,\"#0d0887\"],[0.1111111111111111,\"#46039f\"],[0.2222222222222222,\"#7201a8\"],[0.3333333333333333,\"#9c179e\"],[0.4444444444444444,\"#bd3786\"],[0.5555555555555556,\"#d8576b\"],[0.6666666666666666,\"#ed7953\"],[0.7777777777777778,\"#fb9f3a\"],[0.8888888888888888,\"#fdca26\"],[1.0,\"#f0f921\"]],\"type\":\"surface\"}],\"table\":[{\"cells\":{\"fill\":{\"color\":\"#EBF0F8\"},\"line\":{\"color\":\"white\"}},\"header\":{\"fill\":{\"color\":\"#C8D4E3\"},\"line\":{\"color\":\"white\"}},\"type\":\"table\"}]},\"layout\":{\"annotationdefaults\":{\"arrowcolor\":\"#2a3f5f\",\"arrowhead\":0,\"arrowwidth\":1},\"autotypenumbers\":\"strict\",\"coloraxis\":{\"colorbar\":{\"outlinewidth\":0,\"ticks\":\"\"}},\"colorscale\":{\"diverging\":[[0,\"#8e0152\"],[0.1,\"#c51b7d\"],[0.2,\"#de77ae\"],[0.3,\"#f1b6da\"],[0.4,\"#fde0ef\"],[0.5,\"#f7f7f7\"],[0.6,\"#e6f5d0\"],[0.7,\"#b8e186\"],[0.8,\"#7fbc41\"],[0.9,\"#4d9221\"],[1,\"#276419\"]],\"sequential\":[[0.0,\"#0d0887\"],[0.1111111111111111,\"#46039f\"],[0.2222222222222222,\"#7201a8\"],[0.3333333333333333,\"#9c179e\"],[0.4444444444444444,\"#bd3786\"],[0.5555555555555556,\"#d8576b\"],[0.6666666666666666,\"#ed7953\"],[0.7777777777777778,\"#fb9f3a\"],[0.8888888888888888,\"#fdca26\"],[1.0,\"#f0f921\"]],\"sequentialminus\":[[0.0,\"#0d0887\"],[0.1111111111111111,\"#46039f\"],[0.2222222222222222,\"#7201a8\"],[0.3333333333333333,\"#9c179e\"],[0.4444444444444444,\"#bd3786\"],[0.5555555555555556,\"#d8576b\"],[0.6666666666666666,\"#ed7953\"],[0.7777777777777778,\"#fb9f3a\"],[0.8888888888888888,\"#fdca26\"],[1.0,\"#f0f921\"]]},\"colorway\":[\"#636efa\",\"#EF553B\",\"#00cc96\",\"#ab63fa\",\"#FFA15A\",\"#19d3f3\",\"#FF6692\",\"#B6E880\",\"#FF97FF\",\"#FECB52\"],\"font\":{\"color\":\"#2a3f5f\"},\"geo\":{\"bgcolor\":\"white\",\"lakecolor\":\"white\",\"landcolor\":\"#E5ECF6\",\"showlakes\":true,\"showland\":true,\"subunitcolor\":\"white\"},\"hoverlabel\":{\"align\":\"left\"},\"hovermode\":\"closest\",\"mapbox\":{\"style\":\"light\"},\"paper_bgcolor\":\"white\",\"plot_bgcolor\":\"#E5ECF6\",\"polar\":{\"angularaxis\":{\"gridcolor\":\"white\",\"linecolor\":\"white\",\"ticks\":\"\"},\"bgcolor\":\"#E5ECF6\",\"radialaxis\":{\"gridcolor\":\"white\",\"linecolor\":\"white\",\"ticks\":\"\"}},\"scene\":{\"xaxis\":{\"backgroundcolor\":\"#E5ECF6\",\"gridcolor\":\"white\",\"gridwidth\":2,\"linecolor\":\"white\",\"showbackground\":true,\"ticks\":\"\",\"zerolinecolor\":\"white\"},\"yaxis\":{\"backgroundcolor\":\"#E5ECF6\",\"gridcolor\":\"white\",\"gridwidth\":2,\"linecolor\":\"white\",\"showbackground\":true,\"ticks\":\"\",\"zerolinecolor\":\"white\"},\"zaxis\":{\"backgroundcolor\":\"#E5ECF6\",\"gridcolor\":\"white\",\"gridwidth\":2,\"linecolor\":\"white\",\"showbackground\":true,\"ticks\":\"\",\"zerolinecolor\":\"white\"}},\"shapedefaults\":{\"line\":{\"color\":\"#2a3f5f\"}},\"ternary\":{\"aaxis\":{\"gridcolor\":\"white\",\"linecolor\":\"white\",\"ticks\":\"\"},\"baxis\":{\"gridcolor\":\"white\",\"linecolor\":\"white\",\"ticks\":\"\"},\"bgcolor\":\"#E5ECF6\",\"caxis\":{\"gridcolor\":\"white\",\"linecolor\":\"white\",\"ticks\":\"\"}},\"title\":{\"x\":0.05},\"xaxis\":{\"automargin\":true,\"gridcolor\":\"white\",\"linecolor\":\"white\",\"ticks\":\"\",\"title\":{\"standoff\":15},\"zerolinecolor\":\"white\",\"zerolinewidth\":2},\"yaxis\":{\"automargin\":true,\"gridcolor\":\"white\",\"linecolor\":\"white\",\"ticks\":\"\",\"title\":{\"standoff\":15},\"zerolinecolor\":\"white\",\"zerolinewidth\":2}}},\"yaxis2\":{\"anchor\":\"x\",\"gridcolor\":\"#E1E5ED\",\"overlaying\":\"y\",\"showgrid\":true,\"side\":\"right\",\"tickfont\":{\"color\":\"#4D5663\"},\"title\":{\"text\":\"Home Runs\"},\"zerolinecolor\":\"#E1E5ED\"}},                        {\"showLink\": true, \"linkText\": \"Export to plot.ly\", \"plotlyServerURL\": \"https://plot.ly\", \"responsive\": true}                    ).then(function(){\n",
       "                            \n",
       "var gd = document.getElementById('491aba42-53e6-40f3-94cb-5af5662ced8c');\n",
       "var x = new MutationObserver(function (mutations, observer) {{\n",
       "        var display = window.getComputedStyle(gd).display;\n",
       "        if (!display || display === 'none') {{\n",
       "            console.log([gd, 'removed!']);\n",
       "            Plotly.purge(gd);\n",
       "            observer.disconnect();\n",
       "        }}\n",
       "}});\n",
       "\n",
       "// Listen for the removal of the full notebook cells\n",
       "var notebookContainer = gd.closest('#notebook-container');\n",
       "if (notebookContainer) {{\n",
       "    x.observe(notebookContainer, {childList: true});\n",
       "}}\n",
       "\n",
       "// Listen for the clearing of the current output cell\n",
       "var outputEl = gd.closest('.output');\n",
       "if (outputEl) {{\n",
       "    x.observe(outputEl, {childList: true});\n",
       "}}\n",
       "\n",
       "                        })                };                });            </script>        </div>"
      ]
     },
     "metadata": {},
     "output_type": "display_data"
    }
   ],
   "source": [
    "will[['yearID', 'HR', 'OBP']].iplot(\n",
    "    x='yearID',\n",
    "    y='OBP',\n",
    "    mode='lines+markers',\n",
    "    secondary_y = 'HR',\n",
    "    secondary_y_title='Home Runs',\n",
    "    opacity=0.8,\n",
    "    size=8,\n",
    "    symbol=1,\n",
    "    xTitle='Year',\n",
    "    yTitle='On-Base Percentage',\n",
    "    title='Ted Williams OBP and Home Runs by Season')"
   ]
  },
  {
   "cell_type": "markdown",
   "metadata": {},
   "source": [
    "## Why doesn't Ted Williams have an OBP prior to the 1954 season?"
   ]
  },
  {
   "cell_type": "code",
   "execution_count": 33,
   "metadata": {
    "ExecuteTime": {
     "end_time": "2019-01-19T13:43:01.947666Z",
     "start_time": "2019-01-19T13:43:01.927601Z"
    }
   },
   "outputs": [
    {
     "data": {
      "text/html": [
       "<div>\n",
       "<style scoped>\n",
       "    .dataframe tbody tr th:only-of-type {\n",
       "        vertical-align: middle;\n",
       "    }\n",
       "\n",
       "    .dataframe tbody tr th {\n",
       "        vertical-align: top;\n",
       "    }\n",
       "\n",
       "    .dataframe thead th {\n",
       "        text-align: right;\n",
       "    }\n",
       "</style>\n",
       "<table border=\"1\" class=\"dataframe\">\n",
       "  <thead>\n",
       "    <tr style=\"text-align: right;\">\n",
       "      <th></th>\n",
       "      <th>yearID</th>\n",
       "      <th>AB</th>\n",
       "      <th>BB</th>\n",
       "      <th>H</th>\n",
       "      <th>SF</th>\n",
       "      <th>HBP</th>\n",
       "    </tr>\n",
       "  </thead>\n",
       "  <tbody>\n",
       "    <tr>\n",
       "      <th>31442</th>\n",
       "      <td>1939</td>\n",
       "      <td>565</td>\n",
       "      <td>107</td>\n",
       "      <td>185</td>\n",
       "      <td>NaN</td>\n",
       "      <td>2.0</td>\n",
       "    </tr>\n",
       "    <tr>\n",
       "      <th>31443</th>\n",
       "      <td>1940</td>\n",
       "      <td>561</td>\n",
       "      <td>96</td>\n",
       "      <td>193</td>\n",
       "      <td>NaN</td>\n",
       "      <td>3.0</td>\n",
       "    </tr>\n",
       "    <tr>\n",
       "      <th>31444</th>\n",
       "      <td>1941</td>\n",
       "      <td>456</td>\n",
       "      <td>147</td>\n",
       "      <td>185</td>\n",
       "      <td>NaN</td>\n",
       "      <td>3.0</td>\n",
       "    </tr>\n",
       "    <tr>\n",
       "      <th>31445</th>\n",
       "      <td>1942</td>\n",
       "      <td>522</td>\n",
       "      <td>145</td>\n",
       "      <td>186</td>\n",
       "      <td>NaN</td>\n",
       "      <td>4.0</td>\n",
       "    </tr>\n",
       "    <tr>\n",
       "      <th>31446</th>\n",
       "      <td>1946</td>\n",
       "      <td>514</td>\n",
       "      <td>156</td>\n",
       "      <td>176</td>\n",
       "      <td>NaN</td>\n",
       "      <td>2.0</td>\n",
       "    </tr>\n",
       "    <tr>\n",
       "      <th>31447</th>\n",
       "      <td>1947</td>\n",
       "      <td>528</td>\n",
       "      <td>162</td>\n",
       "      <td>181</td>\n",
       "      <td>NaN</td>\n",
       "      <td>2.0</td>\n",
       "    </tr>\n",
       "    <tr>\n",
       "      <th>31448</th>\n",
       "      <td>1948</td>\n",
       "      <td>509</td>\n",
       "      <td>126</td>\n",
       "      <td>188</td>\n",
       "      <td>NaN</td>\n",
       "      <td>3.0</td>\n",
       "    </tr>\n",
       "    <tr>\n",
       "      <th>31449</th>\n",
       "      <td>1949</td>\n",
       "      <td>566</td>\n",
       "      <td>162</td>\n",
       "      <td>194</td>\n",
       "      <td>NaN</td>\n",
       "      <td>2.0</td>\n",
       "    </tr>\n",
       "    <tr>\n",
       "      <th>31450</th>\n",
       "      <td>1950</td>\n",
       "      <td>334</td>\n",
       "      <td>82</td>\n",
       "      <td>106</td>\n",
       "      <td>NaN</td>\n",
       "      <td>0.0</td>\n",
       "    </tr>\n",
       "    <tr>\n",
       "      <th>31451</th>\n",
       "      <td>1951</td>\n",
       "      <td>531</td>\n",
       "      <td>144</td>\n",
       "      <td>169</td>\n",
       "      <td>NaN</td>\n",
       "      <td>0.0</td>\n",
       "    </tr>\n",
       "    <tr>\n",
       "      <th>31452</th>\n",
       "      <td>1952</td>\n",
       "      <td>10</td>\n",
       "      <td>2</td>\n",
       "      <td>4</td>\n",
       "      <td>NaN</td>\n",
       "      <td>0.0</td>\n",
       "    </tr>\n",
       "    <tr>\n",
       "      <th>31453</th>\n",
       "      <td>1953</td>\n",
       "      <td>91</td>\n",
       "      <td>19</td>\n",
       "      <td>37</td>\n",
       "      <td>NaN</td>\n",
       "      <td>0.0</td>\n",
       "    </tr>\n",
       "    <tr>\n",
       "      <th>31454</th>\n",
       "      <td>1954</td>\n",
       "      <td>386</td>\n",
       "      <td>136</td>\n",
       "      <td>133</td>\n",
       "      <td>3.0</td>\n",
       "      <td>1.0</td>\n",
       "    </tr>\n",
       "    <tr>\n",
       "      <th>31455</th>\n",
       "      <td>1955</td>\n",
       "      <td>320</td>\n",
       "      <td>91</td>\n",
       "      <td>114</td>\n",
       "      <td>4.0</td>\n",
       "      <td>2.0</td>\n",
       "    </tr>\n",
       "    <tr>\n",
       "      <th>31456</th>\n",
       "      <td>1956</td>\n",
       "      <td>400</td>\n",
       "      <td>102</td>\n",
       "      <td>138</td>\n",
       "      <td>0.0</td>\n",
       "      <td>1.0</td>\n",
       "    </tr>\n",
       "    <tr>\n",
       "      <th>31457</th>\n",
       "      <td>1957</td>\n",
       "      <td>420</td>\n",
       "      <td>119</td>\n",
       "      <td>163</td>\n",
       "      <td>2.0</td>\n",
       "      <td>5.0</td>\n",
       "    </tr>\n",
       "    <tr>\n",
       "      <th>31458</th>\n",
       "      <td>1958</td>\n",
       "      <td>411</td>\n",
       "      <td>98</td>\n",
       "      <td>135</td>\n",
       "      <td>4.0</td>\n",
       "      <td>4.0</td>\n",
       "    </tr>\n",
       "    <tr>\n",
       "      <th>31459</th>\n",
       "      <td>1959</td>\n",
       "      <td>272</td>\n",
       "      <td>52</td>\n",
       "      <td>69</td>\n",
       "      <td>5.0</td>\n",
       "      <td>2.0</td>\n",
       "    </tr>\n",
       "    <tr>\n",
       "      <th>31460</th>\n",
       "      <td>1960</td>\n",
       "      <td>310</td>\n",
       "      <td>75</td>\n",
       "      <td>98</td>\n",
       "      <td>2.0</td>\n",
       "      <td>3.0</td>\n",
       "    </tr>\n",
       "  </tbody>\n",
       "</table>\n",
       "</div>"
      ],
      "text/plain": [
       "       yearID   AB   BB    H   SF  HBP\n",
       "31442    1939  565  107  185  NaN  2.0\n",
       "31443    1940  561   96  193  NaN  3.0\n",
       "31444    1941  456  147  185  NaN  3.0\n",
       "31445    1942  522  145  186  NaN  4.0\n",
       "31446    1946  514  156  176  NaN  2.0\n",
       "31447    1947  528  162  181  NaN  2.0\n",
       "31448    1948  509  126  188  NaN  3.0\n",
       "31449    1949  566  162  194  NaN  2.0\n",
       "31450    1950  334   82  106  NaN  0.0\n",
       "31451    1951  531  144  169  NaN  0.0\n",
       "31452    1952   10    2    4  NaN  0.0\n",
       "31453    1953   91   19   37  NaN  0.0\n",
       "31454    1954  386  136  133  3.0  1.0\n",
       "31455    1955  320   91  114  4.0  2.0\n",
       "31456    1956  400  102  138  0.0  1.0\n",
       "31457    1957  420  119  163  2.0  5.0\n",
       "31458    1958  411   98  135  4.0  4.0\n",
       "31459    1959  272   52   69  5.0  2.0\n",
       "31460    1960  310   75   98  2.0  3.0"
      ]
     },
     "execution_count": 33,
     "metadata": {},
     "output_type": "execute_result"
    }
   ],
   "source": [
    "battingPlayers.loc[(battingPlayers.playerID == 'willite01'),['yearID','AB','BB','H','SF','HBP']].sort_values(\"yearID\")"
   ]
  },
  {
   "cell_type": "markdown",
   "metadata": {},
   "source": [
    "Batters have not been charged with a time at-bat for a sacrifice hit since 1893, but baseball has changed the sacrifice fly rule multiple times. The sacrifice fly as a statistical category was instituted in 1908, only to be discontinued in 1931. The rule was again adopted in 1939, only to be eliminated again in 1940, before being adopted for the last time in 1954.<br>\n",
    "https://en.wikipedia.org/wiki/Sacrifice_fly\n"
   ]
  },
  {
   "cell_type": "code",
   "execution_count": null,
   "metadata": {},
   "outputs": [],
   "source": []
  },
  {
   "cell_type": "code",
   "execution_count": null,
   "metadata": {},
   "outputs": [],
   "source": []
  },
  {
   "cell_type": "code",
   "execution_count": null,
   "metadata": {},
   "outputs": [],
   "source": []
  }
 ],
 "metadata": {
  "interpreter": {
   "hash": "a1712764871546fa855d34ccca62c09402df99c79a58a83cbd53e624be90352f"
  },
  "kernelspec": {
   "display_name": "Python 3.8.3 64-bit ('base': conda)",
   "name": "python3"
  },
  "language_info": {
   "codemirror_mode": {
    "name": "ipython",
    "version": 3
   },
   "file_extension": ".py",
   "mimetype": "text/x-python",
   "name": "python",
   "nbconvert_exporter": "python",
   "pygments_lexer": "ipython3",
   "version": "3.8.3"
  },
  "varInspector": {
   "cols": {
    "lenName": 16,
    "lenType": 16,
    "lenVar": 40
   },
   "kernels_config": {
    "python": {
     "delete_cmd_postfix": "",
     "delete_cmd_prefix": "del ",
     "library": "var_list.py",
     "varRefreshCmd": "print(var_dic_list())"
    },
    "r": {
     "delete_cmd_postfix": ") ",
     "delete_cmd_prefix": "rm(",
     "library": "var_list.r",
     "varRefreshCmd": "cat(var_dic_list()) "
    }
   },
   "types_to_exclude": [
    "module",
    "function",
    "builtin_function_or_method",
    "instance",
    "_Feature"
   ],
   "window_display": false
  }
 },
 "nbformat": 4,
 "nbformat_minor": 2
}
